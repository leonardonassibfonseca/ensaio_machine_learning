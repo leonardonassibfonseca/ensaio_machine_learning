{
 "cells": [
  {
   "cell_type": "markdown",
   "id": "7b8d8752-fde9-4ee7-8d4b-51bb1b8aabcd",
   "metadata": {
    "tags": []
   },
   "source": [
    "# Ensaio Agrupamento"
   ]
  },
  {
   "cell_type": "markdown",
   "id": "fcbb2ae1-af42-4e51-b6a2-121de21b2263",
   "metadata": {
    "jp-MarkdownHeadingCollapsed": true,
    "tags": []
   },
   "source": [
    "### Importando as bibliotécas"
   ]
  },
  {
   "cell_type": "code",
   "execution_count": 50,
   "id": "fbd3a2e6-c1f9-4482-aa2c-0707d004caa2",
   "metadata": {
    "tags": []
   },
   "outputs": [],
   "source": [
    "import pandas as pd\n",
    "from sklearn.cluster import AffinityPropagation\n",
    "from sklearn import metrics as mt\n",
    "from sklearn import cluster as ct\n",
    "import numpy as np"
   ]
  },
  {
   "cell_type": "markdown",
   "id": "e46efe45-ecc3-4a28-8ab3-b1733fd1ba18",
   "metadata": {
    "jp-MarkdownHeadingCollapsed": true,
    "tags": []
   },
   "source": [
    "### Carregando o Dataset"
   ]
  },
  {
   "cell_type": "code",
   "execution_count": 51,
   "id": "99d08b4f-b7d3-4ee0-bbed-3d2beaa52691",
   "metadata": {
    "tags": []
   },
   "outputs": [],
   "source": [
    "dataset_x = '../Projeto_aluno/Ensaio_clusterizacao/X_dataset.csv'\n",
    "\n",
    "x_dados = pd.read_csv (dataset_x)"
   ]
  },
  {
   "cell_type": "markdown",
   "id": "08017ae5-5abb-45db-8ba4-548b4048bb5a",
   "metadata": {
    "jp-MarkdownHeadingCollapsed": true,
    "tags": []
   },
   "source": [
    "## Algoritmo K-Means"
   ]
  },
  {
   "cell_type": "markdown",
   "id": "d16cb2e9-bc67-4695-bbfd-b63b5b419f49",
   "metadata": {
    "tags": []
   },
   "source": [
    "### Treinando o algoritmo"
   ]
  },
  {
   "cell_type": "markdown",
   "id": "a69e3f8c-88c7-4133-bf65-de656a9ea508",
   "metadata": {
    "tags": []
   },
   "source": [
    "#### Dados"
   ]
  },
  {
   "cell_type": "code",
   "execution_count": 52,
   "id": "08c5a36c-ba6f-4b66-b230-69d2b8796f36",
   "metadata": {
    "tags": []
   },
   "outputs": [
    {
     "name": "stdout",
     "output_type": "stream",
     "text": [
      "n_clusters -> 2 a média da Silueta: 0.213219480988304\n",
      "n_clusters -> 3 a média da Silueta: 0.2331050172234707\n",
      "n_clusters -> 4 a média da Silueta: 0.2184278488578188\n",
      "n_clusters -> 5 a média da Silueta: 0.18746853007839204\n",
      "n_clusters -> 6 a média da Silueta: 0.19798526218796272\n",
      "n_clusters -> 7 a média da Silueta: 0.21728298677207455\n",
      "n_clusters -> 8 a média da Silueta: 0.18297094267171116\n",
      "n_clusters -> 9 a média da Silueta: 0.18603557273452226\n",
      "n_clusters -> 10 a média da Silueta: 0.18295061444904828\n",
      "n_clusters -> 11 a média da Silueta: 0.17020414485132615\n",
      "n_clusters -> 12 a média da Silueta: 0.16601342772107397\n",
      "n_clusters -> 13 a média da Silueta: 0.16026688132564157\n",
      "n_clusters -> 14 a média da Silueta: 0.19732331169790546\n",
      "n_clusters -> 15 a média da Silueta: 0.16286670972394104\n",
      "n_clusters -> 16 a média da Silueta: 0.15324205468955104\n",
      "n_clusters -> 17 a média da Silueta: 0.17377640102783046\n",
      "n_clusters -> 18 a média da Silueta: 0.1791034196447353\n"
     ]
    }
   ],
   "source": [
    "n_clusters = np.arange(2, 19, 1) #Assim as interações já ficam dentro de uma lista\n",
    "\n",
    "lista_silueta = list()\n",
    "\n",
    "for c in n_clusters:\n",
    "    #Define o modelo\n",
    "    modelo = ct.KMeans(n_clusters = c,\n",
    "                       init = 'random',\n",
    "                       n_init = 10,\n",
    "                       random_state = 0)#Criando um objeto treinavel e definindo o parâmetro\n",
    "\n",
    "    rotulos = modelo.fit_predict(x_dados)#Modelo sendo treinado\n",
    "\n",
    "    #Testando a performance do modelo\n",
    "    performance = mt.silhouette_score(x_dados, rotulos)#Medindo a acurácia do rótulo e do valor predito\n",
    "    \n",
    "    lista_silueta.append(performance)\n",
    "    \n",
    "    print('n_clusters -> {} a média da Silueta: {}'.format(c, performance))"
   ]
  },
  {
   "cell_type": "code",
   "execution_count": 53,
   "id": "4b09c6e7-8f66-4ff6-8f6d-da8311cf3be8",
   "metadata": {
    "tags": []
   },
   "outputs": [
    {
     "data": {
      "text/html": [
       "<div>\n",
       "<style scoped>\n",
       "    .dataframe tbody tr th:only-of-type {\n",
       "        vertical-align: middle;\n",
       "    }\n",
       "\n",
       "    .dataframe tbody tr th {\n",
       "        vertical-align: top;\n",
       "    }\n",
       "\n",
       "    .dataframe thead th {\n",
       "        text-align: right;\n",
       "    }\n",
       "</style>\n",
       "<table border=\"1\" class=\"dataframe\">\n",
       "  <thead>\n",
       "    <tr style=\"text-align: right;\">\n",
       "      <th></th>\n",
       "      <th>algoritmo</th>\n",
       "      <th>silueta</th>\n",
       "    </tr>\n",
       "  </thead>\n",
       "  <tbody>\n",
       "    <tr>\n",
       "      <th>0</th>\n",
       "      <td>k-means</td>\n",
       "      <td>0.233105</td>\n",
       "    </tr>\n",
       "  </tbody>\n",
       "</table>\n",
       "</div>"
      ],
      "text/plain": [
       "  algoritmo   silueta\n",
       "0   k-means  0.233105"
      ]
     },
     "execution_count": 53,
     "metadata": {},
     "output_type": "execute_result"
    }
   ],
   "source": [
    "n_clusters = np.argmax(lista_silueta) + 2   \n",
    "    \n",
    "modelo = ct.KMeans(n_clusters = n_clusters,\n",
    "                   init = 'random',\n",
    "                   n_init = 10,\n",
    "                   random_state = 0)#Criando um objeto treinavel e definindo o parâmetro\n",
    "\n",
    "rotulos = modelo.fit_predict(x_dados)#Modelo sendo treinado\n",
    "\n",
    "#Testando a performance do modelo\n",
    "performance = mt.silhouette_score(x_dados, rotulos)#Medindo a acurácia do rótulo e do valor predito\n",
    "        \n",
    "resultado_kmeans = pd.DataFrame(np.array([performance])).T\n",
    "resultado_kmeans = resultado_kmeans.rename(columns = {0: 'silueta'})\n",
    "resultado_kmeans.insert(0, 'algoritmo', 'k-means')\n",
    "resultado_kmeans"
   ]
  },
  {
   "cell_type": "markdown",
   "id": "2262fdb7-7229-43f6-b0b8-3db6f9fafce8",
   "metadata": {
    "jp-MarkdownHeadingCollapsed": true,
    "tags": []
   },
   "source": [
    "## Algoritmo Affinity Propagation"
   ]
  },
  {
   "cell_type": "markdown",
   "id": "4249b63d-40c0-463a-8fe4-74cadb3e58f1",
   "metadata": {},
   "source": [
    "#### Dados"
   ]
  },
  {
   "cell_type": "code",
   "execution_count": 54,
   "id": "4122717e-048f-4e0c-b4d7-1330138336b2",
   "metadata": {},
   "outputs": [
    {
     "name": "stdout",
     "output_type": "stream",
     "text": [
      "n_clusters -> -1 a média da Silueta: 0.04716506641341799\n",
      "n_clusters -> -2 a média da Silueta: 0.12985791361298218\n",
      "n_clusters -> -3 a média da Silueta: 0.15514634887024178\n",
      "n_clusters -> -4 a média da Silueta: 0.156878955103719\n"
     ]
    },
    {
     "name": "stderr",
     "output_type": "stream",
     "text": [
      "C:\\Users\\Leonardo\\AppData\\Local\\Programs\\Python\\Python311\\Lib\\site-packages\\sklearn\\cluster\\_affinity_propagation.py:142: ConvergenceWarning: Affinity propagation did not converge, this model may return degenerate cluster centers and labels.\n",
      "  warnings.warn(\n"
     ]
    },
    {
     "name": "stdout",
     "output_type": "stream",
     "text": [
      "n_clusters -> -5 a média da Silueta: 0.16449333828102516\n",
      "n_clusters -> -6 a média da Silueta: 0.16484123437492038\n",
      "n_clusters -> -7 a média da Silueta: 0.17358341722326007\n",
      "n_clusters -> -8 a média da Silueta: 0.16814576681535634\n",
      "n_clusters -> -9 a média da Silueta: 0.1708976628069641\n",
      "n_clusters -> -10 a média da Silueta: 0.17126814951754357\n",
      "n_clusters -> -11 a média da Silueta: 0.17179302803695018\n",
      "n_clusters -> -12 a média da Silueta: 0.16895828713435324\n",
      "n_clusters -> -13 a média da Silueta: 0.16938822484933824\n",
      "n_clusters -> -14 a média da Silueta: 0.16893024906487822\n",
      "n_clusters -> -15 a média da Silueta: 0.1609957381702741\n",
      "n_clusters -> -16 a média da Silueta: 0.15989761582747783\n",
      "n_clusters -> -17 a média da Silueta: 0.15989761582747783\n",
      "n_clusters -> -18 a média da Silueta: 0.15548959030444612\n",
      "n_clusters -> -19 a média da Silueta: 0.15548959030444612\n",
      "n_clusters -> -20 a média da Silueta: 0.1589469005765476\n",
      "n_clusters -> -21 a média da Silueta: 0.1589469005765476\n",
      "n_clusters -> -22 a média da Silueta: 0.1589469005765476\n",
      "n_clusters -> -23 a média da Silueta: 0.1589469005765476\n",
      "n_clusters -> -24 a média da Silueta: 0.1589469005765476\n",
      "n_clusters -> -25 a média da Silueta: 0.1589469005765476\n",
      "n_clusters -> -26 a média da Silueta: 0.1589469005765476\n",
      "n_clusters -> -27 a média da Silueta: 0.1589469005765476\n",
      "n_clusters -> -28 a média da Silueta: 0.1589469005765476\n",
      "n_clusters -> -29 a média da Silueta: 0.1589469005765476\n",
      "n_clusters -> -30 a média da Silueta: 0.146746807061093\n",
      "n_clusters -> -31 a média da Silueta: 0.1589469005765476\n",
      "n_clusters -> -32 a média da Silueta: 0.1589469005765476\n",
      "n_clusters -> -33 a média da Silueta: 0.16856981582570515\n",
      "n_clusters -> -34 a média da Silueta: 0.16856981582570515\n",
      "n_clusters -> -35 a média da Silueta: 0.18586719805556584\n",
      "n_clusters -> -36 a média da Silueta: 0.18586719805556584\n",
      "n_clusters -> -37 a média da Silueta: 0.18821508898609296\n",
      "n_clusters -> -38 a média da Silueta: 0.18821508898609296\n",
      "n_clusters -> -39 a média da Silueta: 0.18821508898609296\n",
      "n_clusters -> -40 a média da Silueta: 0.16225632094112552\n",
      "n_clusters -> -41 a média da Silueta: 0.18517955093488242\n",
      "n_clusters -> -42 a média da Silueta: 0.1896193434031702\n",
      "n_clusters -> -43 a média da Silueta: 0.1896193434031702\n",
      "n_clusters -> -44 a média da Silueta: 0.1896193434031702\n",
      "n_clusters -> -45 a média da Silueta: 0.1896193434031702\n",
      "n_clusters -> -46 a média da Silueta: 0.1680241138370332\n",
      "n_clusters -> -47 a média da Silueta: 0.20365750456597354\n",
      "n_clusters -> -48 a média da Silueta: 0.20228628926813522\n",
      "n_clusters -> -49 a média da Silueta: 0.20228628926813522\n",
      "n_clusters -> -50 a média da Silueta: 0.20228628926813522\n",
      "n_clusters -> -51 a média da Silueta: 0.20228628926813522\n",
      "n_clusters -> -52 a média da Silueta: 0.20228628926813522\n",
      "n_clusters -> -53 a média da Silueta: 0.19923780065664484\n",
      "n_clusters -> -54 a média da Silueta: 0.18422905368913267\n",
      "n_clusters -> -55 a média da Silueta: 0.20118042030593164\n",
      "n_clusters -> -56 a média da Silueta: 0.20118042030593164\n",
      "n_clusters -> -57 a média da Silueta: 0.18318135469996977\n",
      "n_clusters -> -58 a média da Silueta: 0.18318135469996977\n",
      "n_clusters -> -59 a média da Silueta: 0.18318135469996977\n",
      "n_clusters -> -60 a média da Silueta: 0.18318135469996977\n"
     ]
    }
   ],
   "source": [
    "p = np.arange(-1, -61, -1)\n",
    "\n",
    "lista_silueta = list()\n",
    "\n",
    "for i in range(len(p)):\n",
    "    #Definição de parâmetros do treinamento\n",
    "    modelo = AffinityPropagation(preference = p[i])\n",
    "\n",
    "    #Treinando o algoritmo\n",
    "    modelo.fit(x_dados) #caracteristicas e rotulos sendo treinados\n",
    "\n",
    "    #Avaliando a performance do modelo\n",
    "    rotulos = modelo.predict(x_dados)\n",
    "\n",
    "    #Testando a performance do modelo\n",
    "    performance = mt.silhouette_score(x_dados, rotulos)#Medindo a acurácia do rótulo e do valor predito\n",
    "    \n",
    "    lista_silueta.append(performance)\n",
    "    \n",
    "    print('n_clusters -> {} a média da Silueta: {}'.format(p[i], performance))"
   ]
  },
  {
   "cell_type": "code",
   "execution_count": 55,
   "id": "9d06adc0-7785-455d-80b4-039b86938c70",
   "metadata": {},
   "outputs": [
    {
     "data": {
      "text/html": [
       "<div>\n",
       "<style scoped>\n",
       "    .dataframe tbody tr th:only-of-type {\n",
       "        vertical-align: middle;\n",
       "    }\n",
       "\n",
       "    .dataframe tbody tr th {\n",
       "        vertical-align: top;\n",
       "    }\n",
       "\n",
       "    .dataframe thead th {\n",
       "        text-align: right;\n",
       "    }\n",
       "</style>\n",
       "<table border=\"1\" class=\"dataframe\">\n",
       "  <thead>\n",
       "    <tr style=\"text-align: right;\">\n",
       "      <th></th>\n",
       "      <th>algoritmo</th>\n",
       "      <th>silueta</th>\n",
       "    </tr>\n",
       "  </thead>\n",
       "  <tbody>\n",
       "    <tr>\n",
       "      <th>0</th>\n",
       "      <td>affinity propagation</td>\n",
       "      <td>0.203658</td>\n",
       "    </tr>\n",
       "  </tbody>\n",
       "</table>\n",
       "</div>"
      ],
      "text/plain": [
       "              algoritmo   silueta\n",
       "0  affinity propagation  0.203658"
      ]
     },
     "execution_count": 55,
     "metadata": {},
     "output_type": "execute_result"
    }
   ],
   "source": [
    "preference = (np.argmax(lista_silueta) + 1) * -1\n",
    "\n",
    "modelo = AffinityPropagation(preference = preference)\n",
    "\n",
    "#Treinando o algoritmo\n",
    "modelo.fit(x_dados) #caracteristicas e rotulos sendo treinados\n",
    "\n",
    "#Avaliando a performance do modelo\n",
    "rotulos = modelo.predict(x_dados)\n",
    "\n",
    "#Testando a performance do modelo\n",
    "performance = mt.silhouette_score(x_dados, rotulos)#Medindo a acurácia do rótulo e do valor predito\n",
    "    \n",
    "resultado_affinity = pd.DataFrame(np.array([performance])).T\n",
    "resultado_affinity = resultado_affinity.rename(columns = {0: 'silueta'})\n",
    "resultado_affinity.insert(0, 'algoritmo', 'affinity propagation')\n",
    "resultado_affinity"
   ]
  },
  {
   "cell_type": "markdown",
   "id": "337907a5-bb7f-4f1a-bc6b-f6f41054902e",
   "metadata": {},
   "source": [
    "## Resultado"
   ]
  },
  {
   "cell_type": "code",
   "execution_count": 58,
   "id": "b54da309-69a9-4d88-b059-5c95056aaa0a",
   "metadata": {
    "tags": []
   },
   "outputs": [
    {
     "data": {
      "text/html": [
       "<style type=\"text/css\">\n",
       "#T_d38b9_row0_col1 {\n",
       "  background-color: red;\n",
       "}\n",
       "</style>\n",
       "<table id=\"T_d38b9\">\n",
       "  <thead>\n",
       "    <tr>\n",
       "      <th class=\"blank level0\" >&nbsp;</th>\n",
       "      <th id=\"T_d38b9_level0_col0\" class=\"col_heading level0 col0\" >algoritmo</th>\n",
       "      <th id=\"T_d38b9_level0_col1\" class=\"col_heading level0 col1\" >silueta</th>\n",
       "    </tr>\n",
       "  </thead>\n",
       "  <tbody>\n",
       "    <tr>\n",
       "      <th id=\"T_d38b9_level0_row0\" class=\"row_heading level0 row0\" >0</th>\n",
       "      <td id=\"T_d38b9_row0_col0\" class=\"data row0 col0\" >k-means</td>\n",
       "      <td id=\"T_d38b9_row0_col1\" class=\"data row0 col1\" >0.233105</td>\n",
       "    </tr>\n",
       "    <tr>\n",
       "      <th id=\"T_d38b9_level0_row1\" class=\"row_heading level0 row1\" >1</th>\n",
       "      <td id=\"T_d38b9_row1_col0\" class=\"data row1 col0\" >affinity propagation</td>\n",
       "      <td id=\"T_d38b9_row1_col1\" class=\"data row1 col1\" >0.203658</td>\n",
       "    </tr>\n",
       "  </tbody>\n",
       "</table>\n"
      ],
      "text/plain": [
       "<pandas.io.formats.style.Styler at 0x1d2d2f29250>"
      ]
     },
     "execution_count": 58,
     "metadata": {},
     "output_type": "execute_result"
    }
   ],
   "source": [
    "resultado = pd.concat([resultado_kmeans, resultado_affinity]).reset_index(drop = True)\n",
    "resultado.style.highlight_max(subset = ['silueta'], color = 'red')"
   ]
  }
 ],
 "metadata": {
  "kernelspec": {
   "display_name": "Python 3 (ipykernel)",
   "language": "python",
   "name": "python3"
  },
  "language_info": {
   "codemirror_mode": {
    "name": "ipython",
    "version": 3
   },
   "file_extension": ".py",
   "mimetype": "text/x-python",
   "name": "python",
   "nbconvert_exporter": "python",
   "pygments_lexer": "ipython3",
   "version": "3.11.5"
  }
 },
 "nbformat": 4,
 "nbformat_minor": 5
}
