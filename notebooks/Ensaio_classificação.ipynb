{
 "cells": [
  {
   "cell_type": "markdown",
   "id": "7b8d8752-fde9-4ee7-8d4b-51bb1b8aabcd",
   "metadata": {
    "tags": []
   },
   "source": [
    "# Ensaio Classificação"
   ]
  },
  {
   "cell_type": "markdown",
   "id": "fcbb2ae1-af42-4e51-b6a2-121de21b2263",
   "metadata": {
    "jp-MarkdownHeadingCollapsed": true,
    "tags": []
   },
   "source": [
    "### Importando as bibliotécas"
   ]
  },
  {
   "cell_type": "code",
   "execution_count": 2,
   "id": "fbd3a2e6-c1f9-4482-aa2c-0707d004caa2",
   "metadata": {
    "tags": []
   },
   "outputs": [],
   "source": [
    "import pandas as pd\n",
    "from sklearn import model_selection as ms\n",
    "from sklearn import tree as tr\n",
    "from sklearn import datasets as ds\n",
    "from sklearn import cluster as c\n",
    "from sklearn import metrics as mt\n",
    "from sklearn import linear_model as lm\n",
    "from sklearn import ensemble as en\n",
    "from sklearn.neighbors import KNeighborsClassifier\n",
    "import numpy as np"
   ]
  },
  {
   "cell_type": "markdown",
   "id": "e46efe45-ecc3-4a28-8ab3-b1733fd1ba18",
   "metadata": {
    "jp-MarkdownHeadingCollapsed": true,
    "tags": []
   },
   "source": [
    "### Carregando o Dataset"
   ]
  },
  {
   "cell_type": "code",
   "execution_count": 3,
   "id": "99d08b4f-b7d3-4ee0-bbed-3d2beaa52691",
   "metadata": {
    "tags": []
   },
   "outputs": [],
   "source": [
    "dataset_x_treino = '../Projeto_aluno/Ensaio_classificacao/X_training.csv'\n",
    "dataset_x_validacao = '../Projeto_aluno/Ensaio_classificacao/X_validation.csv'\n",
    "dataset_x_teste = '../Projeto_aluno/Ensaio_classificacao/X_test.csv'\n",
    "dataset_y_treino = '../Projeto_aluno/Ensaio_classificacao/y_training.csv'\n",
    "dataset_y_validacao = '../Projeto_aluno/Ensaio_classificacao/y_validation.csv'\n",
    "dataset_y_teste = '../Projeto_aluno/Ensaio_classificacao/y_test.csv'\n",
    "\n",
    "x_treino = pd.read_csv (dataset_x_treino)\n",
    "x_validacao = pd.read_csv (dataset_x_validacao)\n",
    "x_teste = pd.read_csv (dataset_x_teste)\n",
    "y_treino = pd.read_csv (dataset_y_treino)\n",
    "y_validacao = pd.read_csv (dataset_y_validacao)\n",
    "y_teste = pd.read_csv (dataset_y_teste)\n",
    "\n",
    "y_treino = y_treino.iloc[:, 0]\n",
    "y_validacao = y_validacao.iloc[:, 0]\n",
    "y_teste = y_teste.iloc[:, 0]"
   ]
  },
  {
   "cell_type": "code",
   "execution_count": 4,
   "id": "ea4305cb-a16d-4d62-9521-1c6ca90fadcc",
   "metadata": {
    "tags": []
   },
   "outputs": [],
   "source": [
    "#print('Dados de treino: {}'.format(x_treino.shape))\n",
    "#print('Dados de validação: {}'.format(x_validacao.shape))\n",
    "#print('Dados de teste: {}'.format(x_teste.shape))\n",
    "#print('Dados de treino: {}'.format(y_treino.shape))\n",
    "#print('Dados de validação: {}'.format(y_validacao.shape))\n",
    "#print('Dados de teste: {}'.format(y_teste.shape))"
   ]
  },
  {
   "cell_type": "markdown",
   "id": "08017ae5-5abb-45db-8ba4-548b4048bb5a",
   "metadata": {
    "jp-MarkdownHeadingCollapsed": true,
    "tags": []
   },
   "source": [
    "## Algoritmo KNN"
   ]
  },
  {
   "cell_type": "markdown",
   "id": "d16cb2e9-bc67-4695-bbfd-b63b5b419f49",
   "metadata": {
    "tags": []
   },
   "source": [
    "### Treinando o algoritmo"
   ]
  },
  {
   "cell_type": "markdown",
   "id": "a69e3f8c-88c7-4133-bf65-de656a9ea508",
   "metadata": {
    "tags": []
   },
   "source": [
    "#### Dados de treino"
   ]
  },
  {
   "cell_type": "code",
   "execution_count": 11,
   "id": "08c5a36c-ba6f-4b66-b230-69d2b8796f36",
   "metadata": {
    "tags": []
   },
   "outputs": [
    {
     "name": "stdout",
     "output_type": "stream",
     "text": [
      "1 - 1.0000\n",
      "2 - 0.9464\n",
      "3 - 0.9084\n"
     ]
    }
   ],
   "source": [
    "#Definição de parâmetros do treinamento\n",
    "parametros = np.arange(1, 4, 1)\n",
    "\n",
    "lista_parametros = list()\n",
    "\n",
    "for i in parametros:\n",
    "    modelo_knn = KNeighborsClassifier(n_neighbors = i) #Instanciando um objeto com o algoritmo\n",
    "    modelo_knn.fit(x_treino, y_treino) #Treinando o algoritmo com as variáveis preditoras e as classes\n",
    "    \n",
    "    y_pred_knn = modelo_knn.predict_proba(x_treino)\n",
    "    roc_auc_score = mt.roc_auc_score(y_treino, y_pred_knn[:, 1])\n",
    "    \n",
    "    lista_parametros.append(roc_auc_score)\n",
    "    \n",
    "    print('{parametro} - {score:.4f}'.format(parametro = i, score = roc_auc_score))"
   ]
  },
  {
   "cell_type": "code",
   "execution_count": 15,
   "id": "4b09c6e7-8f66-4ff6-8f6d-da8311cf3be8",
   "metadata": {
    "tags": []
   },
   "outputs": [
    {
     "data": {
      "text/html": [
       "<div>\n",
       "<style scoped>\n",
       "    .dataframe tbody tr th:only-of-type {\n",
       "        vertical-align: middle;\n",
       "    }\n",
       "\n",
       "    .dataframe tbody tr th {\n",
       "        vertical-align: top;\n",
       "    }\n",
       "\n",
       "    .dataframe thead th {\n",
       "        text-align: right;\n",
       "    }\n",
       "</style>\n",
       "<table border=\"1\" class=\"dataframe\">\n",
       "  <thead>\n",
       "    <tr style=\"text-align: right;\">\n",
       "      <th></th>\n",
       "      <th>algoritmo</th>\n",
       "      <th>dados</th>\n",
       "      <th>acuracia</th>\n",
       "      <th>precisao</th>\n",
       "      <th>recall</th>\n",
       "      <th>f1</th>\n",
       "    </tr>\n",
       "  </thead>\n",
       "  <tbody>\n",
       "    <tr>\n",
       "      <th>0</th>\n",
       "      <td>knn</td>\n",
       "      <td>treino</td>\n",
       "      <td>1.0</td>\n",
       "      <td>1.0</td>\n",
       "      <td>1.0</td>\n",
       "      <td>1.0</td>\n",
       "    </tr>\n",
       "  </tbody>\n",
       "</table>\n",
       "</div>"
      ],
      "text/plain": [
       "  algoritmo   dados  acuracia  precisao  recall   f1\n",
       "0       knn  treino       1.0       1.0     1.0  1.0"
      ]
     },
     "execution_count": 15,
     "metadata": {},
     "output_type": "execute_result"
    }
   ],
   "source": [
    "n_neighbors = np.argmax(lista_parametros) + 1\n",
    "\n",
    "modelo_knn = KNeighborsClassifier(n_neighbors = n_neighbors) #Instanciando um objeto com o algoritmo\n",
    "modelo_knn.fit(x_treino, y_treino) #Treinando o algoritmo com as variáveis preditoras e as classes\n",
    "\n",
    "y_pred = modelo_knn.predict(x_treino)\n",
    "\n",
    "acuracia = mt.accuracy_score(y_treino, y_pred)\n",
    "precisao = mt.precision_score(y_treino, y_pred)\n",
    "recall = mt.recall_score(y_treino, y_pred)\n",
    "f1 = mt.f1_score(y_treino, y_pred)\n",
    "        \n",
    "resultado_knn_treino = pd.DataFrame(np.array([acuracia, precisao, recall, f1])).T\n",
    "resultado_knn_treino = resultado_knn_treino.rename(columns = {0: 'acuracia', \n",
    "                                                              1: 'precisao',\n",
    "                                                              2: 'recall',\n",
    "                                                              3: 'f1'})\n",
    "resultado_knn_treino.insert(0, 'dados', 'treino')\n",
    "resultado_knn_treino.insert(0, 'algoritmo', 'knn')\n",
    "resultado_knn_treino"
   ]
  },
  {
   "cell_type": "markdown",
   "id": "b6ee0a5e-5b92-4d9d-9fad-f09992c0f6d7",
   "metadata": {
    "tags": []
   },
   "source": [
    "#### Dados de validação"
   ]
  },
  {
   "cell_type": "code",
   "execution_count": 16,
   "id": "ff5b5d37-00e5-4a3b-bea5-38628f0d7e96",
   "metadata": {
    "tags": []
   },
   "outputs": [
    {
     "name": "stdout",
     "output_type": "stream",
     "text": [
      "1 - 0.6741\n",
      "2 - 0.7021\n",
      "3 - 0.7122\n"
     ]
    }
   ],
   "source": [
    "#Definição de parâmetros do treinamento\n",
    "parametros = np.arange(1, 4, 1)\n",
    "\n",
    "lista_parametros = list()\n",
    "\n",
    "for i in parametros:\n",
    "    modelo_knn = KNeighborsClassifier(n_neighbors = i) #Instanciando um objeto com o algoritmo\n",
    "    modelo_knn.fit(x_treino, y_treino) #Treinando o algoritmo com as variáveis preditoras e as classes\n",
    "    \n",
    "    y_pred_knn = modelo_knn.predict_proba(x_validacao)\n",
    "    roc_auc_score = mt.roc_auc_score(y_validacao, y_pred_knn[:, 1])\n",
    "    \n",
    "    lista_parametros.append(roc_auc_score)\n",
    "    \n",
    "    print('{parametro} - {score:.4f}'.format(parametro = i, score = roc_auc_score))"
   ]
  },
  {
   "cell_type": "code",
   "execution_count": 18,
   "id": "4f96bb7c-6476-4cd4-b59e-fcccb264438f",
   "metadata": {
    "tags": []
   },
   "outputs": [
    {
     "data": {
      "text/html": [
       "<div>\n",
       "<style scoped>\n",
       "    .dataframe tbody tr th:only-of-type {\n",
       "        vertical-align: middle;\n",
       "    }\n",
       "\n",
       "    .dataframe tbody tr th {\n",
       "        vertical-align: top;\n",
       "    }\n",
       "\n",
       "    .dataframe thead th {\n",
       "        text-align: right;\n",
       "    }\n",
       "</style>\n",
       "<table border=\"1\" class=\"dataframe\">\n",
       "  <thead>\n",
       "    <tr style=\"text-align: right;\">\n",
       "      <th></th>\n",
       "      <th>algoritmo</th>\n",
       "      <th>dados</th>\n",
       "      <th>acuracia</th>\n",
       "      <th>precisao</th>\n",
       "      <th>recall</th>\n",
       "      <th>f1</th>\n",
       "    </tr>\n",
       "  </thead>\n",
       "  <tbody>\n",
       "    <tr>\n",
       "      <th>0</th>\n",
       "      <td>knn</td>\n",
       "      <td>validacao</td>\n",
       "      <td>0.676277</td>\n",
       "      <td>0.627851</td>\n",
       "      <td>0.621278</td>\n",
       "      <td>0.624548</td>\n",
       "    </tr>\n",
       "  </tbody>\n",
       "</table>\n",
       "</div>"
      ],
      "text/plain": [
       "  algoritmo      dados  acuracia  precisao    recall        f1\n",
       "0       knn  validacao  0.676277  0.627851  0.621278  0.624548"
      ]
     },
     "execution_count": 18,
     "metadata": {},
     "output_type": "execute_result"
    }
   ],
   "source": [
    "n_neighbors = np.argmax(lista_parametros) + 1\n",
    "\n",
    "modelo_knn = KNeighborsClassifier(n_neighbors = n_neighbors) #Instanciando um objeto com o algoritmo\n",
    "modelo_knn.fit(x_treino, y_treino) #Treinando o algoritmo com as variáveis preditoras e as classes\n",
    "\n",
    "y_pred = modelo_knn.predict(x_validacao)\n",
    "\n",
    "acuracia = mt.accuracy_score(y_validacao, y_pred)\n",
    "precisao = mt.precision_score(y_validacao, y_pred)\n",
    "recall = mt.recall_score(y_validacao, y_pred)\n",
    "f1 = mt.f1_score(y_validacao, y_pred)\n",
    "        \n",
    "resultado_knn_validacao = pd.DataFrame(np.array([acuracia, precisao, recall, f1])).T\n",
    "resultado_knn_validacao = resultado_knn_validacao.rename(columns = {0: 'acuracia', \n",
    "                                                                    1: 'precisao',\n",
    "                                                                    2: 'recall',\n",
    "                                                                    3: 'f1'})\n",
    "resultado_knn_validacao.insert(0, 'dados', 'validacao')\n",
    "resultado_knn_validacao.insert(0, 'algoritmo', 'knn')\n",
    "resultado_knn_validacao"
   ]
  },
  {
   "cell_type": "markdown",
   "id": "6085eac1-ea85-4116-8b88-4578e46a4e1c",
   "metadata": {},
   "source": [
    "#### Dados de teste"
   ]
  },
  {
   "cell_type": "code",
   "execution_count": 19,
   "id": "ca7c431f-f5e0-4eab-a8cc-4f8bee969608",
   "metadata": {
    "tags": []
   },
   "outputs": [
    {
     "data": {
      "text/html": [
       "<div>\n",
       "<style scoped>\n",
       "    .dataframe tbody tr th:only-of-type {\n",
       "        vertical-align: middle;\n",
       "    }\n",
       "\n",
       "    .dataframe tbody tr th {\n",
       "        vertical-align: top;\n",
       "    }\n",
       "\n",
       "    .dataframe thead th {\n",
       "        text-align: right;\n",
       "    }\n",
       "</style>\n",
       "<table border=\"1\" class=\"dataframe\">\n",
       "  <thead>\n",
       "    <tr style=\"text-align: right;\">\n",
       "      <th></th>\n",
       "      <th>algoritmo</th>\n",
       "      <th>dados</th>\n",
       "      <th>acuracia</th>\n",
       "      <th>precisao</th>\n",
       "      <th>recall</th>\n",
       "      <th>f1</th>\n",
       "    </tr>\n",
       "  </thead>\n",
       "  <tbody>\n",
       "    <tr>\n",
       "      <th>0</th>\n",
       "      <td>knn</td>\n",
       "      <td>teste</td>\n",
       "      <td>0.688449</td>\n",
       "      <td>0.648025</td>\n",
       "      <td>0.635196</td>\n",
       "      <td>0.641546</td>\n",
       "    </tr>\n",
       "  </tbody>\n",
       "</table>\n",
       "</div>"
      ],
      "text/plain": [
       "  algoritmo  dados  acuracia  precisao    recall        f1\n",
       "0       knn  teste  0.688449  0.648025  0.635196  0.641546"
      ]
     },
     "execution_count": 19,
     "metadata": {},
     "output_type": "execute_result"
    }
   ],
   "source": [
    "n_neighbors = np.argmax(lista_parametros) + 1\n",
    "\n",
    "modelo_knn = KNeighborsClassifier(n_neighbors = n_neighbors) #Instanciando um objeto com o algoritmo\n",
    "modelo_knn.fit(pd.concat([x_treino, x_validacao]),\n",
    "               pd.concat([y_treino, y_validacao])) #Treinando o algoritmo com as variáveis preditoras e as classes\n",
    "\n",
    "y_pred = modelo_knn.predict(x_teste)\n",
    "\n",
    "acuracia = mt.accuracy_score(y_teste, y_pred)\n",
    "precisao = mt.precision_score(y_teste, y_pred)\n",
    "recall = mt.recall_score(y_teste, y_pred)\n",
    "f1 = mt.f1_score(y_teste, y_pred)\n",
    "        \n",
    "resultado_knn_teste = pd.DataFrame(np.array([acuracia, precisao, recall, f1])).T\n",
    "resultado_knn_teste = resultado_knn_teste.rename(columns = {0: 'acuracia', \n",
    "                                                            1: 'precisao',\n",
    "                                                            2: 'recall',\n",
    "                                                            3: 'f1'})\n",
    "resultado_knn_teste.insert(0, 'dados', 'teste')\n",
    "resultado_knn_teste.insert(0, 'algoritmo', 'knn')\n",
    "resultado_knn_teste"
   ]
  },
  {
   "cell_type": "code",
   "execution_count": 20,
   "id": "f930c16b-4aca-4b29-93d6-085c7e09b4b1",
   "metadata": {
    "tags": []
   },
   "outputs": [
    {
     "data": {
      "text/html": [
       "<div>\n",
       "<style scoped>\n",
       "    .dataframe tbody tr th:only-of-type {\n",
       "        vertical-align: middle;\n",
       "    }\n",
       "\n",
       "    .dataframe tbody tr th {\n",
       "        vertical-align: top;\n",
       "    }\n",
       "\n",
       "    .dataframe thead th {\n",
       "        text-align: right;\n",
       "    }\n",
       "</style>\n",
       "<table border=\"1\" class=\"dataframe\">\n",
       "  <thead>\n",
       "    <tr style=\"text-align: right;\">\n",
       "      <th></th>\n",
       "      <th>algoritmo</th>\n",
       "      <th>dados</th>\n",
       "      <th>acuracia</th>\n",
       "      <th>precisao</th>\n",
       "      <th>recall</th>\n",
       "      <th>f1</th>\n",
       "    </tr>\n",
       "  </thead>\n",
       "  <tbody>\n",
       "    <tr>\n",
       "      <th>0</th>\n",
       "      <td>knn</td>\n",
       "      <td>treino</td>\n",
       "      <td>1.000000</td>\n",
       "      <td>1.000000</td>\n",
       "      <td>1.000000</td>\n",
       "      <td>1.000000</td>\n",
       "    </tr>\n",
       "    <tr>\n",
       "      <th>1</th>\n",
       "      <td>knn</td>\n",
       "      <td>validacao</td>\n",
       "      <td>0.676277</td>\n",
       "      <td>0.627851</td>\n",
       "      <td>0.621278</td>\n",
       "      <td>0.624548</td>\n",
       "    </tr>\n",
       "    <tr>\n",
       "      <th>2</th>\n",
       "      <td>knn</td>\n",
       "      <td>teste</td>\n",
       "      <td>0.688449</td>\n",
       "      <td>0.648025</td>\n",
       "      <td>0.635196</td>\n",
       "      <td>0.641546</td>\n",
       "    </tr>\n",
       "  </tbody>\n",
       "</table>\n",
       "</div>"
      ],
      "text/plain": [
       "  algoritmo      dados  acuracia  precisao    recall        f1\n",
       "0       knn     treino  1.000000  1.000000  1.000000  1.000000\n",
       "1       knn  validacao  0.676277  0.627851  0.621278  0.624548\n",
       "2       knn      teste  0.688449  0.648025  0.635196  0.641546"
      ]
     },
     "execution_count": 20,
     "metadata": {},
     "output_type": "execute_result"
    }
   ],
   "source": [
    "resultado_knn = pd.concat([resultado_knn_treino, resultado_knn_validacao, resultado_knn_teste]).reset_index(drop = True)\n",
    "resultado_knn"
   ]
  },
  {
   "cell_type": "markdown",
   "id": "2262fdb7-7229-43f6-b0b8-3db6f9fafce8",
   "metadata": {
    "jp-MarkdownHeadingCollapsed": true,
    "tags": []
   },
   "source": [
    "## Algoritmo Decision Tree"
   ]
  },
  {
   "cell_type": "markdown",
   "id": "b3cc96fa-5f64-4b70-942f-cbb94a74597f",
   "metadata": {},
   "source": [
    "#### Dados de treino"
   ]
  },
  {
   "cell_type": "code",
   "execution_count": 21,
   "id": "4c6a5990-ae3b-4770-abf3-b036d7dde4b9",
   "metadata": {
    "tags": []
   },
   "outputs": [
    {
     "name": "stdout",
     "output_type": "stream",
     "text": [
      "1 - 0.7929\n",
      "2 - 0.8750\n",
      "3 - 0.9252\n",
      "4 - 0.9529\n",
      "5 - 0.9687\n",
      "6 - 0.9772\n",
      "7 - 0.9833\n",
      "8 - 0.9866\n"
     ]
    }
   ],
   "source": [
    "#Definição de parâmetros do treinamento\n",
    "parametros = np.arange(1, 9, 1)\n",
    "\n",
    "lista_parametros = list()\n",
    "\n",
    "for i in parametros:\n",
    "    modelo_arvore = tr.DecisionTreeClassifier(max_depth = i, random_state = 0) #Instanciando um objeto com o algoritmo\n",
    "    modelo_arvore.fit(x_treino, y_treino) #Treinando o algoritmo com as variáveis preditoras e as classes\n",
    "    \n",
    "    y_pred_arvore = modelo_arvore.predict_proba(x_treino)\n",
    "    roc_auc_score = mt.roc_auc_score(y_treino, y_pred_arvore[:, 1])\n",
    "    \n",
    "    lista_parametros.append(roc_auc_score)\n",
    "    \n",
    "    print('{parametro} - {score:.4f}'.format(parametro = i, score = roc_auc_score))"
   ]
  },
  {
   "cell_type": "code",
   "execution_count": 22,
   "id": "a12690cc-be23-44c1-9fbc-bf99c31fdd0d",
   "metadata": {
    "tags": []
   },
   "outputs": [
    {
     "data": {
      "text/html": [
       "<div>\n",
       "<style scoped>\n",
       "    .dataframe tbody tr th:only-of-type {\n",
       "        vertical-align: middle;\n",
       "    }\n",
       "\n",
       "    .dataframe tbody tr th {\n",
       "        vertical-align: top;\n",
       "    }\n",
       "\n",
       "    .dataframe thead th {\n",
       "        text-align: right;\n",
       "    }\n",
       "</style>\n",
       "<table border=\"1\" class=\"dataframe\">\n",
       "  <thead>\n",
       "    <tr style=\"text-align: right;\">\n",
       "      <th></th>\n",
       "      <th>algoritmo</th>\n",
       "      <th>dados</th>\n",
       "      <th>acuracia</th>\n",
       "      <th>precisao</th>\n",
       "      <th>recall</th>\n",
       "      <th>f1</th>\n",
       "    </tr>\n",
       "  </thead>\n",
       "  <tbody>\n",
       "    <tr>\n",
       "      <th>0</th>\n",
       "      <td>decision tree</td>\n",
       "      <td>treino</td>\n",
       "      <td>0.942702</td>\n",
       "      <td>0.950332</td>\n",
       "      <td>0.915648</td>\n",
       "      <td>0.932668</td>\n",
       "    </tr>\n",
       "  </tbody>\n",
       "</table>\n",
       "</div>"
      ],
      "text/plain": [
       "       algoritmo   dados  acuracia  precisao    recall        f1\n",
       "0  decision tree  treino  0.942702  0.950332  0.915648  0.932668"
      ]
     },
     "execution_count": 22,
     "metadata": {},
     "output_type": "execute_result"
    }
   ],
   "source": [
    "max_depth = n_neighbors = np.argmax(lista_parametros) + 1\n",
    "\n",
    "modelo_arvore = tr.DecisionTreeClassifier(max_depth = max_depth, random_state = 0) #Instanciando um objeto com o algoritmo\n",
    "modelo_arvore.fit(x_treino, y_treino) #Treinando o algoritmo com as variáveis preditoras e as classes\n",
    "\n",
    "y_pred = modelo_arvore.predict(x_treino)\n",
    "\n",
    "acuracia = mt.accuracy_score(y_treino, y_pred)\n",
    "precisao = mt.precision_score(y_treino, y_pred)\n",
    "recall = mt.recall_score(y_treino, y_pred)\n",
    "f1 = mt.f1_score(y_treino, y_pred)\n",
    "        \n",
    "resultado_arvore_treino = pd.DataFrame(np.array([acuracia, precisao, recall, f1])).T\n",
    "resultado_arvore_treino = resultado_arvore_treino.rename(columns = {0: 'acuracia', \n",
    "                                                                    1: 'precisao',\n",
    "                                                                    2: 'recall',\n",
    "                                                                    3: 'f1'})\n",
    "resultado_arvore_treino.insert(0, 'dados', 'treino')\n",
    "resultado_arvore_treino.insert(0, 'algoritmo', 'decision tree')\n",
    "resultado_arvore_treino"
   ]
  },
  {
   "cell_type": "markdown",
   "id": "70f6172c-5796-4aa3-9ce8-1398629cf3f8",
   "metadata": {},
   "source": [
    "#### Dados de validacao"
   ]
  },
  {
   "cell_type": "code",
   "execution_count": 23,
   "id": "0d10742b-21f1-4c0e-8964-9464ddc5241d",
   "metadata": {
    "tags": []
   },
   "outputs": [
    {
     "name": "stdout",
     "output_type": "stream",
     "text": [
      "1 - 0.7909\n",
      "2 - 0.8730\n",
      "3 - 0.9264\n",
      "4 - 0.9524\n",
      "5 - 0.9678\n",
      "6 - 0.9763\n",
      "7 - 0.9817\n",
      "8 - 0.9840\n"
     ]
    }
   ],
   "source": [
    "#Definição de parâmetros do treinamento\n",
    "parametros = np.arange(1, 9, 1)\n",
    "\n",
    "lista_parametros = list()\n",
    "\n",
    "for i in parametros:\n",
    "    modelo_arvore = tr.DecisionTreeClassifier(max_depth = i, random_state = 0) #Instanciando um objeto com o algoritmo\n",
    "    modelo_arvore.fit(x_treino, y_treino) #Treinando o algoritmo com as variáveis preditoras e as classes\n",
    "    \n",
    "    y_pred_arvore = modelo_arvore.predict_proba(x_validacao)\n",
    "    roc_auc_score = mt.roc_auc_score(y_validacao, y_pred_arvore[:, 1])\n",
    "    \n",
    "    lista_parametros.append(roc_auc_score)\n",
    "    \n",
    "    print('{parametro} - {score:.4f}'.format(parametro = i, score = roc_auc_score))"
   ]
  },
  {
   "cell_type": "code",
   "execution_count": 24,
   "id": "6f57b857-9c4c-4e00-ad4d-13a73a3ce98b",
   "metadata": {
    "tags": []
   },
   "outputs": [
    {
     "data": {
      "text/html": [
       "<div>\n",
       "<style scoped>\n",
       "    .dataframe tbody tr th:only-of-type {\n",
       "        vertical-align: middle;\n",
       "    }\n",
       "\n",
       "    .dataframe tbody tr th {\n",
       "        vertical-align: top;\n",
       "    }\n",
       "\n",
       "    .dataframe thead th {\n",
       "        text-align: right;\n",
       "    }\n",
       "</style>\n",
       "<table border=\"1\" class=\"dataframe\">\n",
       "  <thead>\n",
       "    <tr style=\"text-align: right;\">\n",
       "      <th></th>\n",
       "      <th>algoritmo</th>\n",
       "      <th>dados</th>\n",
       "      <th>acuracia</th>\n",
       "      <th>precisao</th>\n",
       "      <th>recall</th>\n",
       "      <th>f1</th>\n",
       "    </tr>\n",
       "  </thead>\n",
       "  <tbody>\n",
       "    <tr>\n",
       "      <th>0</th>\n",
       "      <td>decision tree</td>\n",
       "      <td>validacao</td>\n",
       "      <td>0.939895</td>\n",
       "      <td>0.947466</td>\n",
       "      <td>0.911872</td>\n",
       "      <td>0.929328</td>\n",
       "    </tr>\n",
       "  </tbody>\n",
       "</table>\n",
       "</div>"
      ],
      "text/plain": [
       "       algoritmo      dados  acuracia  precisao    recall        f1\n",
       "0  decision tree  validacao  0.939895  0.947466  0.911872  0.929328"
      ]
     },
     "execution_count": 24,
     "metadata": {},
     "output_type": "execute_result"
    }
   ],
   "source": [
    "max_depth = np.argmax(lista_parametros) + 1\n",
    "\n",
    "modelo_arvore = tr.DecisionTreeClassifier(max_depth = max_depth, random_state = 0) #Instanciando um objeto com o algoritmo\n",
    "modelo_arvore.fit(x_treino, y_treino) #Treinando o algoritmo com as variáveis preditoras e as classes\n",
    "\n",
    "y_pred = modelo_arvore.predict(x_validacao)\n",
    "\n",
    "acuracia = mt.accuracy_score(y_validacao, y_pred)\n",
    "precisao = mt.precision_score(y_validacao, y_pred)\n",
    "recall = mt.recall_score(y_validacao, y_pred)\n",
    "f1 = mt.f1_score(y_validacao, y_pred)\n",
    "        \n",
    "resultado_arvore_validacao = pd.DataFrame(np.array([acuracia, precisao, recall, f1])).T\n",
    "resultado_arvore_validacao = resultado_arvore_validacao.rename(columns = {0: 'acuracia', \n",
    "                                                                          1: 'precisao',\n",
    "                                                                          2: 'recall',\n",
    "                                                                          3: 'f1'})\n",
    "resultado_arvore_validacao.insert(0, 'dados', 'validacao')\n",
    "resultado_arvore_validacao.insert(0, 'algoritmo', 'decision tree')\n",
    "resultado_arvore_validacao"
   ]
  },
  {
   "cell_type": "markdown",
   "id": "fa5ab4a5-4f81-4f03-b384-fca7fc442591",
   "metadata": {},
   "source": [
    "#### Dados de teste"
   ]
  },
  {
   "cell_type": "code",
   "execution_count": 25,
   "id": "4d061ea9-202d-40c9-9f00-be182014542c",
   "metadata": {
    "tags": []
   },
   "outputs": [
    {
     "data": {
      "text/html": [
       "<div>\n",
       "<style scoped>\n",
       "    .dataframe tbody tr th:only-of-type {\n",
       "        vertical-align: middle;\n",
       "    }\n",
       "\n",
       "    .dataframe tbody tr th {\n",
       "        vertical-align: top;\n",
       "    }\n",
       "\n",
       "    .dataframe thead th {\n",
       "        text-align: right;\n",
       "    }\n",
       "</style>\n",
       "<table border=\"1\" class=\"dataframe\">\n",
       "  <thead>\n",
       "    <tr style=\"text-align: right;\">\n",
       "      <th></th>\n",
       "      <th>algoritmo</th>\n",
       "      <th>dados</th>\n",
       "      <th>acuracia</th>\n",
       "      <th>precisao</th>\n",
       "      <th>recall</th>\n",
       "      <th>f1</th>\n",
       "    </tr>\n",
       "  </thead>\n",
       "  <tbody>\n",
       "    <tr>\n",
       "      <th>0</th>\n",
       "      <td>decision tree</td>\n",
       "      <td>teste</td>\n",
       "      <td>0.938207</td>\n",
       "      <td>0.94342</td>\n",
       "      <td>0.914034</td>\n",
       "      <td>0.928495</td>\n",
       "    </tr>\n",
       "  </tbody>\n",
       "</table>\n",
       "</div>"
      ],
      "text/plain": [
       "       algoritmo  dados  acuracia  precisao    recall        f1\n",
       "0  decision tree  teste  0.938207   0.94342  0.914034  0.928495"
      ]
     },
     "execution_count": 25,
     "metadata": {},
     "output_type": "execute_result"
    }
   ],
   "source": [
    "max_depth = np.argmax(lista_parametros) + 1\n",
    "\n",
    "modelo_arvore = tr.DecisionTreeClassifier(max_depth = max_depth, random_state = 0) #Instanciando um objeto com o algoritmo\n",
    "modelo_arvore.fit(pd.concat([x_treino, x_validacao]),\n",
    "                  pd.concat([y_treino, y_validacao])) #Treinando o algoritmo com as variáveis preditoras e as classes\n",
    "\n",
    "y_pred = modelo_arvore.predict(x_teste)\n",
    "\n",
    "acuracia = mt.accuracy_score(y_teste, y_pred)\n",
    "precisao = mt.precision_score(y_teste, y_pred)\n",
    "recall = mt.recall_score(y_teste, y_pred)\n",
    "f1 = mt.f1_score(y_teste, y_pred)\n",
    "        \n",
    "resultado_arvore_teste = pd.DataFrame(np.array([acuracia, precisao, recall, f1])).T\n",
    "resultado_arvore_teste = resultado_arvore_teste.rename(columns = {0: 'acuracia', \n",
    "                                                                  1: 'precisao',\n",
    "                                                                  2: 'recall',\n",
    "                                                                  3: 'f1'})\n",
    "resultado_arvore_teste.insert(0, 'dados', 'teste')\n",
    "resultado_arvore_teste.insert(0, 'algoritmo', 'decision tree')\n",
    "resultado_arvore_teste"
   ]
  },
  {
   "cell_type": "code",
   "execution_count": 26,
   "id": "10570837-f8c3-4d4f-b55b-56c2f8102a22",
   "metadata": {
    "tags": []
   },
   "outputs": [
    {
     "data": {
      "text/html": [
       "<div>\n",
       "<style scoped>\n",
       "    .dataframe tbody tr th:only-of-type {\n",
       "        vertical-align: middle;\n",
       "    }\n",
       "\n",
       "    .dataframe tbody tr th {\n",
       "        vertical-align: top;\n",
       "    }\n",
       "\n",
       "    .dataframe thead th {\n",
       "        text-align: right;\n",
       "    }\n",
       "</style>\n",
       "<table border=\"1\" class=\"dataframe\">\n",
       "  <thead>\n",
       "    <tr style=\"text-align: right;\">\n",
       "      <th></th>\n",
       "      <th>algoritmo</th>\n",
       "      <th>dados</th>\n",
       "      <th>acuracia</th>\n",
       "      <th>precisao</th>\n",
       "      <th>recall</th>\n",
       "      <th>f1</th>\n",
       "    </tr>\n",
       "  </thead>\n",
       "  <tbody>\n",
       "    <tr>\n",
       "      <th>0</th>\n",
       "      <td>decision tree</td>\n",
       "      <td>treino</td>\n",
       "      <td>0.942702</td>\n",
       "      <td>0.950332</td>\n",
       "      <td>0.915648</td>\n",
       "      <td>0.932668</td>\n",
       "    </tr>\n",
       "    <tr>\n",
       "      <th>0</th>\n",
       "      <td>decision tree</td>\n",
       "      <td>validacao</td>\n",
       "      <td>0.939895</td>\n",
       "      <td>0.947466</td>\n",
       "      <td>0.911872</td>\n",
       "      <td>0.929328</td>\n",
       "    </tr>\n",
       "    <tr>\n",
       "      <th>0</th>\n",
       "      <td>decision tree</td>\n",
       "      <td>teste</td>\n",
       "      <td>0.938207</td>\n",
       "      <td>0.943420</td>\n",
       "      <td>0.914034</td>\n",
       "      <td>0.928495</td>\n",
       "    </tr>\n",
       "  </tbody>\n",
       "</table>\n",
       "</div>"
      ],
      "text/plain": [
       "       algoritmo      dados  acuracia  precisao    recall        f1\n",
       "0  decision tree     treino  0.942702  0.950332  0.915648  0.932668\n",
       "0  decision tree  validacao  0.939895  0.947466  0.911872  0.929328\n",
       "0  decision tree      teste  0.938207  0.943420  0.914034  0.928495"
      ]
     },
     "execution_count": 26,
     "metadata": {},
     "output_type": "execute_result"
    }
   ],
   "source": [
    "resultado_arvore = pd.concat([resultado_arvore_treino, resultado_arvore_validacao, resultado_arvore_teste])\n",
    "resultado_arvore"
   ]
  },
  {
   "cell_type": "markdown",
   "id": "f134ac9a-7b56-43b7-a0fe-ec1b6970e445",
   "metadata": {
    "jp-MarkdownHeadingCollapsed": true,
    "tags": []
   },
   "source": [
    "## Algoritmo Random Forest"
   ]
  },
  {
   "cell_type": "markdown",
   "id": "dfe6938c-c30a-4160-84cd-e8a89ce7b72b",
   "metadata": {
    "jp-MarkdownHeadingCollapsed": true,
    "tags": []
   },
   "source": [
    "#### Dados de treino"
   ]
  },
  {
   "cell_type": "code",
   "execution_count": 27,
   "id": "5f367c0d-1d4e-4a6c-9ce3-1038c3411a26",
   "metadata": {
    "tags": []
   },
   "outputs": [
    {
     "name": "stdout",
     "output_type": "stream",
     "text": [
      "1 / 1 - 0.7087\n",
      "1 / 2 - 0.8077\n",
      "1 / 3 - 0.7614\n",
      "1 / 4 - 0.8641\n",
      "2 / 1 - 0.8440\n",
      "2 / 2 - 0.8736\n",
      "2 / 3 - 0.8888\n",
      "2 / 4 - 0.9059\n",
      "3 / 1 - 0.8691\n",
      "3 / 2 - 0.9213\n",
      "3 / 3 - 0.9281\n",
      "3 / 4 - 0.9406\n",
      "4 / 1 - 0.9006\n",
      "4 / 2 - 0.9347\n",
      "4 / 3 - 0.9491\n",
      "4 / 4 - 0.9535\n",
      "5 / 1 - 0.9281\n",
      "5 / 2 - 0.9532\n",
      "5 / 3 - 0.9571\n",
      "5 / 4 - 0.9629\n",
      "6 / 1 - 0.9588\n",
      "6 / 2 - 0.9679\n",
      "6 / 3 - 0.9717\n",
      "6 / 4 - 0.9746\n",
      "7 / 1 - 0.9661\n",
      "7 / 2 - 0.9740\n",
      "7 / 3 - 0.9753\n",
      "7 / 4 - 0.9778\n",
      "8 / 1 - 0.9618\n",
      "8 / 2 - 0.9795\n",
      "8 / 3 - 0.9829\n",
      "8 / 4 - 0.9846\n"
     ]
    }
   ],
   "source": [
    "#Definição de parâmetros do treinamento\n",
    "max_depth = np.arange(1, 5, 1)\n",
    "n_estimators = np.arange(1, 5, 1)\n",
    "\n",
    "for i in parametros:\n",
    "    for e in n_estimators:\n",
    "        modelo_random = en.RandomForestClassifier(max_depth = i, n_estimators = e, random_state = 0) #Instanciando um objeto com o algoritmo\n",
    "        modelo_random.fit(x_treino, y_treino) #Treinando o algoritmo com as variáveis preditoras e as classes\n",
    "    \n",
    "        y_pred_random = modelo_random.predict_proba(x_treino)\n",
    "        roc_auc_score = mt.roc_auc_score(y_treino, y_pred_random[:, 1])\n",
    "    \n",
    "        print('{parametro_1} / {parametro_2} - {score:.4f}'.format(parametro_1 = i, parametro_2 = e, score = roc_auc_score))"
   ]
  },
  {
   "cell_type": "code",
   "execution_count": 29,
   "id": "8f1ee009-b9ac-4db1-8e6b-c708f79439b6",
   "metadata": {
    "tags": []
   },
   "outputs": [
    {
     "data": {
      "text/html": [
       "<div>\n",
       "<style scoped>\n",
       "    .dataframe tbody tr th:only-of-type {\n",
       "        vertical-align: middle;\n",
       "    }\n",
       "\n",
       "    .dataframe tbody tr th {\n",
       "        vertical-align: top;\n",
       "    }\n",
       "\n",
       "    .dataframe thead th {\n",
       "        text-align: right;\n",
       "    }\n",
       "</style>\n",
       "<table border=\"1\" class=\"dataframe\">\n",
       "  <thead>\n",
       "    <tr style=\"text-align: right;\">\n",
       "      <th></th>\n",
       "      <th>algoritmo</th>\n",
       "      <th>dados</th>\n",
       "      <th>acuracia</th>\n",
       "      <th>precisao</th>\n",
       "      <th>recall</th>\n",
       "      <th>f1</th>\n",
       "    </tr>\n",
       "  </thead>\n",
       "  <tbody>\n",
       "    <tr>\n",
       "      <th>0</th>\n",
       "      <td>random forest</td>\n",
       "      <td>treino</td>\n",
       "      <td>0.939419</td>\n",
       "      <td>0.939008</td>\n",
       "      <td>0.919976</td>\n",
       "      <td>0.929395</td>\n",
       "    </tr>\n",
       "  </tbody>\n",
       "</table>\n",
       "</div>"
      ],
      "text/plain": [
       "       algoritmo   dados  acuracia  precisao    recall        f1\n",
       "0  random forest  treino  0.939419  0.939008  0.919976  0.929395"
      ]
     },
     "execution_count": 29,
     "metadata": {},
     "output_type": "execute_result"
    }
   ],
   "source": [
    "max_depth = 8\n",
    "n_estimators = 4\n",
    "\n",
    "modelo_random = en.RandomForestClassifier(max_depth = max_depth, n_estimators = n_estimators, random_state = 0) #Instanciando um objeto com o algoritmo\n",
    "modelo_random.fit(x_treino, y_treino) #Treinando o algoritmo com as variáveis preditoras e as classes\n",
    "\n",
    "y_pred = modelo_random.predict(x_treino)\n",
    "\n",
    "acuracia = mt.accuracy_score(y_treino, y_pred)\n",
    "precisao = mt.precision_score(y_treino, y_pred)\n",
    "recall = mt.recall_score(y_treino, y_pred)\n",
    "f1 = mt.f1_score(y_treino, y_pred)\n",
    "        \n",
    "resultado_random_treino = pd.DataFrame(np.array([acuracia, precisao, recall, f1])).T\n",
    "resultado_random_treino = resultado_random_treino.rename(columns = {0: 'acuracia', \n",
    "                                                                    1: 'precisao',\n",
    "                                                                    2: 'recall',\n",
    "                                                                    3: 'f1'})\n",
    "resultado_random_treino.insert(0, 'dados', 'treino')\n",
    "resultado_random_treino.insert(0, 'algoritmo', 'random forest')\n",
    "resultado_random_treino"
   ]
  },
  {
   "cell_type": "markdown",
   "id": "c885d801-0687-451d-ba2a-5b140d151057",
   "metadata": {
    "tags": []
   },
   "source": [
    "#### Dados de validação"
   ]
  },
  {
   "cell_type": "code",
   "execution_count": 49,
   "id": "747bddcc-b435-4826-8bb7-824f3f0df426",
   "metadata": {
    "tags": []
   },
   "outputs": [
    {
     "name": "stdout",
     "output_type": "stream",
     "text": [
      "1 / 1 - 0.7114\n",
      "1 / 2 - 0.8078\n",
      "1 / 3 - 0.7595\n",
      "1 / 4 - 0.8602\n",
      "2 / 1 - 0.8444\n",
      "2 / 2 - 0.8718\n",
      "2 / 3 - 0.8866\n",
      "2 / 4 - 0.9020\n",
      "3 / 1 - 0.8709\n",
      "3 / 2 - 0.9216\n",
      "3 / 3 - 0.9284\n",
      "3 / 4 - 0.9400\n",
      "4 / 1 - 0.8998\n",
      "4 / 2 - 0.9345\n",
      "4 / 3 - 0.9487\n",
      "4 / 4 - 0.9526\n",
      "5 / 1 - 0.9270\n",
      "5 / 2 - 0.9535\n",
      "5 / 3 - 0.9571\n",
      "5 / 4 - 0.9627\n",
      "6 / 1 - 0.9580\n",
      "6 / 2 - 0.9675\n",
      "6 / 3 - 0.9713\n",
      "6 / 4 - 0.9742\n",
      "7 / 1 - 0.9647\n",
      "7 / 2 - 0.9732\n",
      "7 / 3 - 0.9744\n",
      "7 / 4 - 0.9772\n",
      "8 / 1 - 0.9588\n",
      "8 / 2 - 0.9778\n",
      "8 / 3 - 0.9816\n",
      "8 / 4 - 0.9834\n"
     ]
    }
   ],
   "source": [
    "#Definição de parâmetros do treinamento\n",
    "max_depth = np.arange(1, 5, 1)\n",
    "n_estimators = np.arange(1, 5, 1)\n",
    "\n",
    "for i in parametros:\n",
    "    for e in n_estimators:\n",
    "        modelo_random = en.RandomForestClassifier(max_depth = i, n_estimators = e, random_state = 0) #Instanciando um objeto com o algoritmo\n",
    "        modelo_random.fit(x_treino, y_treino) #Treinando o algoritmo com as variáveis preditoras e as classes\n",
    "    \n",
    "        y_pred_random = modelo_random.predict_proba(x_validacao)\n",
    "        roc_auc_score = mt.roc_auc_score(y_validacao, y_pred_random[:, 1])\n",
    "    \n",
    "        print('{parametro_1} / {parametro_2} - {score:.4f}'.format(parametro_1 = i, parametro_2 = e, score = roc_auc_score))"
   ]
  },
  {
   "cell_type": "code",
   "execution_count": 30,
   "id": "900ff247-cec2-4330-a7f2-4f21282e6274",
   "metadata": {
    "tags": []
   },
   "outputs": [
    {
     "data": {
      "text/html": [
       "<div>\n",
       "<style scoped>\n",
       "    .dataframe tbody tr th:only-of-type {\n",
       "        vertical-align: middle;\n",
       "    }\n",
       "\n",
       "    .dataframe tbody tr th {\n",
       "        vertical-align: top;\n",
       "    }\n",
       "\n",
       "    .dataframe thead th {\n",
       "        text-align: right;\n",
       "    }\n",
       "</style>\n",
       "<table border=\"1\" class=\"dataframe\">\n",
       "  <thead>\n",
       "    <tr style=\"text-align: right;\">\n",
       "      <th></th>\n",
       "      <th>algoritmo</th>\n",
       "      <th>dados</th>\n",
       "      <th>acuracia</th>\n",
       "      <th>precisao</th>\n",
       "      <th>recall</th>\n",
       "      <th>f1</th>\n",
       "    </tr>\n",
       "  </thead>\n",
       "  <tbody>\n",
       "    <tr>\n",
       "      <th>0</th>\n",
       "      <td>random forest</td>\n",
       "      <td>validacao</td>\n",
       "      <td>0.936903</td>\n",
       "      <td>0.935513</td>\n",
       "      <td>0.917663</td>\n",
       "      <td>0.926502</td>\n",
       "    </tr>\n",
       "  </tbody>\n",
       "</table>\n",
       "</div>"
      ],
      "text/plain": [
       "       algoritmo      dados  acuracia  precisao    recall        f1\n",
       "0  random forest  validacao  0.936903  0.935513  0.917663  0.926502"
      ]
     },
     "execution_count": 30,
     "metadata": {},
     "output_type": "execute_result"
    }
   ],
   "source": [
    "max_depth = 8\n",
    "n_estimators = 4\n",
    "\n",
    "modelo_random = en.RandomForestClassifier(max_depth = max_depth, n_estimators = n_estimators, random_state = 0) #Instanciando um objeto com o algoritmo\n",
    "modelo_random.fit(x_treino, y_treino) #Treinando o algoritmo com as variáveis preditoras e as classes\n",
    "\n",
    "y_pred = modelo_random.predict(x_validacao)\n",
    "\n",
    "acuracia = mt.accuracy_score(y_validacao, y_pred)\n",
    "precisao = mt.precision_score(y_validacao, y_pred)\n",
    "recall = mt.recall_score(y_validacao, y_pred)\n",
    "f1 = mt.f1_score(y_validacao, y_pred)\n",
    "        \n",
    "resultado_random_validacao = pd.DataFrame(np.array([acuracia, precisao, recall, f1])).T\n",
    "resultado_random_validacao = resultado_random_validacao.rename(columns = {0: 'acuracia', \n",
    "                                                                          1: 'precisao',\n",
    "                                                                          2: 'recall',\n",
    "                                                                          3: 'f1'})\n",
    "resultado_random_validacao.insert(0, 'dados', 'validacao')\n",
    "resultado_random_validacao.insert(0, 'algoritmo', 'random forest')\n",
    "resultado_random_validacao"
   ]
  },
  {
   "cell_type": "markdown",
   "id": "d02399ea-be22-47a5-81ec-13eb5767843b",
   "metadata": {
    "tags": []
   },
   "source": [
    "#### Dados de teste"
   ]
  },
  {
   "cell_type": "code",
   "execution_count": 31,
   "id": "3ca75e23-f873-45b3-8778-296e47a2f33a",
   "metadata": {
    "tags": []
   },
   "outputs": [
    {
     "data": {
      "text/html": [
       "<div>\n",
       "<style scoped>\n",
       "    .dataframe tbody tr th:only-of-type {\n",
       "        vertical-align: middle;\n",
       "    }\n",
       "\n",
       "    .dataframe tbody tr th {\n",
       "        vertical-align: top;\n",
       "    }\n",
       "\n",
       "    .dataframe thead th {\n",
       "        text-align: right;\n",
       "    }\n",
       "</style>\n",
       "<table border=\"1\" class=\"dataframe\">\n",
       "  <thead>\n",
       "    <tr style=\"text-align: right;\">\n",
       "      <th></th>\n",
       "      <th>algoritmo</th>\n",
       "      <th>dados</th>\n",
       "      <th>acuracia</th>\n",
       "      <th>precisao</th>\n",
       "      <th>recall</th>\n",
       "      <th>f1</th>\n",
       "    </tr>\n",
       "  </thead>\n",
       "  <tbody>\n",
       "    <tr>\n",
       "      <th>0</th>\n",
       "      <td>random forest</td>\n",
       "      <td>teste</td>\n",
       "      <td>0.935929</td>\n",
       "      <td>0.932377</td>\n",
       "      <td>0.92081</td>\n",
       "      <td>0.926557</td>\n",
       "    </tr>\n",
       "  </tbody>\n",
       "</table>\n",
       "</div>"
      ],
      "text/plain": [
       "       algoritmo  dados  acuracia  precisao   recall        f1\n",
       "0  random forest  teste  0.935929  0.932377  0.92081  0.926557"
      ]
     },
     "execution_count": 31,
     "metadata": {},
     "output_type": "execute_result"
    }
   ],
   "source": [
    "max_depth = 8\n",
    "n_estimators = 4\n",
    "\n",
    "modelo_random = en.RandomForestClassifier(max_depth = max_depth, n_estimators = n_estimators, random_state = 0) #Instanciando um objeto com o algoritmo\n",
    "modelo_random.fit(pd.concat([x_treino, x_validacao]),\n",
    "                  pd.concat([y_treino, y_validacao]))\n",
    "\n",
    "y_pred = modelo_random.predict(x_teste)\n",
    "\n",
    "acuracia = mt.accuracy_score(y_teste, y_pred)\n",
    "precisao = mt.precision_score(y_teste, y_pred)\n",
    "recall = mt.recall_score(y_teste, y_pred)\n",
    "f1 = mt.f1_score(y_teste, y_pred)\n",
    "        \n",
    "resultado_random_teste = pd.DataFrame(np.array([acuracia, precisao, recall, f1])).T\n",
    "resultado_random_teste = resultado_random_teste.rename(columns = {0: 'acuracia', \n",
    "                                                                  1: 'precisao',\n",
    "                                                                  2: 'recall',\n",
    "                                                                  3: 'f1'})\n",
    "resultado_random_teste.insert(0, 'dados', 'teste')\n",
    "resultado_random_teste.insert(0, 'algoritmo', 'random forest')\n",
    "resultado_random_teste"
   ]
  },
  {
   "cell_type": "code",
   "execution_count": 32,
   "id": "4f1feccb-6c8f-4b2b-8b36-4181d75ee2b1",
   "metadata": {
    "tags": []
   },
   "outputs": [
    {
     "data": {
      "text/html": [
       "<div>\n",
       "<style scoped>\n",
       "    .dataframe tbody tr th:only-of-type {\n",
       "        vertical-align: middle;\n",
       "    }\n",
       "\n",
       "    .dataframe tbody tr th {\n",
       "        vertical-align: top;\n",
       "    }\n",
       "\n",
       "    .dataframe thead th {\n",
       "        text-align: right;\n",
       "    }\n",
       "</style>\n",
       "<table border=\"1\" class=\"dataframe\">\n",
       "  <thead>\n",
       "    <tr style=\"text-align: right;\">\n",
       "      <th></th>\n",
       "      <th>algoritmo</th>\n",
       "      <th>dados</th>\n",
       "      <th>acuracia</th>\n",
       "      <th>precisao</th>\n",
       "      <th>recall</th>\n",
       "      <th>f1</th>\n",
       "    </tr>\n",
       "  </thead>\n",
       "  <tbody>\n",
       "    <tr>\n",
       "      <th>0</th>\n",
       "      <td>random forest</td>\n",
       "      <td>treino</td>\n",
       "      <td>0.939419</td>\n",
       "      <td>0.939008</td>\n",
       "      <td>0.919976</td>\n",
       "      <td>0.929395</td>\n",
       "    </tr>\n",
       "    <tr>\n",
       "      <th>0</th>\n",
       "      <td>random forest</td>\n",
       "      <td>validacao</td>\n",
       "      <td>0.936903</td>\n",
       "      <td>0.935513</td>\n",
       "      <td>0.917663</td>\n",
       "      <td>0.926502</td>\n",
       "    </tr>\n",
       "    <tr>\n",
       "      <th>0</th>\n",
       "      <td>random forest</td>\n",
       "      <td>teste</td>\n",
       "      <td>0.935929</td>\n",
       "      <td>0.932377</td>\n",
       "      <td>0.920810</td>\n",
       "      <td>0.926557</td>\n",
       "    </tr>\n",
       "  </tbody>\n",
       "</table>\n",
       "</div>"
      ],
      "text/plain": [
       "       algoritmo      dados  acuracia  precisao    recall        f1\n",
       "0  random forest     treino  0.939419  0.939008  0.919976  0.929395\n",
       "0  random forest  validacao  0.936903  0.935513  0.917663  0.926502\n",
       "0  random forest      teste  0.935929  0.932377  0.920810  0.926557"
      ]
     },
     "execution_count": 32,
     "metadata": {},
     "output_type": "execute_result"
    }
   ],
   "source": [
    "resultado_random = pd.concat([resultado_random_treino, resultado_random_validacao, resultado_random_teste])\n",
    "resultado_random"
   ]
  },
  {
   "cell_type": "markdown",
   "id": "07f1888c-c531-44ea-a9d6-5bad85ef7813",
   "metadata": {
    "jp-MarkdownHeadingCollapsed": true,
    "tags": []
   },
   "source": [
    "## Algoritmo Logistic Regression"
   ]
  },
  {
   "cell_type": "markdown",
   "id": "dae06abb-a3b3-4709-886b-7c36aecdc409",
   "metadata": {
    "tags": []
   },
   "source": [
    "#### Dados de treino"
   ]
  },
  {
   "cell_type": "code",
   "execution_count": 51,
   "id": "f28a638d-ab8b-462b-b32b-fd4926ded3fa",
   "metadata": {
    "tags": []
   },
   "outputs": [
    {
     "name": "stdout",
     "output_type": "stream",
     "text": [
      "2 / 100 - 0.8722\n",
      "3 / 100 - 0.8722\n",
      "4 / 100 - 0.8722\n",
      "5 / 100 - 0.8722\n",
      "6 / 100 - 0.8722\n",
      "7 / 100 - 0.8722\n",
      "8 / 100 - 0.8722\n",
      "9 / 100 - 0.9240\n",
      "10 / 100 - 0.8722\n",
      "11 / 100 - 0.8722\n",
      "12 / 100 - 0.8728\n",
      "13 / 100 - 0.8722\n",
      "14 / 100 - 0.8722\n",
      "15 / 100 - 0.8722\n",
      "16 / 100 - 0.8722\n",
      "17 / 100 - 0.8722\n",
      "18 / 100 - 0.8722\n",
      "19 / 100 - 0.8722\n"
     ]
    }
   ],
   "source": [
    "#Definição de parâmetros do treinamento\n",
    "C_ = np.arange(2, 20, 1)\n",
    "max_iter_ = np.arange(100, 110, 10)\n",
    "\n",
    "for i in C_:\n",
    "    for e in max_iter_:        \n",
    "        modelo_logistic = lm.LogisticRegression(C = i, solver = 'liblinear', max_iter = e, random_state = 0) #Instanciando um objeto com o algoritmo\n",
    "        modelo_logistic.fit(x_treino, y_treino) #Treinando o algoritmo com as variáveis preditoras e as classes\n",
    "\n",
    "        y_pred_logistic = modelo_logistic.predict_proba(x_treino)\n",
    "        roc_auc_score = mt.roc_auc_score(y_treino, y_pred_logistic[:, 1])\n",
    "\n",
    "        print('{parametro_1} / {parametro_2} - {score:.4f}'.format(parametro_1 = i, parametro_2 = e, score = roc_auc_score))"
   ]
  },
  {
   "cell_type": "code",
   "execution_count": 52,
   "id": "64f94618-1f09-4692-8458-940835002e2b",
   "metadata": {
    "tags": []
   },
   "outputs": [
    {
     "data": {
      "text/html": [
       "<div>\n",
       "<style scoped>\n",
       "    .dataframe tbody tr th:only-of-type {\n",
       "        vertical-align: middle;\n",
       "    }\n",
       "\n",
       "    .dataframe tbody tr th {\n",
       "        vertical-align: top;\n",
       "    }\n",
       "\n",
       "    .dataframe thead th {\n",
       "        text-align: right;\n",
       "    }\n",
       "</style>\n",
       "<table border=\"1\" class=\"dataframe\">\n",
       "  <thead>\n",
       "    <tr style=\"text-align: right;\">\n",
       "      <th></th>\n",
       "      <th>algoritmo</th>\n",
       "      <th>dados</th>\n",
       "      <th>acuracia</th>\n",
       "      <th>precisao</th>\n",
       "      <th>recall</th>\n",
       "      <th>f1</th>\n",
       "    </tr>\n",
       "  </thead>\n",
       "  <tbody>\n",
       "    <tr>\n",
       "      <th>0</th>\n",
       "      <td>logistic regression</td>\n",
       "      <td>treino</td>\n",
       "      <td>0.868841</td>\n",
       "      <td>0.855392</td>\n",
       "      <td>0.839252</td>\n",
       "      <td>0.847245</td>\n",
       "    </tr>\n",
       "  </tbody>\n",
       "</table>\n",
       "</div>"
      ],
      "text/plain": [
       "             algoritmo   dados  acuracia  precisao    recall        f1\n",
       "0  logistic regression  treino  0.868841  0.855392  0.839252  0.847245"
      ]
     },
     "execution_count": 52,
     "metadata": {},
     "output_type": "execute_result"
    }
   ],
   "source": [
    "C_ = 9\n",
    "max_iter_ = 100\n",
    "\n",
    "modelo_logistic = lm.LogisticRegression(C = C_, solver = 'liblinear', max_iter = max_iter_, random_state = 0) #Instanciando um objeto com o algoritmo\n",
    "modelo_logistic.fit(x_treino, y_treino) #Treinando o algoritmo com as variáveis preditoras e as classes\n",
    "\n",
    "y_pred = modelo_logistic.predict(x_treino)\n",
    "\n",
    "acuracia = mt.accuracy_score(y_treino, y_pred)\n",
    "precisao = mt.precision_score(y_treino, y_pred)\n",
    "recall = mt.recall_score(y_treino, y_pred)\n",
    "f1 = mt.f1_score(y_treino, y_pred)\n",
    "        \n",
    "resultado_logistic_treino = pd.DataFrame(np.array([acuracia, precisao, recall, f1])).T\n",
    "resultado_logistic_treino = resultado_logistic_treino.rename(columns = {0: 'acuracia', \n",
    "                                                                        1: 'precisao',\n",
    "                                                                        2: 'recall',\n",
    "                                                                        3: 'f1'})\n",
    "resultado_logistic_treino.insert(0, 'dados', 'treino')\n",
    "resultado_logistic_treino.insert(0, 'algoritmo', 'logistic regression')\n",
    "resultado_logistic_treino"
   ]
  },
  {
   "cell_type": "markdown",
   "id": "616007e8-e6d8-4628-9ac0-963ad6ee2ac4",
   "metadata": {
    "tags": []
   },
   "source": [
    "#### Dados de validação"
   ]
  },
  {
   "cell_type": "code",
   "execution_count": 53,
   "id": "ee5ae3d3-0121-42bf-a46a-cb686df66615",
   "metadata": {},
   "outputs": [
    {
     "name": "stdout",
     "output_type": "stream",
     "text": [
      "2 / 100 - 0.8730\n",
      "3 / 100 - 0.8730\n",
      "4 / 100 - 0.8730\n",
      "5 / 100 - 0.8730\n",
      "6 / 100 - 0.8730\n",
      "7 / 100 - 0.8730\n",
      "8 / 100 - 0.8730\n",
      "9 / 100 - 0.9223\n",
      "10 / 100 - 0.8730\n",
      "11 / 100 - 0.8730\n",
      "12 / 100 - 0.8741\n",
      "13 / 100 - 0.8730\n",
      "14 / 100 - 0.8730\n",
      "15 / 100 - 0.8730\n",
      "16 / 100 - 0.8730\n",
      "17 / 100 - 0.8730\n",
      "18 / 100 - 0.8730\n",
      "19 / 100 - 0.8730\n"
     ]
    }
   ],
   "source": [
    "#Definição de parâmetros do treinamento\n",
    "C_ = np.arange(2, 20, 1)\n",
    "max_iter_ = np.arange(100, 110, 10)\n",
    "\n",
    "for i in C_:\n",
    "    for e in max_iter_:        \n",
    "        modelo_logistic = lm.LogisticRegression(C = i, solver = 'liblinear', max_iter = e, random_state = 0) #Instanciando um objeto com o algoritmo\n",
    "        modelo_logistic.fit(x_treino, y_treino) #Treinando o algoritmo com as variáveis preditoras e as classes\n",
    "\n",
    "        y_pred_logistic = modelo_logistic.predict_proba(x_validacao)\n",
    "        roc_auc_score = mt.roc_auc_score(y_validacao, y_pred_logistic[:, 1])\n",
    "\n",
    "        print('{parametro_1} / {parametro_2} - {score:.4f}'.format(parametro_1 = i, parametro_2 = e, score = roc_auc_score))"
   ]
  },
  {
   "cell_type": "code",
   "execution_count": 55,
   "id": "c8f4e4dd-804e-403d-b85a-e3211932de5b",
   "metadata": {},
   "outputs": [
    {
     "data": {
      "text/html": [
       "<div>\n",
       "<style scoped>\n",
       "    .dataframe tbody tr th:only-of-type {\n",
       "        vertical-align: middle;\n",
       "    }\n",
       "\n",
       "    .dataframe tbody tr th {\n",
       "        vertical-align: top;\n",
       "    }\n",
       "\n",
       "    .dataframe thead th {\n",
       "        text-align: right;\n",
       "    }\n",
       "</style>\n",
       "<table border=\"1\" class=\"dataframe\">\n",
       "  <thead>\n",
       "    <tr style=\"text-align: right;\">\n",
       "      <th></th>\n",
       "      <th>algoritmo</th>\n",
       "      <th>dados</th>\n",
       "      <th>acuracia</th>\n",
       "      <th>precisao</th>\n",
       "      <th>recall</th>\n",
       "      <th>f1</th>\n",
       "    </tr>\n",
       "  </thead>\n",
       "  <tbody>\n",
       "    <tr>\n",
       "      <th>0</th>\n",
       "      <td>logistic regression</td>\n",
       "      <td>validacao</td>\n",
       "      <td>0.866888</td>\n",
       "      <td>0.854613</td>\n",
       "      <td>0.83488</td>\n",
       "      <td>0.844631</td>\n",
       "    </tr>\n",
       "  </tbody>\n",
       "</table>\n",
       "</div>"
      ],
      "text/plain": [
       "             algoritmo      dados  acuracia  precisao   recall        f1\n",
       "0  logistic regression  validacao  0.866888  0.854613  0.83488  0.844631"
      ]
     },
     "execution_count": 55,
     "metadata": {},
     "output_type": "execute_result"
    }
   ],
   "source": [
    "C_ = 9\n",
    "max_iter_ = 100\n",
    "\n",
    "modelo_logistic = lm.LogisticRegression(C = C_, solver = 'liblinear', max_iter = max_iter_, random_state = 0) #Instanciando um objeto com o algoritmo\n",
    "modelo_logistic.fit(x_treino, y_treino) #Treinando o algoritmo com as variáveis preditoras e as classes\n",
    "\n",
    "y_pred = modelo_logistic.predict(x_validacao)\n",
    "\n",
    "acuracia = mt.accuracy_score(y_validacao, y_pred)\n",
    "precisao = mt.precision_score(y_validacao, y_pred)\n",
    "recall = mt.recall_score(y_validacao, y_pred)\n",
    "f1 = mt.f1_score(y_validacao, y_pred)\n",
    "        \n",
    "resultado_logistic_validacao = pd.DataFrame(np.array([acuracia, precisao, recall, f1])).T\n",
    "resultado_logistic_validacao = resultado_logistic_validacao.rename(columns = {0: 'acuracia', \n",
    "                                                                              1: 'precisao',\n",
    "                                                                              2: 'recall',\n",
    "                                                                              3: 'f1'})\n",
    "resultado_logistic_validacao.insert(0, 'dados', 'validacao')\n",
    "resultado_logistic_validacao.insert(0, 'algoritmo', 'logistic regression')\n",
    "resultado_logistic_validacao"
   ]
  },
  {
   "cell_type": "markdown",
   "id": "b2768293-805d-4dc1-ab28-54efe0393ab7",
   "metadata": {
    "tags": []
   },
   "source": [
    "#### Dados de teste"
   ]
  },
  {
   "cell_type": "code",
   "execution_count": 57,
   "id": "72e5a224-69a0-4a24-8ff7-6b0a44151c70",
   "metadata": {},
   "outputs": [
    {
     "data": {
      "text/html": [
       "<div>\n",
       "<style scoped>\n",
       "    .dataframe tbody tr th:only-of-type {\n",
       "        vertical-align: middle;\n",
       "    }\n",
       "\n",
       "    .dataframe tbody tr th {\n",
       "        vertical-align: top;\n",
       "    }\n",
       "\n",
       "    .dataframe thead th {\n",
       "        text-align: right;\n",
       "    }\n",
       "</style>\n",
       "<table border=\"1\" class=\"dataframe\">\n",
       "  <thead>\n",
       "    <tr style=\"text-align: right;\">\n",
       "      <th></th>\n",
       "      <th>algoritmo</th>\n",
       "      <th>dados</th>\n",
       "      <th>acuracia</th>\n",
       "      <th>precisao</th>\n",
       "      <th>recall</th>\n",
       "      <th>f1</th>\n",
       "    </tr>\n",
       "  </thead>\n",
       "  <tbody>\n",
       "    <tr>\n",
       "      <th>0</th>\n",
       "      <td>logistic regression</td>\n",
       "      <td>teste</td>\n",
       "      <td>0.641216</td>\n",
       "      <td>0.629801</td>\n",
       "      <td>0.442939</td>\n",
       "      <td>0.520095</td>\n",
       "    </tr>\n",
       "  </tbody>\n",
       "</table>\n",
       "</div>"
      ],
      "text/plain": [
       "             algoritmo  dados  acuracia  precisao    recall        f1\n",
       "0  logistic regression  teste  0.641216  0.629801  0.442939  0.520095"
      ]
     },
     "execution_count": 57,
     "metadata": {},
     "output_type": "execute_result"
    }
   ],
   "source": [
    "C_ = 9\n",
    "max_iter_ = 100\n",
    "\n",
    "modelo_logistic = lm.LogisticRegression(C = C_, solver = 'liblinear', max_iter = max_iter_, random_state = 0) #Instanciando um objeto com o algoritmo\n",
    "modelo_logistic.fit(pd.concat([x_treino, x_validacao]),\n",
    "                    pd.concat([y_treino, y_validacao])) #Treinando o algoritmo com as variáveis preditoras e as classes\n",
    "\n",
    "y_pred = modelo_logistic.predict(x_teste)\n",
    "\n",
    "acuracia = mt.accuracy_score(y_teste, y_pred)\n",
    "precisao = mt.precision_score(y_teste, y_pred)\n",
    "recall = mt.recall_score(y_teste, y_pred)\n",
    "f1 = mt.f1_score(y_teste, y_pred)\n",
    "        \n",
    "resultado_logistic_teste = pd.DataFrame(np.array([acuracia, precisao, recall, f1])).T\n",
    "resultado_logistic_teste = resultado_logistic_teste.rename(columns = {0: 'acuracia', \n",
    "                                                                      1: 'precisao',\n",
    "                                                                      2: 'recall',\n",
    "                                                                      3: 'f1'})\n",
    "resultado_logistic_teste.insert(0, 'dados', 'teste')\n",
    "resultado_logistic_teste.insert(0, 'algoritmo', 'logistic regression')\n",
    "resultado_logistic_teste"
   ]
  },
  {
   "cell_type": "code",
   "execution_count": 58,
   "id": "13ce9308-1ae7-4fab-8e88-00d5c24f1926",
   "metadata": {},
   "outputs": [
    {
     "data": {
      "text/html": [
       "<div>\n",
       "<style scoped>\n",
       "    .dataframe tbody tr th:only-of-type {\n",
       "        vertical-align: middle;\n",
       "    }\n",
       "\n",
       "    .dataframe tbody tr th {\n",
       "        vertical-align: top;\n",
       "    }\n",
       "\n",
       "    .dataframe thead th {\n",
       "        text-align: right;\n",
       "    }\n",
       "</style>\n",
       "<table border=\"1\" class=\"dataframe\">\n",
       "  <thead>\n",
       "    <tr style=\"text-align: right;\">\n",
       "      <th></th>\n",
       "      <th>algoritmo</th>\n",
       "      <th>dados</th>\n",
       "      <th>acuracia</th>\n",
       "      <th>precisao</th>\n",
       "      <th>recall</th>\n",
       "      <th>f1</th>\n",
       "    </tr>\n",
       "  </thead>\n",
       "  <tbody>\n",
       "    <tr>\n",
       "      <th>0</th>\n",
       "      <td>logistic regression</td>\n",
       "      <td>treino</td>\n",
       "      <td>0.868841</td>\n",
       "      <td>0.855392</td>\n",
       "      <td>0.839252</td>\n",
       "      <td>0.847245</td>\n",
       "    </tr>\n",
       "    <tr>\n",
       "      <th>0</th>\n",
       "      <td>logistic regression</td>\n",
       "      <td>validacao</td>\n",
       "      <td>0.866888</td>\n",
       "      <td>0.854613</td>\n",
       "      <td>0.834880</td>\n",
       "      <td>0.844631</td>\n",
       "    </tr>\n",
       "    <tr>\n",
       "      <th>0</th>\n",
       "      <td>logistic regression</td>\n",
       "      <td>teste</td>\n",
       "      <td>0.641216</td>\n",
       "      <td>0.629801</td>\n",
       "      <td>0.442939</td>\n",
       "      <td>0.520095</td>\n",
       "    </tr>\n",
       "  </tbody>\n",
       "</table>\n",
       "</div>"
      ],
      "text/plain": [
       "             algoritmo      dados  acuracia  precisao    recall        f1\n",
       "0  logistic regression     treino  0.868841  0.855392  0.839252  0.847245\n",
       "0  logistic regression  validacao  0.866888  0.854613  0.834880  0.844631\n",
       "0  logistic regression      teste  0.641216  0.629801  0.442939  0.520095"
      ]
     },
     "execution_count": 58,
     "metadata": {},
     "output_type": "execute_result"
    }
   ],
   "source": [
    "resultado_logistic = pd.concat([resultado_logistic_treino, resultado_logistic_validacao, resultado_logistic_teste])\n",
    "resultado_logistic"
   ]
  },
  {
   "cell_type": "markdown",
   "id": "a0ee0457-d295-4e82-9b7c-f3bc49d5b07e",
   "metadata": {},
   "source": [
    "## Resultado"
   ]
  },
  {
   "cell_type": "code",
   "execution_count": 60,
   "id": "527573ff-c7a6-4053-bf71-a2a373b54121",
   "metadata": {
    "tags": []
   },
   "outputs": [
    {
     "data": {
      "text/html": [
       "<div>\n",
       "<style scoped>\n",
       "    .dataframe tbody tr th:only-of-type {\n",
       "        vertical-align: middle;\n",
       "    }\n",
       "\n",
       "    .dataframe tbody tr th {\n",
       "        vertical-align: top;\n",
       "    }\n",
       "\n",
       "    .dataframe thead th {\n",
       "        text-align: right;\n",
       "    }\n",
       "</style>\n",
       "<table border=\"1\" class=\"dataframe\">\n",
       "  <thead>\n",
       "    <tr style=\"text-align: right;\">\n",
       "      <th></th>\n",
       "      <th>algoritmo</th>\n",
       "      <th>dados</th>\n",
       "      <th>acuracia</th>\n",
       "      <th>precisao</th>\n",
       "      <th>recall</th>\n",
       "      <th>f1</th>\n",
       "    </tr>\n",
       "  </thead>\n",
       "  <tbody>\n",
       "    <tr>\n",
       "      <th>0</th>\n",
       "      <td>knn</td>\n",
       "      <td>treino</td>\n",
       "      <td>1.000000</td>\n",
       "      <td>1.000000</td>\n",
       "      <td>1.000000</td>\n",
       "      <td>1.000000</td>\n",
       "    </tr>\n",
       "    <tr>\n",
       "      <th>1</th>\n",
       "      <td>knn</td>\n",
       "      <td>validacao</td>\n",
       "      <td>0.676277</td>\n",
       "      <td>0.627851</td>\n",
       "      <td>0.621278</td>\n",
       "      <td>0.624548</td>\n",
       "    </tr>\n",
       "    <tr>\n",
       "      <th>2</th>\n",
       "      <td>knn</td>\n",
       "      <td>teste</td>\n",
       "      <td>0.688449</td>\n",
       "      <td>0.648025</td>\n",
       "      <td>0.635196</td>\n",
       "      <td>0.641546</td>\n",
       "    </tr>\n",
       "    <tr>\n",
       "      <th>0</th>\n",
       "      <td>decision tree</td>\n",
       "      <td>treino</td>\n",
       "      <td>0.942702</td>\n",
       "      <td>0.950332</td>\n",
       "      <td>0.915648</td>\n",
       "      <td>0.932668</td>\n",
       "    </tr>\n",
       "    <tr>\n",
       "      <th>0</th>\n",
       "      <td>decision tree</td>\n",
       "      <td>validacao</td>\n",
       "      <td>0.939895</td>\n",
       "      <td>0.947466</td>\n",
       "      <td>0.911872</td>\n",
       "      <td>0.929328</td>\n",
       "    </tr>\n",
       "    <tr>\n",
       "      <th>0</th>\n",
       "      <td>decision tree</td>\n",
       "      <td>teste</td>\n",
       "      <td>0.938207</td>\n",
       "      <td>0.943420</td>\n",
       "      <td>0.914034</td>\n",
       "      <td>0.928495</td>\n",
       "    </tr>\n",
       "    <tr>\n",
       "      <th>0</th>\n",
       "      <td>random forest</td>\n",
       "      <td>treino</td>\n",
       "      <td>0.939419</td>\n",
       "      <td>0.939008</td>\n",
       "      <td>0.919976</td>\n",
       "      <td>0.929395</td>\n",
       "    </tr>\n",
       "    <tr>\n",
       "      <th>0</th>\n",
       "      <td>random forest</td>\n",
       "      <td>validacao</td>\n",
       "      <td>0.936903</td>\n",
       "      <td>0.935513</td>\n",
       "      <td>0.917663</td>\n",
       "      <td>0.926502</td>\n",
       "    </tr>\n",
       "    <tr>\n",
       "      <th>0</th>\n",
       "      <td>random forest</td>\n",
       "      <td>teste</td>\n",
       "      <td>0.935929</td>\n",
       "      <td>0.932377</td>\n",
       "      <td>0.920810</td>\n",
       "      <td>0.926557</td>\n",
       "    </tr>\n",
       "    <tr>\n",
       "      <th>0</th>\n",
       "      <td>logistic regression</td>\n",
       "      <td>treino</td>\n",
       "      <td>0.868841</td>\n",
       "      <td>0.855392</td>\n",
       "      <td>0.839252</td>\n",
       "      <td>0.847245</td>\n",
       "    </tr>\n",
       "    <tr>\n",
       "      <th>0</th>\n",
       "      <td>logistic regression</td>\n",
       "      <td>validacao</td>\n",
       "      <td>0.866888</td>\n",
       "      <td>0.854613</td>\n",
       "      <td>0.834880</td>\n",
       "      <td>0.844631</td>\n",
       "    </tr>\n",
       "    <tr>\n",
       "      <th>0</th>\n",
       "      <td>logistic regression</td>\n",
       "      <td>teste</td>\n",
       "      <td>0.641216</td>\n",
       "      <td>0.629801</td>\n",
       "      <td>0.442939</td>\n",
       "      <td>0.520095</td>\n",
       "    </tr>\n",
       "  </tbody>\n",
       "</table>\n",
       "</div>"
      ],
      "text/plain": [
       "             algoritmo      dados  acuracia  precisao    recall        f1\n",
       "0                  knn     treino  1.000000  1.000000  1.000000  1.000000\n",
       "1                  knn  validacao  0.676277  0.627851  0.621278  0.624548\n",
       "2                  knn      teste  0.688449  0.648025  0.635196  0.641546\n",
       "0        decision tree     treino  0.942702  0.950332  0.915648  0.932668\n",
       "0        decision tree  validacao  0.939895  0.947466  0.911872  0.929328\n",
       "0        decision tree      teste  0.938207  0.943420  0.914034  0.928495\n",
       "0        random forest     treino  0.939419  0.939008  0.919976  0.929395\n",
       "0        random forest  validacao  0.936903  0.935513  0.917663  0.926502\n",
       "0        random forest      teste  0.935929  0.932377  0.920810  0.926557\n",
       "0  logistic regression     treino  0.868841  0.855392  0.839252  0.847245\n",
       "0  logistic regression  validacao  0.866888  0.854613  0.834880  0.844631\n",
       "0  logistic regression      teste  0.641216  0.629801  0.442939  0.520095"
      ]
     },
     "execution_count": 60,
     "metadata": {},
     "output_type": "execute_result"
    }
   ],
   "source": [
    "resultado = pd.concat([resultado_knn, resultado_arvore,\n",
    "                       resultado_random, resultado_logistic])"
   ]
  },
  {
   "cell_type": "markdown",
   "id": "00a70e1c-7fed-4552-8348-e337d410faba",
   "metadata": {},
   "source": [
    "#### Treino"
   ]
  },
  {
   "cell_type": "code",
   "execution_count": 73,
   "id": "ae95ab31-743d-479f-b8ae-e779ba75aa46",
   "metadata": {
    "tags": []
   },
   "outputs": [
    {
     "data": {
      "text/html": [
       "<style type=\"text/css\">\n",
       "#T_a776b_row0_col2, #T_a776b_row0_col3, #T_a776b_row0_col4, #T_a776b_row0_col5 {\n",
       "  background-color: red;\n",
       "}\n",
       "</style>\n",
       "<table id=\"T_a776b\">\n",
       "  <thead>\n",
       "    <tr>\n",
       "      <th class=\"blank level0\" >&nbsp;</th>\n",
       "      <th id=\"T_a776b_level0_col0\" class=\"col_heading level0 col0\" >algoritmo</th>\n",
       "      <th id=\"T_a776b_level0_col1\" class=\"col_heading level0 col1\" >dados</th>\n",
       "      <th id=\"T_a776b_level0_col2\" class=\"col_heading level0 col2\" >acuracia</th>\n",
       "      <th id=\"T_a776b_level0_col3\" class=\"col_heading level0 col3\" >precisao</th>\n",
       "      <th id=\"T_a776b_level0_col4\" class=\"col_heading level0 col4\" >recall</th>\n",
       "      <th id=\"T_a776b_level0_col5\" class=\"col_heading level0 col5\" >f1</th>\n",
       "    </tr>\n",
       "  </thead>\n",
       "  <tbody>\n",
       "    <tr>\n",
       "      <th id=\"T_a776b_level0_row0\" class=\"row_heading level0 row0\" >0</th>\n",
       "      <td id=\"T_a776b_row0_col0\" class=\"data row0 col0\" >knn</td>\n",
       "      <td id=\"T_a776b_row0_col1\" class=\"data row0 col1\" >treino</td>\n",
       "      <td id=\"T_a776b_row0_col2\" class=\"data row0 col2\" >1.000000</td>\n",
       "      <td id=\"T_a776b_row0_col3\" class=\"data row0 col3\" >1.000000</td>\n",
       "      <td id=\"T_a776b_row0_col4\" class=\"data row0 col4\" >1.000000</td>\n",
       "      <td id=\"T_a776b_row0_col5\" class=\"data row0 col5\" >1.000000</td>\n",
       "    </tr>\n",
       "    <tr>\n",
       "      <th id=\"T_a776b_level0_row1\" class=\"row_heading level0 row1\" >1</th>\n",
       "      <td id=\"T_a776b_row1_col0\" class=\"data row1 col0\" >decision tree</td>\n",
       "      <td id=\"T_a776b_row1_col1\" class=\"data row1 col1\" >treino</td>\n",
       "      <td id=\"T_a776b_row1_col2\" class=\"data row1 col2\" >0.942702</td>\n",
       "      <td id=\"T_a776b_row1_col3\" class=\"data row1 col3\" >0.950332</td>\n",
       "      <td id=\"T_a776b_row1_col4\" class=\"data row1 col4\" >0.915648</td>\n",
       "      <td id=\"T_a776b_row1_col5\" class=\"data row1 col5\" >0.932668</td>\n",
       "    </tr>\n",
       "    <tr>\n",
       "      <th id=\"T_a776b_level0_row2\" class=\"row_heading level0 row2\" >2</th>\n",
       "      <td id=\"T_a776b_row2_col0\" class=\"data row2 col0\" >random forest</td>\n",
       "      <td id=\"T_a776b_row2_col1\" class=\"data row2 col1\" >treino</td>\n",
       "      <td id=\"T_a776b_row2_col2\" class=\"data row2 col2\" >0.939419</td>\n",
       "      <td id=\"T_a776b_row2_col3\" class=\"data row2 col3\" >0.939008</td>\n",
       "      <td id=\"T_a776b_row2_col4\" class=\"data row2 col4\" >0.919976</td>\n",
       "      <td id=\"T_a776b_row2_col5\" class=\"data row2 col5\" >0.929395</td>\n",
       "    </tr>\n",
       "    <tr>\n",
       "      <th id=\"T_a776b_level0_row3\" class=\"row_heading level0 row3\" >3</th>\n",
       "      <td id=\"T_a776b_row3_col0\" class=\"data row3 col0\" >logistic regression</td>\n",
       "      <td id=\"T_a776b_row3_col1\" class=\"data row3 col1\" >treino</td>\n",
       "      <td id=\"T_a776b_row3_col2\" class=\"data row3 col2\" >0.868841</td>\n",
       "      <td id=\"T_a776b_row3_col3\" class=\"data row3 col3\" >0.855392</td>\n",
       "      <td id=\"T_a776b_row3_col4\" class=\"data row3 col4\" >0.839252</td>\n",
       "      <td id=\"T_a776b_row3_col5\" class=\"data row3 col5\" >0.847245</td>\n",
       "    </tr>\n",
       "  </tbody>\n",
       "</table>\n"
      ],
      "text/plain": [
       "<pandas.io.formats.style.Styler at 0x23cb367a390>"
      ]
     },
     "execution_count": 73,
     "metadata": {},
     "output_type": "execute_result"
    }
   ],
   "source": [
    "resultado_treino = resultado.loc[resultado['dados'] == 'treino'].reset_index(drop = True)\n",
    "resultado_treino.style.highlight_max(subset = ['acuracia', 'precisao', 'recall', 'f1'], color = 'red')"
   ]
  },
  {
   "cell_type": "markdown",
   "id": "446b539c-976a-4c4d-9753-be8d3a24fc86",
   "metadata": {},
   "source": [
    "#### Validação"
   ]
  },
  {
   "cell_type": "code",
   "execution_count": 74,
   "id": "31ac1878-b5b4-4408-aa89-0b83e3db7f02",
   "metadata": {
    "tags": []
   },
   "outputs": [
    {
     "data": {
      "text/html": [
       "<style type=\"text/css\">\n",
       "#T_7c923_row1_col2, #T_7c923_row1_col3, #T_7c923_row1_col5, #T_7c923_row2_col4 {\n",
       "  background-color: red;\n",
       "}\n",
       "</style>\n",
       "<table id=\"T_7c923\">\n",
       "  <thead>\n",
       "    <tr>\n",
       "      <th class=\"blank level0\" >&nbsp;</th>\n",
       "      <th id=\"T_7c923_level0_col0\" class=\"col_heading level0 col0\" >algoritmo</th>\n",
       "      <th id=\"T_7c923_level0_col1\" class=\"col_heading level0 col1\" >dados</th>\n",
       "      <th id=\"T_7c923_level0_col2\" class=\"col_heading level0 col2\" >acuracia</th>\n",
       "      <th id=\"T_7c923_level0_col3\" class=\"col_heading level0 col3\" >precisao</th>\n",
       "      <th id=\"T_7c923_level0_col4\" class=\"col_heading level0 col4\" >recall</th>\n",
       "      <th id=\"T_7c923_level0_col5\" class=\"col_heading level0 col5\" >f1</th>\n",
       "    </tr>\n",
       "  </thead>\n",
       "  <tbody>\n",
       "    <tr>\n",
       "      <th id=\"T_7c923_level0_row0\" class=\"row_heading level0 row0\" >0</th>\n",
       "      <td id=\"T_7c923_row0_col0\" class=\"data row0 col0\" >knn</td>\n",
       "      <td id=\"T_7c923_row0_col1\" class=\"data row0 col1\" >validacao</td>\n",
       "      <td id=\"T_7c923_row0_col2\" class=\"data row0 col2\" >0.676277</td>\n",
       "      <td id=\"T_7c923_row0_col3\" class=\"data row0 col3\" >0.627851</td>\n",
       "      <td id=\"T_7c923_row0_col4\" class=\"data row0 col4\" >0.621278</td>\n",
       "      <td id=\"T_7c923_row0_col5\" class=\"data row0 col5\" >0.624548</td>\n",
       "    </tr>\n",
       "    <tr>\n",
       "      <th id=\"T_7c923_level0_row1\" class=\"row_heading level0 row1\" >1</th>\n",
       "      <td id=\"T_7c923_row1_col0\" class=\"data row1 col0\" >decision tree</td>\n",
       "      <td id=\"T_7c923_row1_col1\" class=\"data row1 col1\" >validacao</td>\n",
       "      <td id=\"T_7c923_row1_col2\" class=\"data row1 col2\" >0.939895</td>\n",
       "      <td id=\"T_7c923_row1_col3\" class=\"data row1 col3\" >0.947466</td>\n",
       "      <td id=\"T_7c923_row1_col4\" class=\"data row1 col4\" >0.911872</td>\n",
       "      <td id=\"T_7c923_row1_col5\" class=\"data row1 col5\" >0.929328</td>\n",
       "    </tr>\n",
       "    <tr>\n",
       "      <th id=\"T_7c923_level0_row2\" class=\"row_heading level0 row2\" >2</th>\n",
       "      <td id=\"T_7c923_row2_col0\" class=\"data row2 col0\" >random forest</td>\n",
       "      <td id=\"T_7c923_row2_col1\" class=\"data row2 col1\" >validacao</td>\n",
       "      <td id=\"T_7c923_row2_col2\" class=\"data row2 col2\" >0.936903</td>\n",
       "      <td id=\"T_7c923_row2_col3\" class=\"data row2 col3\" >0.935513</td>\n",
       "      <td id=\"T_7c923_row2_col4\" class=\"data row2 col4\" >0.917663</td>\n",
       "      <td id=\"T_7c923_row2_col5\" class=\"data row2 col5\" >0.926502</td>\n",
       "    </tr>\n",
       "    <tr>\n",
       "      <th id=\"T_7c923_level0_row3\" class=\"row_heading level0 row3\" >3</th>\n",
       "      <td id=\"T_7c923_row3_col0\" class=\"data row3 col0\" >logistic regression</td>\n",
       "      <td id=\"T_7c923_row3_col1\" class=\"data row3 col1\" >validacao</td>\n",
       "      <td id=\"T_7c923_row3_col2\" class=\"data row3 col2\" >0.866888</td>\n",
       "      <td id=\"T_7c923_row3_col3\" class=\"data row3 col3\" >0.854613</td>\n",
       "      <td id=\"T_7c923_row3_col4\" class=\"data row3 col4\" >0.834880</td>\n",
       "      <td id=\"T_7c923_row3_col5\" class=\"data row3 col5\" >0.844631</td>\n",
       "    </tr>\n",
       "  </tbody>\n",
       "</table>\n"
      ],
      "text/plain": [
       "<pandas.io.formats.style.Styler at 0x23cb20c7550>"
      ]
     },
     "execution_count": 74,
     "metadata": {},
     "output_type": "execute_result"
    }
   ],
   "source": [
    "resultado_validacao = resultado.loc[resultado['dados'] == 'validacao'].reset_index(drop = True)\n",
    "resultado_validacao.style.highlight_max(subset = ['acuracia', 'precisao', 'recall', 'f1'], color = 'red')"
   ]
  },
  {
   "cell_type": "markdown",
   "id": "5e15667d-7bc9-4518-91d3-05630337289c",
   "metadata": {},
   "source": [
    "#### Teste"
   ]
  },
  {
   "cell_type": "code",
   "execution_count": 75,
   "id": "7039ad5d-a735-4a61-84e0-1ec2aa26838f",
   "metadata": {
    "tags": []
   },
   "outputs": [
    {
     "data": {
      "text/html": [
       "<style type=\"text/css\">\n",
       "#T_ecc2f_row1_col2, #T_ecc2f_row1_col3, #T_ecc2f_row1_col5, #T_ecc2f_row2_col4 {\n",
       "  background-color: red;\n",
       "}\n",
       "</style>\n",
       "<table id=\"T_ecc2f\">\n",
       "  <thead>\n",
       "    <tr>\n",
       "      <th class=\"blank level0\" >&nbsp;</th>\n",
       "      <th id=\"T_ecc2f_level0_col0\" class=\"col_heading level0 col0\" >algoritmo</th>\n",
       "      <th id=\"T_ecc2f_level0_col1\" class=\"col_heading level0 col1\" >dados</th>\n",
       "      <th id=\"T_ecc2f_level0_col2\" class=\"col_heading level0 col2\" >acuracia</th>\n",
       "      <th id=\"T_ecc2f_level0_col3\" class=\"col_heading level0 col3\" >precisao</th>\n",
       "      <th id=\"T_ecc2f_level0_col4\" class=\"col_heading level0 col4\" >recall</th>\n",
       "      <th id=\"T_ecc2f_level0_col5\" class=\"col_heading level0 col5\" >f1</th>\n",
       "    </tr>\n",
       "  </thead>\n",
       "  <tbody>\n",
       "    <tr>\n",
       "      <th id=\"T_ecc2f_level0_row0\" class=\"row_heading level0 row0\" >0</th>\n",
       "      <td id=\"T_ecc2f_row0_col0\" class=\"data row0 col0\" >knn</td>\n",
       "      <td id=\"T_ecc2f_row0_col1\" class=\"data row0 col1\" >teste</td>\n",
       "      <td id=\"T_ecc2f_row0_col2\" class=\"data row0 col2\" >0.688449</td>\n",
       "      <td id=\"T_ecc2f_row0_col3\" class=\"data row0 col3\" >0.648025</td>\n",
       "      <td id=\"T_ecc2f_row0_col4\" class=\"data row0 col4\" >0.635196</td>\n",
       "      <td id=\"T_ecc2f_row0_col5\" class=\"data row0 col5\" >0.641546</td>\n",
       "    </tr>\n",
       "    <tr>\n",
       "      <th id=\"T_ecc2f_level0_row1\" class=\"row_heading level0 row1\" >1</th>\n",
       "      <td id=\"T_ecc2f_row1_col0\" class=\"data row1 col0\" >decision tree</td>\n",
       "      <td id=\"T_ecc2f_row1_col1\" class=\"data row1 col1\" >teste</td>\n",
       "      <td id=\"T_ecc2f_row1_col2\" class=\"data row1 col2\" >0.938207</td>\n",
       "      <td id=\"T_ecc2f_row1_col3\" class=\"data row1 col3\" >0.943420</td>\n",
       "      <td id=\"T_ecc2f_row1_col4\" class=\"data row1 col4\" >0.914034</td>\n",
       "      <td id=\"T_ecc2f_row1_col5\" class=\"data row1 col5\" >0.928495</td>\n",
       "    </tr>\n",
       "    <tr>\n",
       "      <th id=\"T_ecc2f_level0_row2\" class=\"row_heading level0 row2\" >2</th>\n",
       "      <td id=\"T_ecc2f_row2_col0\" class=\"data row2 col0\" >random forest</td>\n",
       "      <td id=\"T_ecc2f_row2_col1\" class=\"data row2 col1\" >teste</td>\n",
       "      <td id=\"T_ecc2f_row2_col2\" class=\"data row2 col2\" >0.935929</td>\n",
       "      <td id=\"T_ecc2f_row2_col3\" class=\"data row2 col3\" >0.932377</td>\n",
       "      <td id=\"T_ecc2f_row2_col4\" class=\"data row2 col4\" >0.920810</td>\n",
       "      <td id=\"T_ecc2f_row2_col5\" class=\"data row2 col5\" >0.926557</td>\n",
       "    </tr>\n",
       "    <tr>\n",
       "      <th id=\"T_ecc2f_level0_row3\" class=\"row_heading level0 row3\" >3</th>\n",
       "      <td id=\"T_ecc2f_row3_col0\" class=\"data row3 col0\" >logistic regression</td>\n",
       "      <td id=\"T_ecc2f_row3_col1\" class=\"data row3 col1\" >teste</td>\n",
       "      <td id=\"T_ecc2f_row3_col2\" class=\"data row3 col2\" >0.641216</td>\n",
       "      <td id=\"T_ecc2f_row3_col3\" class=\"data row3 col3\" >0.629801</td>\n",
       "      <td id=\"T_ecc2f_row3_col4\" class=\"data row3 col4\" >0.442939</td>\n",
       "      <td id=\"T_ecc2f_row3_col5\" class=\"data row3 col5\" >0.520095</td>\n",
       "    </tr>\n",
       "  </tbody>\n",
       "</table>\n"
      ],
      "text/plain": [
       "<pandas.io.formats.style.Styler at 0x23cb3551150>"
      ]
     },
     "execution_count": 75,
     "metadata": {},
     "output_type": "execute_result"
    }
   ],
   "source": [
    "resultado_teste = resultado.loc[resultado['dados'] == 'teste'].reset_index(drop = True)\n",
    "resultado_teste.style.highlight_max(subset = ['acuracia', 'precisao', 'recall', 'f1'], color = 'red')"
   ]
  }
 ],
 "metadata": {
  "kernelspec": {
   "display_name": "Python 3 (ipykernel)",
   "language": "python",
   "name": "python3"
  },
  "language_info": {
   "codemirror_mode": {
    "name": "ipython",
    "version": 3
   },
   "file_extension": ".py",
   "mimetype": "text/x-python",
   "name": "python",
   "nbconvert_exporter": "python",
   "pygments_lexer": "ipython3",
   "version": "3.11.5"
  }
 },
 "nbformat": 4,
 "nbformat_minor": 5
}
