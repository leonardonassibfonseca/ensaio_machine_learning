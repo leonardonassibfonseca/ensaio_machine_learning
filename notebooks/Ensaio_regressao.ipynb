{
 "cells": [
  {
   "cell_type": "markdown",
   "id": "7b8d8752-fde9-4ee7-8d4b-51bb1b8aabcd",
   "metadata": {
    "tags": []
   },
   "source": [
    "# Ensaio Regressão"
   ]
  },
  {
   "cell_type": "markdown",
   "id": "fcbb2ae1-af42-4e51-b6a2-121de21b2263",
   "metadata": {
    "tags": []
   },
   "source": [
    "### Importando as bibliotécas"
   ]
  },
  {
   "cell_type": "code",
   "execution_count": 1,
   "id": "fbd3a2e6-c1f9-4482-aa2c-0707d004caa2",
   "metadata": {
    "tags": []
   },
   "outputs": [],
   "source": [
    "import pandas as pd\n",
    "from sklearn import model_selection as ms\n",
    "from sklearn import tree as tr\n",
    "from sklearn import datasets as ds\n",
    "from sklearn import cluster as c\n",
    "from sklearn import metrics as mt\n",
    "from sklearn import linear_model as lm\n",
    "from sklearn import ensemble as en\n",
    "from sklearn.neighbors import KNeighborsClassifier\n",
    "from matplotlib import pyplot as plt\n",
    "from sklearn import preprocessing as pp\n",
    "import numpy as np"
   ]
  },
  {
   "cell_type": "markdown",
   "id": "e46efe45-ecc3-4a28-8ab3-b1733fd1ba18",
   "metadata": {
    "jp-MarkdownHeadingCollapsed": true,
    "tags": []
   },
   "source": [
    "### Carregando o Dataset"
   ]
  },
  {
   "cell_type": "code",
   "execution_count": 2,
   "id": "99d08b4f-b7d3-4ee0-bbed-3d2beaa52691",
   "metadata": {
    "tags": []
   },
   "outputs": [],
   "source": [
    "dataset_x_treino = '../Projeto_aluno/Ensaio_regressao/X_training.csv'\n",
    "dataset_x_validacao = '../Projeto_aluno/Ensaio_regressao/X_validation.csv'\n",
    "dataset_x_teste = '../Projeto_aluno/Ensaio_regressao/X_test.csv'\n",
    "dataset_y_treino = '../Projeto_aluno/Ensaio_regressao/y_training.csv'\n",
    "dataset_y_validacao = '../Projeto_aluno/Ensaio_regressao/y_validation.csv'\n",
    "dataset_y_teste = '../Projeto_aluno/Ensaio_regressao/y_test.csv'\n",
    "\n",
    "x_treino = pd.read_csv (dataset_x_treino)\n",
    "x_validacao = pd.read_csv (dataset_x_validacao)\n",
    "x_teste = pd.read_csv (dataset_x_teste)\n",
    "y_treino = pd.read_csv (dataset_y_treino)\n",
    "y_validacao = pd.read_csv (dataset_y_validacao)\n",
    "y_teste = pd.read_csv (dataset_y_teste)\n",
    "\n",
    "y_treino = y_treino.iloc[:, 0]\n",
    "y_validacao = y_validacao.iloc[:, 0]\n",
    "y_teste = y_teste.iloc[:, 0]"
   ]
  },
  {
   "cell_type": "code",
   "execution_count": 3,
   "id": "ea4305cb-a16d-4d62-9521-1c6ca90fadcc",
   "metadata": {
    "tags": []
   },
   "outputs": [
    {
     "name": "stdout",
     "output_type": "stream",
     "text": [
      "Dados de treino: (10547, 13)\n",
      "Dados de validação: (4521, 13)\n",
      "Dados de teste: (3767, 13)\n",
      "Dados de treino: (10547,)\n",
      "Dados de validação: (4521,)\n",
      "Dados de teste: (3767,)\n"
     ]
    }
   ],
   "source": [
    "print('Dados de treino: {}'.format(x_treino.shape))\n",
    "print('Dados de validação: {}'.format(x_validacao.shape))\n",
    "print('Dados de teste: {}'.format(x_teste.shape))\n",
    "print('Dados de treino: {}'.format(y_treino.shape))\n",
    "print('Dados de validação: {}'.format(y_validacao.shape))\n",
    "print('Dados de teste: {}'.format(y_teste.shape))"
   ]
  },
  {
   "cell_type": "markdown",
   "id": "2dd4bf56-e337-49cb-b635-de9f4bd7633b",
   "metadata": {
    "jp-MarkdownHeadingCollapsed": true,
    "tags": []
   },
   "source": [
    "## Algoritmo Decision Tree"
   ]
  },
  {
   "cell_type": "markdown",
   "id": "b3cc96fa-5f64-4b70-942f-cbb94a74597f",
   "metadata": {},
   "source": [
    "#### Dados de treino"
   ]
  },
  {
   "cell_type": "code",
   "execution_count": 4,
   "id": "4c6a5990-ae3b-4770-abf3-b036d7dde4b9",
   "metadata": {
    "tags": []
   },
   "outputs": [
    {
     "name": "stdout",
     "output_type": "stream",
     "text": [
      "2 -> 21.3845\n",
      "3 -> 21.1635\n",
      "4 -> 20.8948\n",
      "5 -> 20.5851\n",
      "6 -> 20.2210\n",
      "7 -> 19.6581\n",
      "8 -> 18.9892\n",
      "9 -> 18.1494\n",
      "10 -> 17.1510\n",
      "11 -> 16.0684\n",
      "12 -> 14.8725\n",
      "13 -> 13.6846\n",
      "14 -> 12.4057\n",
      "15 -> 11.1846\n",
      "16 -> 10.0302\n",
      "17 -> 8.8481\n",
      "18 -> 7.8000\n",
      "19 -> 6.7712\n"
     ]
    }
   ],
   "source": [
    "max_depth = np.arange(2, 20, 1)\n",
    "\n",
    "lista_parametros = list()\n",
    "\n",
    "for i in max_depth:\n",
    "    modelo_arvore = tr.DecisionTreeRegressor(max_depth = i, random_state = 0) #Instanciando um objeto com o algoritmo\n",
    "    modelo_arvore.fit(x_treino, y_treino) #caracteristicas e rotulos sendo treinados\n",
    "\n",
    "    #Avaliando a performance do modelo\n",
    "    y_pred = modelo_arvore.predict(x_treino)\n",
    "    mse = mt.mean_squared_error(y_treino, y_pred)\n",
    "    rmse = np.sqrt(mse)    \n",
    "\n",
    "    lista_parametros.append(rmse)\n",
    "    \n",
    "    print('{max_depth} -> {rmse:.4f}'.format(max_depth = i, rmse = rmse))"
   ]
  },
  {
   "cell_type": "code",
   "execution_count": 5,
   "id": "f27af35b-3a3f-40da-94dd-e5f7cb32c973",
   "metadata": {
    "tags": []
   },
   "outputs": [
    {
     "data": {
      "text/html": [
       "<div>\n",
       "<style scoped>\n",
       "    .dataframe tbody tr th:only-of-type {\n",
       "        vertical-align: middle;\n",
       "    }\n",
       "\n",
       "    .dataframe tbody tr th {\n",
       "        vertical-align: top;\n",
       "    }\n",
       "\n",
       "    .dataframe thead th {\n",
       "        text-align: right;\n",
       "    }\n",
       "</style>\n",
       "<table border=\"1\" class=\"dataframe\">\n",
       "  <thead>\n",
       "    <tr style=\"text-align: right;\">\n",
       "      <th></th>\n",
       "      <th>algoritmo</th>\n",
       "      <th>dados</th>\n",
       "      <th>r_2</th>\n",
       "      <th>mse</th>\n",
       "      <th>rmse</th>\n",
       "      <th>mae</th>\n",
       "      <th>mape</th>\n",
       "    </tr>\n",
       "  </thead>\n",
       "  <tbody>\n",
       "    <tr>\n",
       "      <th>0</th>\n",
       "      <td>decision tree</td>\n",
       "      <td>treino</td>\n",
       "      <td>0.904085</td>\n",
       "      <td>45.84859</td>\n",
       "      <td>6.771159</td>\n",
       "      <td>2.775438</td>\n",
       "      <td>0.530053</td>\n",
       "    </tr>\n",
       "  </tbody>\n",
       "</table>\n",
       "</div>"
      ],
      "text/plain": [
       "       algoritmo   dados       r_2       mse      rmse       mae      mape\n",
       "0  decision tree  treino  0.904085  45.84859  6.771159  2.775438  0.530053"
      ]
     },
     "execution_count": 5,
     "metadata": {},
     "output_type": "execute_result"
    }
   ],
   "source": [
    "max_depth = np.argmin(lista_parametros) + 2\n",
    "\n",
    "modelo_arvore = tr.DecisionTreeRegressor(max_depth = max_depth, random_state = 0) #Instanciando um objeto com o algoritmo\n",
    "modelo_arvore.fit(x_treino, y_treino) #Treinando o algoritmo com as variáveis preditoras e as classes\n",
    "\n",
    "y_pred = modelo_arvore.predict(x_treino)\n",
    "\n",
    "r_2 = mt.r2_score(y_treino, y_pred)\n",
    "mse = mt.mean_squared_error(y_treino, y_pred)\n",
    "rmse = np.sqrt(mse)\n",
    "mae = mt.mean_absolute_error(y_treino, y_pred)\n",
    "mape = mt.mean_absolute_percentage_error(y_treino, y_pred)\n",
    "        \n",
    "resultado_arvore_treino = pd.DataFrame(np.array([r_2, mse, rmse, mae, mape])).T\n",
    "resultado_arvore_treino = resultado_arvore_treino.rename(columns = {0: 'r_2', \n",
    "                                                                    1: 'mse',\n",
    "                                                                    2: 'rmse',\n",
    "                                                                    3: 'mae',\n",
    "                                                                    4: 'mape'})\n",
    "resultado_arvore_treino.insert(0, 'dados', 'treino')\n",
    "resultado_arvore_treino.insert(0, 'algoritmo', 'decision tree')\n",
    "resultado_arvore_treino"
   ]
  },
  {
   "cell_type": "markdown",
   "id": "70f6172c-5796-4aa3-9ce8-1398629cf3f8",
   "metadata": {},
   "source": [
    "#### Dados de validacao"
   ]
  },
  {
   "cell_type": "code",
   "execution_count": 6,
   "id": "0d10742b-21f1-4c0e-8964-9464ddc5241d",
   "metadata": {
    "tags": []
   },
   "outputs": [
    {
     "name": "stdout",
     "output_type": "stream",
     "text": [
      "2 -> 21.4372\n",
      "3 -> 21.2447\n",
      "4 -> 21.1619\n",
      "5 -> 21.1462\n",
      "6 -> 21.1492\n",
      "7 -> 21.2318\n",
      "8 -> 21.4674\n",
      "9 -> 21.5938\n",
      "10 -> 21.9119\n",
      "11 -> 22.1970\n",
      "12 -> 22.5334\n",
      "13 -> 22.6850\n",
      "14 -> 23.1716\n",
      "15 -> 23.2486\n",
      "16 -> 23.6105\n",
      "17 -> 24.1102\n",
      "18 -> 24.0551\n",
      "19 -> 24.4018\n"
     ]
    }
   ],
   "source": [
    "max_depth = np.arange(2, 20, 1)\n",
    "\n",
    "lista_parametros = list()\n",
    "\n",
    "for i in max_depth:\n",
    "    modelo_arvore = tr.DecisionTreeRegressor(max_depth = i, random_state = 0) #Instanciando um objeto com o algoritmo\n",
    "    modelo_arvore.fit(x_treino, y_treino) #caracteristicas e rotulos sendo treinados\n",
    "\n",
    "    #Avaliando a performance do modelo\n",
    "    y_pred = modelo_arvore.predict(x_validacao)\n",
    "    mse = mt.mean_squared_error(y_validacao, y_pred)\n",
    "    rmse = np.sqrt(mse)    \n",
    "\n",
    "    lista_parametros.append(rmse)\n",
    "    \n",
    "    print('{max_depth} -> {rmse:.4f}'.format(max_depth = i, rmse = rmse))"
   ]
  },
  {
   "cell_type": "code",
   "execution_count": 7,
   "id": "6f57b857-9c4c-4e00-ad4d-13a73a3ce98b",
   "metadata": {
    "tags": []
   },
   "outputs": [
    {
     "data": {
      "text/html": [
       "<div>\n",
       "<style scoped>\n",
       "    .dataframe tbody tr th:only-of-type {\n",
       "        vertical-align: middle;\n",
       "    }\n",
       "\n",
       "    .dataframe tbody tr th {\n",
       "        vertical-align: top;\n",
       "    }\n",
       "\n",
       "    .dataframe thead th {\n",
       "        text-align: right;\n",
       "    }\n",
       "</style>\n",
       "<table border=\"1\" class=\"dataframe\">\n",
       "  <thead>\n",
       "    <tr style=\"text-align: right;\">\n",
       "      <th></th>\n",
       "      <th>algoritmo</th>\n",
       "      <th>dados</th>\n",
       "      <th>r_2</th>\n",
       "      <th>mse</th>\n",
       "      <th>rmse</th>\n",
       "      <th>mae</th>\n",
       "      <th>mape</th>\n",
       "    </tr>\n",
       "  </thead>\n",
       "  <tbody>\n",
       "    <tr>\n",
       "      <th>0</th>\n",
       "      <td>decision tree</td>\n",
       "      <td>validacao</td>\n",
       "      <td>0.063559</td>\n",
       "      <td>447.161319</td>\n",
       "      <td>21.146189</td>\n",
       "      <td>16.843452</td>\n",
       "      <td>8.395778</td>\n",
       "    </tr>\n",
       "  </tbody>\n",
       "</table>\n",
       "</div>"
      ],
      "text/plain": [
       "       algoritmo      dados       r_2         mse       rmse        mae  \\\n",
       "0  decision tree  validacao  0.063559  447.161319  21.146189  16.843452   \n",
       "\n",
       "       mape  \n",
       "0  8.395778  "
      ]
     },
     "execution_count": 7,
     "metadata": {},
     "output_type": "execute_result"
    }
   ],
   "source": [
    "max_depth = np.argmin(lista_parametros) + 2\n",
    "\n",
    "modelo_arvore = tr.DecisionTreeRegressor(max_depth = max_depth, random_state = 0) #Instanciando um objeto com o algoritmo\n",
    "modelo_arvore.fit(x_treino, y_treino) #Treinando o algoritmo com as variáveis preditoras e as classes\n",
    "\n",
    "y_pred = modelo_arvore.predict(x_validacao)\n",
    "\n",
    "r_2 = mt.r2_score(y_validacao, y_pred)\n",
    "mse = mt.mean_squared_error(y_validacao, y_pred)\n",
    "rmse = np.sqrt(mse)\n",
    "mae = mt.mean_absolute_error(y_validacao, y_pred)\n",
    "mape = mt.mean_absolute_percentage_error(y_validacao, y_pred)\n",
    "        \n",
    "resultado_arvore_validacao = pd.DataFrame(np.array([r_2, mse, rmse, mae, mape])).T\n",
    "resultado_arvore_validacao = resultado_arvore_validacao.rename(columns = {0: 'r_2', \n",
    "                                                                          1: 'mse',\n",
    "                                                                          2: 'rmse',\n",
    "                                                                          3: 'mae',\n",
    "                                                                          4: 'mape'})\n",
    "resultado_arvore_validacao.insert(0, 'dados', 'validacao')\n",
    "resultado_arvore_validacao.insert(0, 'algoritmo', 'decision tree')\n",
    "resultado_arvore_validacao"
   ]
  },
  {
   "cell_type": "markdown",
   "id": "fa5ab4a5-4f81-4f03-b384-fca7fc442591",
   "metadata": {},
   "source": [
    "#### Dados de teste"
   ]
  },
  {
   "cell_type": "code",
   "execution_count": 8,
   "id": "10570837-f8c3-4d4f-b55b-56c2f8102a22",
   "metadata": {
    "tags": []
   },
   "outputs": [
    {
     "data": {
      "text/html": [
       "<div>\n",
       "<style scoped>\n",
       "    .dataframe tbody tr th:only-of-type {\n",
       "        vertical-align: middle;\n",
       "    }\n",
       "\n",
       "    .dataframe tbody tr th {\n",
       "        vertical-align: top;\n",
       "    }\n",
       "\n",
       "    .dataframe thead th {\n",
       "        text-align: right;\n",
       "    }\n",
       "</style>\n",
       "<table border=\"1\" class=\"dataframe\">\n",
       "  <thead>\n",
       "    <tr style=\"text-align: right;\">\n",
       "      <th></th>\n",
       "      <th>algoritmo</th>\n",
       "      <th>dados</th>\n",
       "      <th>r_2</th>\n",
       "      <th>mse</th>\n",
       "      <th>rmse</th>\n",
       "      <th>mae</th>\n",
       "      <th>mape</th>\n",
       "    </tr>\n",
       "  </thead>\n",
       "  <tbody>\n",
       "    <tr>\n",
       "      <th>0</th>\n",
       "      <td>decision tree</td>\n",
       "      <td>teste</td>\n",
       "      <td>0.090475</td>\n",
       "      <td>442.848381</td>\n",
       "      <td>21.043963</td>\n",
       "      <td>16.829781</td>\n",
       "      <td>7.883226</td>\n",
       "    </tr>\n",
       "  </tbody>\n",
       "</table>\n",
       "</div>"
      ],
      "text/plain": [
       "       algoritmo  dados       r_2         mse       rmse        mae      mape\n",
       "0  decision tree  teste  0.090475  442.848381  21.043963  16.829781  7.883226"
      ]
     },
     "execution_count": 8,
     "metadata": {},
     "output_type": "execute_result"
    }
   ],
   "source": [
    "max_depth = np.argmin(lista_parametros) + 2\n",
    "\n",
    "modelo_arvore = tr.DecisionTreeRegressor(max_depth = max_depth, random_state = 0) #Instanciando um objeto com o algoritmo\n",
    "modelo_arvore.fit(pd.concat([x_treino, x_validacao]),\n",
    "                  pd.concat([y_treino, y_validacao])) #caracteristicas e rotulos sendo treinados\n",
    "\n",
    "y_pred = modelo_arvore.predict(x_teste)\n",
    "\n",
    "r_2 = mt.r2_score(y_teste, y_pred)\n",
    "mse = mt.mean_squared_error(y_teste, y_pred)\n",
    "rmse = np.sqrt(mse)\n",
    "mae = mt.mean_absolute_error(y_teste, y_pred)\n",
    "mape = mt.mean_absolute_percentage_error(y_teste, y_pred)\n",
    "        \n",
    "resultado_arvore_teste = pd.DataFrame(np.array([r_2, mse, rmse, mae, mape])).T\n",
    "resultado_arvore_teste = resultado_arvore_teste.rename(columns = {0: 'r_2', \n",
    "                                                                  1: 'mse',\n",
    "                                                                  2: 'rmse',\n",
    "                                                                  3: 'mae',\n",
    "                                                                  4: 'mape'})\n",
    "resultado_arvore_teste.insert(0, 'dados', 'teste')\n",
    "resultado_arvore_teste.insert(0, 'algoritmo', 'decision tree')\n",
    "resultado_arvore_teste"
   ]
  },
  {
   "cell_type": "code",
   "execution_count": 9,
   "id": "f7e51126-89f4-40cb-bcc2-6c4b4030e199",
   "metadata": {
    "tags": []
   },
   "outputs": [
    {
     "data": {
      "text/html": [
       "<div>\n",
       "<style scoped>\n",
       "    .dataframe tbody tr th:only-of-type {\n",
       "        vertical-align: middle;\n",
       "    }\n",
       "\n",
       "    .dataframe tbody tr th {\n",
       "        vertical-align: top;\n",
       "    }\n",
       "\n",
       "    .dataframe thead th {\n",
       "        text-align: right;\n",
       "    }\n",
       "</style>\n",
       "<table border=\"1\" class=\"dataframe\">\n",
       "  <thead>\n",
       "    <tr style=\"text-align: right;\">\n",
       "      <th></th>\n",
       "      <th>algoritmo</th>\n",
       "      <th>dados</th>\n",
       "      <th>r_2</th>\n",
       "      <th>mse</th>\n",
       "      <th>rmse</th>\n",
       "      <th>mae</th>\n",
       "      <th>mape</th>\n",
       "    </tr>\n",
       "  </thead>\n",
       "  <tbody>\n",
       "    <tr>\n",
       "      <th>0</th>\n",
       "      <td>decision tree</td>\n",
       "      <td>treino</td>\n",
       "      <td>0.904085</td>\n",
       "      <td>45.848590</td>\n",
       "      <td>6.771159</td>\n",
       "      <td>2.775438</td>\n",
       "      <td>0.530053</td>\n",
       "    </tr>\n",
       "    <tr>\n",
       "      <th>1</th>\n",
       "      <td>decision tree</td>\n",
       "      <td>validacao</td>\n",
       "      <td>0.063559</td>\n",
       "      <td>447.161319</td>\n",
       "      <td>21.146189</td>\n",
       "      <td>16.843452</td>\n",
       "      <td>8.395778</td>\n",
       "    </tr>\n",
       "    <tr>\n",
       "      <th>2</th>\n",
       "      <td>decision tree</td>\n",
       "      <td>teste</td>\n",
       "      <td>0.090475</td>\n",
       "      <td>442.848381</td>\n",
       "      <td>21.043963</td>\n",
       "      <td>16.829781</td>\n",
       "      <td>7.883226</td>\n",
       "    </tr>\n",
       "  </tbody>\n",
       "</table>\n",
       "</div>"
      ],
      "text/plain": [
       "       algoritmo      dados       r_2         mse       rmse        mae  \\\n",
       "0  decision tree     treino  0.904085   45.848590   6.771159   2.775438   \n",
       "1  decision tree  validacao  0.063559  447.161319  21.146189  16.843452   \n",
       "2  decision tree      teste  0.090475  442.848381  21.043963  16.829781   \n",
       "\n",
       "       mape  \n",
       "0  0.530053  \n",
       "1  8.395778  \n",
       "2  7.883226  "
      ]
     },
     "execution_count": 9,
     "metadata": {},
     "output_type": "execute_result"
    }
   ],
   "source": [
    "resultado_arvore = pd.concat([resultado_arvore_treino, resultado_arvore_validacao, resultado_arvore_teste]).reset_index(drop = True)\n",
    "resultado_arvore"
   ]
  },
  {
   "cell_type": "markdown",
   "id": "f134ac9a-7b56-43b7-a0fe-ec1b6970e445",
   "metadata": {
    "jp-MarkdownHeadingCollapsed": true,
    "tags": []
   },
   "source": [
    "## Algoritmo Random Forest"
   ]
  },
  {
   "cell_type": "markdown",
   "id": "dfe6938c-c30a-4160-84cd-e8a89ce7b72b",
   "metadata": {
    "tags": []
   },
   "source": [
    "#### Dados de treino"
   ]
  },
  {
   "cell_type": "code",
   "execution_count": 10,
   "id": "5f367c0d-1d4e-4a6c-9ce3-1038c3411a26",
   "metadata": {
    "tags": []
   },
   "outputs": [
    {
     "name": "stdout",
     "output_type": "stream",
     "text": [
      "1 / 1 -> 21.5876\n",
      "1 / 2 -> 21.5326\n",
      "1 / 3 -> 21.5388\n",
      "1 / 4 -> 21.5356\n",
      "2 / 1 -> 21.3987\n",
      "2 / 2 -> 21.3524\n",
      "2 / 3 -> 21.3564\n",
      "2 / 4 -> 21.3489\n",
      "3 / 1 -> 21.2303\n",
      "3 / 2 -> 21.0766\n",
      "3 / 3 -> 21.0522\n",
      "3 / 4 -> 21.0381\n",
      "4 / 1 -> 21.0615\n",
      "4 / 2 -> 20.7981\n",
      "4 / 3 -> 20.7489\n",
      "4 / 4 -> 20.7172\n"
     ]
    }
   ],
   "source": [
    "#Definição de parâmetros do treinamento\n",
    "max_depth = np.arange(1, 5, 1)\n",
    "n_estimators = np.arange(1, 5, 1)\n",
    "\n",
    "for i in max_depth:\n",
    "    for e in n_estimators:\n",
    "        modelo_random = en.RandomForestRegressor(max_depth = i, n_estimators = e, random_state = 0) #Instanciando um objeto com o algoritmo\n",
    "        modelo_random.fit(x_treino, y_treino) #Treinando o algoritmo com as variáveis preditoras e as classes\n",
    "        \n",
    "        #Avaliando a performance do modelo\n",
    "        y_pred = modelo_random.predict(x_treino)\n",
    "        mse = mt.mean_squared_error(y_treino, y_pred)\n",
    "        rmse = np.sqrt(mse)    \n",
    "\n",
    "        print('{max_depth} / {n_estimators} -> {rmse:.4f}'.format(max_depth = i, n_estimators = e, rmse = rmse))"
   ]
  },
  {
   "cell_type": "code",
   "execution_count": 11,
   "id": "8f1ee009-b9ac-4db1-8e6b-c708f79439b6",
   "metadata": {
    "tags": []
   },
   "outputs": [
    {
     "data": {
      "text/html": [
       "<div>\n",
       "<style scoped>\n",
       "    .dataframe tbody tr th:only-of-type {\n",
       "        vertical-align: middle;\n",
       "    }\n",
       "\n",
       "    .dataframe tbody tr th {\n",
       "        vertical-align: top;\n",
       "    }\n",
       "\n",
       "    .dataframe thead th {\n",
       "        text-align: right;\n",
       "    }\n",
       "</style>\n",
       "<table border=\"1\" class=\"dataframe\">\n",
       "  <thead>\n",
       "    <tr style=\"text-align: right;\">\n",
       "      <th></th>\n",
       "      <th>algoritmo</th>\n",
       "      <th>dados</th>\n",
       "      <th>r_2</th>\n",
       "      <th>mse</th>\n",
       "      <th>rmse</th>\n",
       "      <th>mae</th>\n",
       "      <th>mape</th>\n",
       "    </tr>\n",
       "  </thead>\n",
       "  <tbody>\n",
       "    <tr>\n",
       "      <th>0</th>\n",
       "      <td>random forest</td>\n",
       "      <td>treino</td>\n",
       "      <td>0.102111</td>\n",
       "      <td>429.202263</td>\n",
       "      <td>20.717197</td>\n",
       "      <td>16.446413</td>\n",
       "      <td>8.259016</td>\n",
       "    </tr>\n",
       "  </tbody>\n",
       "</table>\n",
       "</div>"
      ],
      "text/plain": [
       "       algoritmo   dados       r_2         mse       rmse        mae      mape\n",
       "0  random forest  treino  0.102111  429.202263  20.717197  16.446413  8.259016"
      ]
     },
     "execution_count": 11,
     "metadata": {},
     "output_type": "execute_result"
    }
   ],
   "source": [
    "max_depth = 4\n",
    "n_estimators = 4\n",
    "\n",
    "modelo_random = en.RandomForestRegressor(max_depth = max_depth, n_estimators = n_estimators, random_state = 0) #Instanciando um objeto com o algoritmo\n",
    "modelo_random.fit(x_treino, y_treino) #Treinando o algoritmo com as variáveis preditoras e as classes\n",
    "\n",
    "y_pred = modelo_random.predict(x_treino)\n",
    "\n",
    "r_2 = mt.r2_score(y_treino, y_pred)\n",
    "mse = mt.mean_squared_error(y_treino, y_pred)\n",
    "rmse = np.sqrt(mse)\n",
    "mae = mt.mean_absolute_error(y_treino, y_pred)\n",
    "mape = mt.mean_absolute_percentage_error(y_treino, y_pred)\n",
    "        \n",
    "resultado_random_treino = pd.DataFrame(np.array([r_2, mse, rmse, mae, mape])).T\n",
    "resultado_random_treino = resultado_random_treino.rename(columns = {0: 'r_2', \n",
    "                                                                    1: 'mse',\n",
    "                                                                    2: 'rmse',\n",
    "                                                                    3: 'mae',\n",
    "                                                                    4: 'mape'})\n",
    "resultado_random_treino.insert(0, 'dados', 'treino')\n",
    "resultado_random_treino.insert(0, 'algoritmo', 'random forest')\n",
    "resultado_random_treino"
   ]
  },
  {
   "cell_type": "markdown",
   "id": "c885d801-0687-451d-ba2a-5b140d151057",
   "metadata": {
    "tags": []
   },
   "source": [
    "#### Dados de validação"
   ]
  },
  {
   "cell_type": "code",
   "execution_count": 12,
   "id": "747bddcc-b435-4826-8bb7-824f3f0df426",
   "metadata": {
    "tags": []
   },
   "outputs": [
    {
     "name": "stdout",
     "output_type": "stream",
     "text": [
      "1 / 1 -> 21.5928\n",
      "1 / 2 -> 21.5329\n",
      "1 / 3 -> 21.5492\n",
      "1 / 4 -> 21.5417\n",
      "2 / 1 -> 21.4369\n",
      "2 / 2 -> 21.4038\n",
      "2 / 3 -> 21.4099\n",
      "2 / 4 -> 21.3950\n",
      "3 / 1 -> 21.2971\n",
      "3 / 2 -> 21.1961\n",
      "3 / 3 -> 21.1758\n",
      "3 / 4 -> 21.1546\n",
      "4 / 1 -> 21.2667\n",
      "4 / 2 -> 21.0968\n",
      "4 / 3 -> 21.0124\n",
      "4 / 4 -> 20.9718\n"
     ]
    }
   ],
   "source": [
    "#Definição de parâmetros do treinamento\n",
    "max_depth = np.arange(1, 5, 1)\n",
    "n_estimators = np.arange(1, 5, 1)\n",
    "\n",
    "for i in max_depth:\n",
    "    for e in n_estimators:\n",
    "        modelo_random = en.RandomForestRegressor(max_depth = i, n_estimators = e, random_state = 0) #Instanciando um objeto com o algoritmo\n",
    "        modelo_random.fit(x_treino, y_treino) #Treinando o algoritmo com as variáveis preditoras e as classes\n",
    "        \n",
    "        #Avaliando a performance do modelo\n",
    "        y_pred = modelo_random.predict(x_validacao)\n",
    "        mse = mt.mean_squared_error(y_validacao, y_pred)\n",
    "        rmse = np.sqrt(mse)    \n",
    "\n",
    "        print('{max_depth} / {n_estimators} -> {rmse:.4f}'.format(max_depth = i, n_estimators = e, rmse = rmse))"
   ]
  },
  {
   "cell_type": "code",
   "execution_count": 13,
   "id": "900ff247-cec2-4330-a7f2-4f21282e6274",
   "metadata": {
    "tags": []
   },
   "outputs": [
    {
     "data": {
      "text/html": [
       "<div>\n",
       "<style scoped>\n",
       "    .dataframe tbody tr th:only-of-type {\n",
       "        vertical-align: middle;\n",
       "    }\n",
       "\n",
       "    .dataframe tbody tr th {\n",
       "        vertical-align: top;\n",
       "    }\n",
       "\n",
       "    .dataframe thead th {\n",
       "        text-align: right;\n",
       "    }\n",
       "</style>\n",
       "<table border=\"1\" class=\"dataframe\">\n",
       "  <thead>\n",
       "    <tr style=\"text-align: right;\">\n",
       "      <th></th>\n",
       "      <th>algoritmo</th>\n",
       "      <th>dados</th>\n",
       "      <th>r_2</th>\n",
       "      <th>mse</th>\n",
       "      <th>rmse</th>\n",
       "      <th>mae</th>\n",
       "      <th>mape</th>\n",
       "    </tr>\n",
       "  </thead>\n",
       "  <tbody>\n",
       "    <tr>\n",
       "      <th>0</th>\n",
       "      <td>random forest</td>\n",
       "      <td>validacao</td>\n",
       "      <td>0.078941</td>\n",
       "      <td>439.816143</td>\n",
       "      <td>20.971794</td>\n",
       "      <td>16.708369</td>\n",
       "      <td>8.421289</td>\n",
       "    </tr>\n",
       "  </tbody>\n",
       "</table>\n",
       "</div>"
      ],
      "text/plain": [
       "       algoritmo      dados       r_2         mse       rmse        mae  \\\n",
       "0  random forest  validacao  0.078941  439.816143  20.971794  16.708369   \n",
       "\n",
       "       mape  \n",
       "0  8.421289  "
      ]
     },
     "execution_count": 13,
     "metadata": {},
     "output_type": "execute_result"
    }
   ],
   "source": [
    "max_depth = 4\n",
    "n_estimators = 4\n",
    "\n",
    "modelo_random = en.RandomForestRegressor(max_depth = max_depth, n_estimators = n_estimators, random_state = 0) #Instanciando um objeto com o algoritmo\n",
    "modelo_random.fit(x_treino, y_treino) #Treinando o algoritmo com as variáveis preditoras e as classes\n",
    "\n",
    "y_pred = modelo_random.predict(x_validacao)\n",
    "\n",
    "r_2 = mt.r2_score(y_validacao, y_pred)\n",
    "mse = mt.mean_squared_error(y_validacao, y_pred)\n",
    "rmse = np.sqrt(mse)\n",
    "mae = mt.mean_absolute_error(y_validacao, y_pred)\n",
    "mape = mt.mean_absolute_percentage_error(y_validacao, y_pred)\n",
    "        \n",
    "resultado_random_validacao = pd.DataFrame(np.array([r_2, mse, rmse, mae, mape])).T\n",
    "resultado_random_validacao = resultado_random_validacao.rename(columns = {0: 'r_2', \n",
    "                                                                          1: 'mse',\n",
    "                                                                          2: 'rmse',\n",
    "                                                                          3: 'mae',\n",
    "                                                                          4: 'mape'})\n",
    "resultado_random_validacao.insert(0, 'dados', 'validacao')\n",
    "resultado_random_validacao.insert(0, 'algoritmo', 'random forest')\n",
    "resultado_random_validacao"
   ]
  },
  {
   "cell_type": "markdown",
   "id": "d02399ea-be22-47a5-81ec-13eb5767843b",
   "metadata": {
    "tags": []
   },
   "source": [
    "#### Dados de teste"
   ]
  },
  {
   "cell_type": "code",
   "execution_count": 14,
   "id": "fadc55ff-03b9-4dc6-b302-87eff4e81c0a",
   "metadata": {},
   "outputs": [
    {
     "data": {
      "text/html": [
       "<div>\n",
       "<style scoped>\n",
       "    .dataframe tbody tr th:only-of-type {\n",
       "        vertical-align: middle;\n",
       "    }\n",
       "\n",
       "    .dataframe tbody tr th {\n",
       "        vertical-align: top;\n",
       "    }\n",
       "\n",
       "    .dataframe thead th {\n",
       "        text-align: right;\n",
       "    }\n",
       "</style>\n",
       "<table border=\"1\" class=\"dataframe\">\n",
       "  <thead>\n",
       "    <tr style=\"text-align: right;\">\n",
       "      <th></th>\n",
       "      <th>algoritmo</th>\n",
       "      <th>dados</th>\n",
       "      <th>r_2</th>\n",
       "      <th>mse</th>\n",
       "      <th>rmse</th>\n",
       "      <th>mae</th>\n",
       "      <th>mape</th>\n",
       "    </tr>\n",
       "  </thead>\n",
       "  <tbody>\n",
       "    <tr>\n",
       "      <th>0</th>\n",
       "      <td>random forest</td>\n",
       "      <td>teste</td>\n",
       "      <td>0.084106</td>\n",
       "      <td>445.949495</td>\n",
       "      <td>21.117516</td>\n",
       "      <td>16.85793</td>\n",
       "      <td>8.177958</td>\n",
       "    </tr>\n",
       "  </tbody>\n",
       "</table>\n",
       "</div>"
      ],
      "text/plain": [
       "       algoritmo  dados       r_2         mse       rmse       mae      mape\n",
       "0  random forest  teste  0.084106  445.949495  21.117516  16.85793  8.177958"
      ]
     },
     "execution_count": 14,
     "metadata": {},
     "output_type": "execute_result"
    }
   ],
   "source": [
    "max_depth = 4\n",
    "n_estimators = 4\n",
    "\n",
    "modelo_random = en.RandomForestRegressor(max_depth = max_depth, n_estimators = n_estimators, random_state = 0) #Instanciando um objeto com o algoritmo\n",
    "modelo_random.fit(pd.concat([x_treino, x_validacao]),\n",
    "                  pd.concat([y_treino, y_validacao])) #caracteristicas e rotulos sendo treinados\n",
    "\n",
    "y_pred = modelo_random.predict(x_teste)\n",
    "\n",
    "r_2 = mt.r2_score(y_teste, y_pred)\n",
    "mse = mt.mean_squared_error(y_teste, y_pred)\n",
    "rmse = np.sqrt(mse)\n",
    "mae = mt.mean_absolute_error(y_teste, y_pred)\n",
    "mape = mt.mean_absolute_percentage_error(y_teste, y_pred)\n",
    "        \n",
    "resultado_random_teste = pd.DataFrame(np.array([r_2, mse, rmse, mae, mape])).T\n",
    "resultado_random_teste = resultado_random_teste.rename(columns = {0: 'r_2', \n",
    "                                                                  1: 'mse',\n",
    "                                                                  2: 'rmse',\n",
    "                                                                  3: 'mae',\n",
    "                                                                  4: 'mape'})\n",
    "resultado_random_teste.insert(0, 'dados', 'teste')\n",
    "resultado_random_teste.insert(0, 'algoritmo', 'random forest')\n",
    "resultado_random_teste"
   ]
  },
  {
   "cell_type": "code",
   "execution_count": 15,
   "id": "4f1feccb-6c8f-4b2b-8b36-4181d75ee2b1",
   "metadata": {
    "tags": []
   },
   "outputs": [
    {
     "data": {
      "text/html": [
       "<div>\n",
       "<style scoped>\n",
       "    .dataframe tbody tr th:only-of-type {\n",
       "        vertical-align: middle;\n",
       "    }\n",
       "\n",
       "    .dataframe tbody tr th {\n",
       "        vertical-align: top;\n",
       "    }\n",
       "\n",
       "    .dataframe thead th {\n",
       "        text-align: right;\n",
       "    }\n",
       "</style>\n",
       "<table border=\"1\" class=\"dataframe\">\n",
       "  <thead>\n",
       "    <tr style=\"text-align: right;\">\n",
       "      <th></th>\n",
       "      <th>algoritmo</th>\n",
       "      <th>dados</th>\n",
       "      <th>r_2</th>\n",
       "      <th>mse</th>\n",
       "      <th>rmse</th>\n",
       "      <th>mae</th>\n",
       "      <th>mape</th>\n",
       "    </tr>\n",
       "  </thead>\n",
       "  <tbody>\n",
       "    <tr>\n",
       "      <th>0</th>\n",
       "      <td>random forest</td>\n",
       "      <td>treino</td>\n",
       "      <td>0.102111</td>\n",
       "      <td>429.202263</td>\n",
       "      <td>20.717197</td>\n",
       "      <td>16.446413</td>\n",
       "      <td>8.259016</td>\n",
       "    </tr>\n",
       "    <tr>\n",
       "      <th>0</th>\n",
       "      <td>random forest</td>\n",
       "      <td>validacao</td>\n",
       "      <td>0.078941</td>\n",
       "      <td>439.816143</td>\n",
       "      <td>20.971794</td>\n",
       "      <td>16.708369</td>\n",
       "      <td>8.421289</td>\n",
       "    </tr>\n",
       "    <tr>\n",
       "      <th>0</th>\n",
       "      <td>random forest</td>\n",
       "      <td>teste</td>\n",
       "      <td>0.084106</td>\n",
       "      <td>445.949495</td>\n",
       "      <td>21.117516</td>\n",
       "      <td>16.857930</td>\n",
       "      <td>8.177958</td>\n",
       "    </tr>\n",
       "  </tbody>\n",
       "</table>\n",
       "</div>"
      ],
      "text/plain": [
       "       algoritmo      dados       r_2         mse       rmse        mae  \\\n",
       "0  random forest     treino  0.102111  429.202263  20.717197  16.446413   \n",
       "0  random forest  validacao  0.078941  439.816143  20.971794  16.708369   \n",
       "0  random forest      teste  0.084106  445.949495  21.117516  16.857930   \n",
       "\n",
       "       mape  \n",
       "0  8.259016  \n",
       "0  8.421289  \n",
       "0  8.177958  "
      ]
     },
     "execution_count": 15,
     "metadata": {},
     "output_type": "execute_result"
    }
   ],
   "source": [
    "resultado_random = pd.concat([resultado_random_treino, resultado_random_validacao, resultado_random_teste])\n",
    "resultado_random"
   ]
  },
  {
   "cell_type": "markdown",
   "id": "07f1888c-c531-44ea-a9d6-5bad85ef7813",
   "metadata": {
    "jp-MarkdownHeadingCollapsed": true,
    "tags": []
   },
   "source": [
    "## Algoritmo Linear Regression"
   ]
  },
  {
   "cell_type": "markdown",
   "id": "dae06abb-a3b3-4709-886b-7c36aecdc409",
   "metadata": {
    "tags": []
   },
   "source": [
    "#### Dados de treino"
   ]
  },
  {
   "cell_type": "code",
   "execution_count": 16,
   "id": "38cc5583-43a2-4e92-99e8-3501a318457a",
   "metadata": {
    "tags": []
   },
   "outputs": [
    {
     "data": {
      "text/html": [
       "<div>\n",
       "<style scoped>\n",
       "    .dataframe tbody tr th:only-of-type {\n",
       "        vertical-align: middle;\n",
       "    }\n",
       "\n",
       "    .dataframe tbody tr th {\n",
       "        vertical-align: top;\n",
       "    }\n",
       "\n",
       "    .dataframe thead th {\n",
       "        text-align: right;\n",
       "    }\n",
       "</style>\n",
       "<table border=\"1\" class=\"dataframe\">\n",
       "  <thead>\n",
       "    <tr style=\"text-align: right;\">\n",
       "      <th></th>\n",
       "      <th>algoritmo</th>\n",
       "      <th>dados</th>\n",
       "      <th>r_2</th>\n",
       "      <th>mse</th>\n",
       "      <th>rmse</th>\n",
       "      <th>mae</th>\n",
       "      <th>mape</th>\n",
       "    </tr>\n",
       "  </thead>\n",
       "  <tbody>\n",
       "    <tr>\n",
       "      <th>0</th>\n",
       "      <td>linear regression</td>\n",
       "      <td>treino</td>\n",
       "      <td>0.046058</td>\n",
       "      <td>455.996112</td>\n",
       "      <td>21.354065</td>\n",
       "      <td>16.998249</td>\n",
       "      <td>8.653186</td>\n",
       "    </tr>\n",
       "  </tbody>\n",
       "</table>\n",
       "</div>"
      ],
      "text/plain": [
       "           algoritmo   dados       r_2         mse       rmse        mae  \\\n",
       "0  linear regression  treino  0.046058  455.996112  21.354065  16.998249   \n",
       "\n",
       "       mape  \n",
       "0  8.653186  "
      ]
     },
     "execution_count": 16,
     "metadata": {},
     "output_type": "execute_result"
    }
   ],
   "source": [
    "#Definição de parâmetros do treinamento\n",
    "modelo_linear = lm.LinearRegression()\n",
    "modelo_linear.fit(x_treino, y_treino)\n",
    "        \n",
    "#Avaliando a performance do modelo\n",
    "y_pred = modelo_linear.predict(x_treino)\n",
    "\n",
    "r_2 = mt.r2_score(y_treino, y_pred)\n",
    "mse = mt.mean_squared_error(y_treino, y_pred)\n",
    "rmse = np.sqrt(mse)\n",
    "mae = mt.mean_absolute_error(y_treino, y_pred)\n",
    "mape = mt.mean_absolute_percentage_error(y_treino, y_pred)\n",
    "        \n",
    "resultado_linear_treino = pd.DataFrame(np.array([r_2, mse, rmse, mae, mape])).T\n",
    "resultado_linear_treino = resultado_linear_treino.rename(columns = {0: 'r_2', \n",
    "                                                                    1: 'mse',\n",
    "                                                                    2: 'rmse',\n",
    "                                                                    3: 'mae',\n",
    "                                                                    4: 'mape'})\n",
    "resultado_linear_treino.insert(0, 'dados', 'treino')\n",
    "resultado_linear_treino.insert(0, 'algoritmo', 'linear regression')\n",
    "resultado_linear_treino"
   ]
  },
  {
   "cell_type": "markdown",
   "id": "91933c9e-a431-4e50-aa9c-fd5a7c6b164b",
   "metadata": {
    "tags": []
   },
   "source": [
    "#### Dados de validação"
   ]
  },
  {
   "cell_type": "code",
   "execution_count": 17,
   "id": "2e0396b5-b62c-4191-84d0-420a4185705f",
   "metadata": {
    "tags": []
   },
   "outputs": [
    {
     "data": {
      "text/html": [
       "<div>\n",
       "<style scoped>\n",
       "    .dataframe tbody tr th:only-of-type {\n",
       "        vertical-align: middle;\n",
       "    }\n",
       "\n",
       "    .dataframe tbody tr th {\n",
       "        vertical-align: top;\n",
       "    }\n",
       "\n",
       "    .dataframe thead th {\n",
       "        text-align: right;\n",
       "    }\n",
       "</style>\n",
       "<table border=\"1\" class=\"dataframe\">\n",
       "  <thead>\n",
       "    <tr style=\"text-align: right;\">\n",
       "      <th></th>\n",
       "      <th>algoritmo</th>\n",
       "      <th>dados</th>\n",
       "      <th>r_2</th>\n",
       "      <th>mse</th>\n",
       "      <th>rmse</th>\n",
       "      <th>mae</th>\n",
       "      <th>mape</th>\n",
       "    </tr>\n",
       "  </thead>\n",
       "  <tbody>\n",
       "    <tr>\n",
       "      <th>0</th>\n",
       "      <td>linear regression</td>\n",
       "      <td>validacao</td>\n",
       "      <td>0.039925</td>\n",
       "      <td>458.447042</td>\n",
       "      <td>21.411376</td>\n",
       "      <td>17.039754</td>\n",
       "      <td>8.682542</td>\n",
       "    </tr>\n",
       "  </tbody>\n",
       "</table>\n",
       "</div>"
      ],
      "text/plain": [
       "           algoritmo      dados       r_2         mse       rmse        mae  \\\n",
       "0  linear regression  validacao  0.039925  458.447042  21.411376  17.039754   \n",
       "\n",
       "       mape  \n",
       "0  8.682542  "
      ]
     },
     "execution_count": 17,
     "metadata": {},
     "output_type": "execute_result"
    }
   ],
   "source": [
    "#Definição de parâmetros do treinamento\n",
    "modelo_linear = lm.LinearRegression()\n",
    "modelo_linear.fit(x_treino, y_treino)\n",
    "        \n",
    "#Avaliando a performance do modelo\n",
    "y_pred = modelo_linear.predict(x_validacao)\n",
    "\n",
    "r_2 = mt.r2_score(y_validacao, y_pred)\n",
    "mse = mt.mean_squared_error(y_validacao, y_pred)\n",
    "rmse = np.sqrt(mse)\n",
    "mae = mt.mean_absolute_error(y_validacao, y_pred)\n",
    "mape = mt.mean_absolute_percentage_error(y_validacao, y_pred)\n",
    "        \n",
    "resultado_linear_validacao = pd.DataFrame(np.array([r_2, mse, rmse, mae, mape])).T\n",
    "resultado_linear_validacao = resultado_linear_validacao.rename(columns = {0: 'r_2', \n",
    "                                                                          1: 'mse',\n",
    "                                                                          2: 'rmse',\n",
    "                                                                          3: 'mae',\n",
    "                                                                          4: 'mape'})\n",
    "resultado_linear_validacao.insert(0, 'dados', 'validacao')\n",
    "resultado_linear_validacao.insert(0, 'algoritmo', 'linear regression')\n",
    "resultado_linear_validacao"
   ]
  },
  {
   "cell_type": "markdown",
   "id": "86db6910-6850-4fe9-aace-7c716cc2601c",
   "metadata": {
    "tags": []
   },
   "source": [
    "#### Dados de teste"
   ]
  },
  {
   "cell_type": "code",
   "execution_count": 18,
   "id": "a666a9b5-3236-4b47-b604-f4c53f0f80e2",
   "metadata": {
    "tags": []
   },
   "outputs": [
    {
     "data": {
      "text/html": [
       "<div>\n",
       "<style scoped>\n",
       "    .dataframe tbody tr th:only-of-type {\n",
       "        vertical-align: middle;\n",
       "    }\n",
       "\n",
       "    .dataframe tbody tr th {\n",
       "        vertical-align: top;\n",
       "    }\n",
       "\n",
       "    .dataframe thead th {\n",
       "        text-align: right;\n",
       "    }\n",
       "</style>\n",
       "<table border=\"1\" class=\"dataframe\">\n",
       "  <thead>\n",
       "    <tr style=\"text-align: right;\">\n",
       "      <th></th>\n",
       "      <th>algoritmo</th>\n",
       "      <th>dados</th>\n",
       "      <th>r_2</th>\n",
       "      <th>mse</th>\n",
       "      <th>rmse</th>\n",
       "      <th>mae</th>\n",
       "      <th>mape</th>\n",
       "    </tr>\n",
       "  </thead>\n",
       "  <tbody>\n",
       "    <tr>\n",
       "      <th>0</th>\n",
       "      <td>linear regression</td>\n",
       "      <td>teste</td>\n",
       "      <td>0.051166</td>\n",
       "      <td>461.988435</td>\n",
       "      <td>21.493916</td>\n",
       "      <td>17.144197</td>\n",
       "      <td>8.531355</td>\n",
       "    </tr>\n",
       "  </tbody>\n",
       "</table>\n",
       "</div>"
      ],
      "text/plain": [
       "           algoritmo  dados       r_2         mse       rmse        mae  \\\n",
       "0  linear regression  teste  0.051166  461.988435  21.493916  17.144197   \n",
       "\n",
       "       mape  \n",
       "0  8.531355  "
      ]
     },
     "execution_count": 18,
     "metadata": {},
     "output_type": "execute_result"
    }
   ],
   "source": [
    "#Definição de parâmetros do treinamento\n",
    "modelo_linear = lm.LinearRegression()\n",
    "modelo_linear.fit(pd.concat([x_treino, x_validacao]),\n",
    "                  pd.concat([y_treino, y_validacao]))\n",
    "        \n",
    "#Avaliando a performance do modelo\n",
    "y_pred = modelo_linear.predict(x_teste)\n",
    "\n",
    "r_2 = mt.r2_score(y_teste, y_pred)\n",
    "mse = mt.mean_squared_error(y_teste, y_pred)\n",
    "rmse = np.sqrt(mse)\n",
    "mae = mt.mean_absolute_error(y_teste, y_pred)\n",
    "mape = mt.mean_absolute_percentage_error(y_teste, y_pred)\n",
    "        \n",
    "resultado_linear_teste = pd.DataFrame(np.array([r_2, mse, rmse, mae, mape])).T\n",
    "resultado_linear_teste = resultado_linear_teste.rename(columns = {0: 'r_2', \n",
    "                                                                  1: 'mse',\n",
    "                                                                  2: 'rmse',\n",
    "                                                                  3: 'mae',\n",
    "                                                                  4: 'mape'})\n",
    "resultado_linear_teste.insert(0, 'dados', 'teste')\n",
    "resultado_linear_teste.insert(0, 'algoritmo', 'linear regression')\n",
    "resultado_linear_teste"
   ]
  },
  {
   "cell_type": "code",
   "execution_count": 19,
   "id": "ca25d464-d6a0-435e-848b-bced28255532",
   "metadata": {
    "tags": []
   },
   "outputs": [
    {
     "data": {
      "text/html": [
       "<div>\n",
       "<style scoped>\n",
       "    .dataframe tbody tr th:only-of-type {\n",
       "        vertical-align: middle;\n",
       "    }\n",
       "\n",
       "    .dataframe tbody tr th {\n",
       "        vertical-align: top;\n",
       "    }\n",
       "\n",
       "    .dataframe thead th {\n",
       "        text-align: right;\n",
       "    }\n",
       "</style>\n",
       "<table border=\"1\" class=\"dataframe\">\n",
       "  <thead>\n",
       "    <tr style=\"text-align: right;\">\n",
       "      <th></th>\n",
       "      <th>algoritmo</th>\n",
       "      <th>dados</th>\n",
       "      <th>r_2</th>\n",
       "      <th>mse</th>\n",
       "      <th>rmse</th>\n",
       "      <th>mae</th>\n",
       "      <th>mape</th>\n",
       "    </tr>\n",
       "  </thead>\n",
       "  <tbody>\n",
       "    <tr>\n",
       "      <th>0</th>\n",
       "      <td>linear regression</td>\n",
       "      <td>treino</td>\n",
       "      <td>0.046058</td>\n",
       "      <td>455.996112</td>\n",
       "      <td>21.354065</td>\n",
       "      <td>16.998249</td>\n",
       "      <td>8.653186</td>\n",
       "    </tr>\n",
       "    <tr>\n",
       "      <th>0</th>\n",
       "      <td>linear regression</td>\n",
       "      <td>validacao</td>\n",
       "      <td>0.039925</td>\n",
       "      <td>458.447042</td>\n",
       "      <td>21.411376</td>\n",
       "      <td>17.039754</td>\n",
       "      <td>8.682542</td>\n",
       "    </tr>\n",
       "    <tr>\n",
       "      <th>0</th>\n",
       "      <td>linear regression</td>\n",
       "      <td>teste</td>\n",
       "      <td>0.051166</td>\n",
       "      <td>461.988435</td>\n",
       "      <td>21.493916</td>\n",
       "      <td>17.144197</td>\n",
       "      <td>8.531355</td>\n",
       "    </tr>\n",
       "  </tbody>\n",
       "</table>\n",
       "</div>"
      ],
      "text/plain": [
       "           algoritmo      dados       r_2         mse       rmse        mae  \\\n",
       "0  linear regression     treino  0.046058  455.996112  21.354065  16.998249   \n",
       "0  linear regression  validacao  0.039925  458.447042  21.411376  17.039754   \n",
       "0  linear regression      teste  0.051166  461.988435  21.493916  17.144197   \n",
       "\n",
       "       mape  \n",
       "0  8.653186  \n",
       "0  8.682542  \n",
       "0  8.531355  "
      ]
     },
     "execution_count": 19,
     "metadata": {},
     "output_type": "execute_result"
    }
   ],
   "source": [
    "resultado_linear = pd.concat([resultado_linear_treino, resultado_linear_validacao, resultado_linear_teste])\n",
    "resultado_linear"
   ]
  },
  {
   "cell_type": "markdown",
   "id": "a1bad231-f37b-47c5-b403-cea1507f43cf",
   "metadata": {
    "jp-MarkdownHeadingCollapsed": true,
    "tags": []
   },
   "source": [
    "## Algoritmo Linear Regression (Lasso)"
   ]
  },
  {
   "cell_type": "markdown",
   "id": "6ab6b6f4-b6ae-4c96-9d93-d629ff796732",
   "metadata": {
    "tags": []
   },
   "source": [
    "#### Dados de treino"
   ]
  },
  {
   "cell_type": "code",
   "execution_count": 20,
   "id": "f28a638d-ab8b-462b-b32b-fd4926ded3fa",
   "metadata": {
    "tags": []
   },
   "outputs": [
    {
     "name": "stdout",
     "output_type": "stream",
     "text": [
      "1 / 1 -> 21.7824\n",
      "1 / 2 -> 21.8512\n",
      "1001 / 1 -> 21.7824\n",
      "1001 / 2 -> 21.8512\n"
     ]
    }
   ],
   "source": [
    "#Definição de parâmetros do treinamento\n",
    "max_iter = np.arange(1, 2000, 1000)\n",
    "alpha = np.arange(1, 3, 1)\n",
    "\n",
    "for i in max_iter:\n",
    "    for e in alpha:        \n",
    "        modelo_linear_lasso = lm.Lasso(max_iter = i, alpha = e)\n",
    "        modelo_linear_lasso.fit(x_treino, y_treino)\n",
    "        \n",
    "        #Avaliando a performance do modelo\n",
    "        y_pred = modelo_linear_lasso.predict(x_treino)\n",
    "        mse = mt.mean_squared_error(y_treino, y_pred)\n",
    "        rmse = np.sqrt(mse)    \n",
    "\n",
    "        print('{max_iter} / {alpha} -> {rmse:.4f}'.format(max_iter = i, alpha = e, rmse = rmse))"
   ]
  },
  {
   "cell_type": "code",
   "execution_count": 21,
   "id": "64f94618-1f09-4692-8458-940835002e2b",
   "metadata": {
    "tags": []
   },
   "outputs": [
    {
     "data": {
      "text/html": [
       "<div>\n",
       "<style scoped>\n",
       "    .dataframe tbody tr th:only-of-type {\n",
       "        vertical-align: middle;\n",
       "    }\n",
       "\n",
       "    .dataframe tbody tr th {\n",
       "        vertical-align: top;\n",
       "    }\n",
       "\n",
       "    .dataframe thead th {\n",
       "        text-align: right;\n",
       "    }\n",
       "</style>\n",
       "<table border=\"1\" class=\"dataframe\">\n",
       "  <thead>\n",
       "    <tr style=\"text-align: right;\">\n",
       "      <th></th>\n",
       "      <th>algoritmo</th>\n",
       "      <th>dados</th>\n",
       "      <th>r_2</th>\n",
       "      <th>mse</th>\n",
       "      <th>rmse</th>\n",
       "      <th>mae</th>\n",
       "      <th>mape</th>\n",
       "    </tr>\n",
       "  </thead>\n",
       "  <tbody>\n",
       "    <tr>\n",
       "      <th>0</th>\n",
       "      <td>linear regression lasso</td>\n",
       "      <td>treino</td>\n",
       "      <td>0.007401</td>\n",
       "      <td>474.474834</td>\n",
       "      <td>21.782443</td>\n",
       "      <td>17.305484</td>\n",
       "      <td>8.736697</td>\n",
       "    </tr>\n",
       "  </tbody>\n",
       "</table>\n",
       "</div>"
      ],
      "text/plain": [
       "                 algoritmo   dados       r_2         mse       rmse  \\\n",
       "0  linear regression lasso  treino  0.007401  474.474834  21.782443   \n",
       "\n",
       "         mae      mape  \n",
       "0  17.305484  8.736697  "
      ]
     },
     "execution_count": 21,
     "metadata": {},
     "output_type": "execute_result"
    }
   ],
   "source": [
    "max_iter = 1\n",
    "alpha = 1\n",
    "\n",
    "modelo_linear_lasso = lm.Lasso(max_iter = max_iter, alpha = alpha)\n",
    "modelo_linear_lasso.fit(x_treino, y_treino)\n",
    "\n",
    "y_pred = modelo_linear_lasso.predict(x_treino)\n",
    "\n",
    "r_2 = mt.r2_score(y_treino, y_pred)\n",
    "mse = mt.mean_squared_error(y_treino, y_pred)\n",
    "rmse = np.sqrt(mse)\n",
    "mae = mt.mean_absolute_error(y_treino, y_pred)\n",
    "mape = mt.mean_absolute_percentage_error(y_treino, y_pred)\n",
    "        \n",
    "resultado_linear_lasso_treino = pd.DataFrame(np.array([r_2, mse, rmse, mae, mape])).T\n",
    "resultado_linear_lasso_treino = resultado_linear_lasso_treino.rename(columns = {0: 'r_2', \n",
    "                                                                                1: 'mse',\n",
    "                                                                                2: 'rmse',\n",
    "                                                                                3: 'mae',\n",
    "                                                                                4: 'mape'})\n",
    "resultado_linear_lasso_treino.insert(0, 'dados', 'treino')\n",
    "resultado_linear_lasso_treino.insert(0, 'algoritmo', 'linear regression lasso')\n",
    "resultado_linear_lasso_treino"
   ]
  },
  {
   "cell_type": "markdown",
   "id": "616007e8-e6d8-4628-9ac0-963ad6ee2ac4",
   "metadata": {
    "tags": []
   },
   "source": [
    "#### Dados de validação"
   ]
  },
  {
   "cell_type": "code",
   "execution_count": 22,
   "id": "ee5ae3d3-0121-42bf-a46a-cb686df66615",
   "metadata": {},
   "outputs": [
    {
     "name": "stdout",
     "output_type": "stream",
     "text": [
      "1 / 1 -> 21.7657\n",
      "1 / 2 -> 21.8392\n",
      "1001 / 1 -> 21.7657\n",
      "1001 / 2 -> 21.8392\n"
     ]
    }
   ],
   "source": [
    "#Definição de parâmetros do treinamento\n",
    "max_iter = np.arange(1, 2000, 1000)\n",
    "alpha = np.arange(1, 3, 1)\n",
    "\n",
    "for i in max_iter:\n",
    "    for e in alpha:        \n",
    "        modelo_linear_lasso = lm.Lasso(max_iter = i, alpha = e)\n",
    "        modelo_linear_lasso.fit(x_treino, y_treino)\n",
    "        \n",
    "        #Avaliando a performance do modelo\n",
    "        y_pred = modelo_linear_lasso.predict(x_validacao)\n",
    "        mse = mt.mean_squared_error(y_validacao, y_pred)\n",
    "        rmse = np.sqrt(mse)    \n",
    "\n",
    "        print('{max_iter} / {alpha} -> {rmse:.4f}'.format(max_iter = i, alpha = e, rmse = rmse))"
   ]
  },
  {
   "cell_type": "code",
   "execution_count": 23,
   "id": "c8f4e4dd-804e-403d-b85a-e3211932de5b",
   "metadata": {},
   "outputs": [
    {
     "data": {
      "text/html": [
       "<div>\n",
       "<style scoped>\n",
       "    .dataframe tbody tr th:only-of-type {\n",
       "        vertical-align: middle;\n",
       "    }\n",
       "\n",
       "    .dataframe tbody tr th {\n",
       "        vertical-align: top;\n",
       "    }\n",
       "\n",
       "    .dataframe thead th {\n",
       "        text-align: right;\n",
       "    }\n",
       "</style>\n",
       "<table border=\"1\" class=\"dataframe\">\n",
       "  <thead>\n",
       "    <tr style=\"text-align: right;\">\n",
       "      <th></th>\n",
       "      <th>algoritmo</th>\n",
       "      <th>dados</th>\n",
       "      <th>r_2</th>\n",
       "      <th>mse</th>\n",
       "      <th>rmse</th>\n",
       "      <th>mae</th>\n",
       "      <th>mape</th>\n",
       "    </tr>\n",
       "  </thead>\n",
       "  <tbody>\n",
       "    <tr>\n",
       "      <th>0</th>\n",
       "      <td>linear regression lasso</td>\n",
       "      <td>validacao</td>\n",
       "      <td>0.007884</td>\n",
       "      <td>473.747081</td>\n",
       "      <td>21.765732</td>\n",
       "      <td>17.264922</td>\n",
       "      <td>8.695808</td>\n",
       "    </tr>\n",
       "  </tbody>\n",
       "</table>\n",
       "</div>"
      ],
      "text/plain": [
       "                 algoritmo      dados       r_2         mse       rmse  \\\n",
       "0  linear regression lasso  validacao  0.007884  473.747081  21.765732   \n",
       "\n",
       "         mae      mape  \n",
       "0  17.264922  8.695808  "
      ]
     },
     "execution_count": 23,
     "metadata": {},
     "output_type": "execute_result"
    }
   ],
   "source": [
    "max_iter = 1\n",
    "alpha = 1\n",
    "\n",
    "modelo_linear_lasso = lm.Lasso(max_iter = max_iter, alpha = alpha)\n",
    "modelo_linear_lasso.fit(x_treino, y_treino)\n",
    "\n",
    "y_pred = modelo_linear_lasso.predict(x_validacao)\n",
    "\n",
    "r_2 = mt.r2_score(y_validacao, y_pred)\n",
    "mse = mt.mean_squared_error(y_validacao, y_pred)\n",
    "rmse = np.sqrt(mse)\n",
    "mae = mt.mean_absolute_error(y_validacao, y_pred)\n",
    "mape = mt.mean_absolute_percentage_error(y_validacao, y_pred)\n",
    "        \n",
    "resultado_linear_lasso_validacao = pd.DataFrame(np.array([r_2, mse, rmse, mae, mape])).T\n",
    "resultado_linear_lasso_validacao = resultado_linear_lasso_validacao.rename(columns = {0: 'r_2', \n",
    "                                                                                      1: 'mse',\n",
    "                                                                                      2: 'rmse',\n",
    "                                                                                      3: 'mae',\n",
    "                                                                                      4: 'mape'})\n",
    "resultado_linear_lasso_validacao.insert(0, 'dados', 'validacao')\n",
    "resultado_linear_lasso_validacao.insert(0, 'algoritmo', 'linear regression lasso')\n",
    "resultado_linear_lasso_validacao"
   ]
  },
  {
   "cell_type": "markdown",
   "id": "b2768293-805d-4dc1-ab28-54efe0393ab7",
   "metadata": {
    "tags": []
   },
   "source": [
    "#### Dados de teste"
   ]
  },
  {
   "cell_type": "code",
   "execution_count": 24,
   "id": "72e5a224-69a0-4a24-8ff7-6b0a44151c70",
   "metadata": {},
   "outputs": [
    {
     "data": {
      "text/html": [
       "<div>\n",
       "<style scoped>\n",
       "    .dataframe tbody tr th:only-of-type {\n",
       "        vertical-align: middle;\n",
       "    }\n",
       "\n",
       "    .dataframe tbody tr th {\n",
       "        vertical-align: top;\n",
       "    }\n",
       "\n",
       "    .dataframe thead th {\n",
       "        text-align: right;\n",
       "    }\n",
       "</style>\n",
       "<table border=\"1\" class=\"dataframe\">\n",
       "  <thead>\n",
       "    <tr style=\"text-align: right;\">\n",
       "      <th></th>\n",
       "      <th>algoritmo</th>\n",
       "      <th>dados</th>\n",
       "      <th>r_2</th>\n",
       "      <th>mse</th>\n",
       "      <th>rmse</th>\n",
       "      <th>mae</th>\n",
       "      <th>mape</th>\n",
       "    </tr>\n",
       "  </thead>\n",
       "  <tbody>\n",
       "    <tr>\n",
       "      <th>0</th>\n",
       "      <td>linear regression lasso</td>\n",
       "      <td>teste</td>\n",
       "      <td>0.007814</td>\n",
       "      <td>483.096411</td>\n",
       "      <td>21.979454</td>\n",
       "      <td>17.47241</td>\n",
       "      <td>8.752995</td>\n",
       "    </tr>\n",
       "  </tbody>\n",
       "</table>\n",
       "</div>"
      ],
      "text/plain": [
       "                 algoritmo  dados       r_2         mse       rmse       mae  \\\n",
       "0  linear regression lasso  teste  0.007814  483.096411  21.979454  17.47241   \n",
       "\n",
       "       mape  \n",
       "0  8.752995  "
      ]
     },
     "execution_count": 24,
     "metadata": {},
     "output_type": "execute_result"
    }
   ],
   "source": [
    "max_iter = 1\n",
    "alpha = 1\n",
    "\n",
    "modelo_linear_lasso = lm.Lasso(max_iter = max_iter, alpha = alpha)\n",
    "modelo_linear_lasso.fit(pd.concat([x_treino, x_validacao]),\n",
    "                        pd.concat([y_treino, y_validacao]))\n",
    "\n",
    "y_pred = modelo_linear_lasso.predict(x_teste)\n",
    "\n",
    "r_2 = mt.r2_score(y_teste, y_pred)\n",
    "mse = mt.mean_squared_error(y_teste, y_pred)\n",
    "rmse = np.sqrt(mse)\n",
    "mae = mt.mean_absolute_error(y_teste, y_pred)\n",
    "mape = mt.mean_absolute_percentage_error(y_teste, y_pred)\n",
    "        \n",
    "resultado_linear_lasso_teste = pd.DataFrame(np.array([r_2, mse, rmse, mae, mape])).T\n",
    "resultado_linear_lasso_teste = resultado_linear_lasso_teste.rename(columns = {0: 'r_2', \n",
    "                                                                              1: 'mse',\n",
    "                                                                              2: 'rmse',\n",
    "                                                                              3: 'mae',\n",
    "                                                                              4: 'mape'})\n",
    "resultado_linear_lasso_teste.insert(0, 'dados', 'teste')\n",
    "resultado_linear_lasso_teste.insert(0, 'algoritmo', 'linear regression lasso')\n",
    "resultado_linear_lasso_teste"
   ]
  },
  {
   "cell_type": "code",
   "execution_count": 25,
   "id": "13ce9308-1ae7-4fab-8e88-00d5c24f1926",
   "metadata": {},
   "outputs": [
    {
     "data": {
      "text/html": [
       "<div>\n",
       "<style scoped>\n",
       "    .dataframe tbody tr th:only-of-type {\n",
       "        vertical-align: middle;\n",
       "    }\n",
       "\n",
       "    .dataframe tbody tr th {\n",
       "        vertical-align: top;\n",
       "    }\n",
       "\n",
       "    .dataframe thead th {\n",
       "        text-align: right;\n",
       "    }\n",
       "</style>\n",
       "<table border=\"1\" class=\"dataframe\">\n",
       "  <thead>\n",
       "    <tr style=\"text-align: right;\">\n",
       "      <th></th>\n",
       "      <th>algoritmo</th>\n",
       "      <th>dados</th>\n",
       "      <th>r_2</th>\n",
       "      <th>mse</th>\n",
       "      <th>rmse</th>\n",
       "      <th>mae</th>\n",
       "      <th>mape</th>\n",
       "    </tr>\n",
       "  </thead>\n",
       "  <tbody>\n",
       "    <tr>\n",
       "      <th>0</th>\n",
       "      <td>linear regression lasso</td>\n",
       "      <td>treino</td>\n",
       "      <td>0.007401</td>\n",
       "      <td>474.474834</td>\n",
       "      <td>21.782443</td>\n",
       "      <td>17.305484</td>\n",
       "      <td>8.736697</td>\n",
       "    </tr>\n",
       "    <tr>\n",
       "      <th>0</th>\n",
       "      <td>linear regression lasso</td>\n",
       "      <td>validacao</td>\n",
       "      <td>0.007884</td>\n",
       "      <td>473.747081</td>\n",
       "      <td>21.765732</td>\n",
       "      <td>17.264922</td>\n",
       "      <td>8.695808</td>\n",
       "    </tr>\n",
       "    <tr>\n",
       "      <th>0</th>\n",
       "      <td>linear regression lasso</td>\n",
       "      <td>teste</td>\n",
       "      <td>0.007814</td>\n",
       "      <td>483.096411</td>\n",
       "      <td>21.979454</td>\n",
       "      <td>17.472410</td>\n",
       "      <td>8.752995</td>\n",
       "    </tr>\n",
       "  </tbody>\n",
       "</table>\n",
       "</div>"
      ],
      "text/plain": [
       "                 algoritmo      dados       r_2         mse       rmse  \\\n",
       "0  linear regression lasso     treino  0.007401  474.474834  21.782443   \n",
       "0  linear regression lasso  validacao  0.007884  473.747081  21.765732   \n",
       "0  linear regression lasso      teste  0.007814  483.096411  21.979454   \n",
       "\n",
       "         mae      mape  \n",
       "0  17.305484  8.736697  \n",
       "0  17.264922  8.695808  \n",
       "0  17.472410  8.752995  "
      ]
     },
     "execution_count": 25,
     "metadata": {},
     "output_type": "execute_result"
    }
   ],
   "source": [
    "resultado_linear_lasso = pd.concat([resultado_linear_lasso_treino, resultado_linear_lasso_validacao, resultado_linear_lasso_teste])\n",
    "resultado_linear_lasso"
   ]
  },
  {
   "cell_type": "markdown",
   "id": "bac1e0cf-98b3-4204-8e09-b1a3eb23ec5c",
   "metadata": {
    "jp-MarkdownHeadingCollapsed": true,
    "tags": []
   },
   "source": [
    "## Algoritmo Linear Regression (Ridge)"
   ]
  },
  {
   "cell_type": "markdown",
   "id": "adad8931-c02b-4f76-a3ab-018fc0bf0730",
   "metadata": {
    "tags": []
   },
   "source": [
    "#### Dados de treino"
   ]
  },
  {
   "cell_type": "code",
   "execution_count": 26,
   "id": "71ce0777-0a38-480c-aac8-f5a939e155d0",
   "metadata": {
    "tags": []
   },
   "outputs": [
    {
     "name": "stdout",
     "output_type": "stream",
     "text": [
      "1 / 1 -> 21.3541\n",
      "1 / 2 -> 21.3541\n",
      "1001 / 1 -> 21.3541\n",
      "1001 / 2 -> 21.3541\n"
     ]
    }
   ],
   "source": [
    "#Definição de parâmetros do treinamento\n",
    "max_iter = np.arange(1, 2000, 1000)\n",
    "alpha = np.arange(1, 3, 1)\n",
    "\n",
    "for i in max_iter:\n",
    "    for e in alpha:        \n",
    "        modelo_linear_ridge = lm.Ridge(max_iter = i, alpha = e)\n",
    "        modelo_linear_ridge.fit(x_treino, y_treino)\n",
    "        \n",
    "        #Avaliando a performance do modelo\n",
    "        y_pred = modelo_linear_ridge.predict(x_treino)\n",
    "        mse = mt.mean_squared_error(y_treino, y_pred)\n",
    "        rmse = np.sqrt(mse)    \n",
    "\n",
    "        print('{max_iter} / {alpha} -> {rmse:.4f}'.format(max_iter = i, alpha = e, rmse = rmse))"
   ]
  },
  {
   "cell_type": "code",
   "execution_count": 27,
   "id": "21b18272-5999-4ab6-b6e0-d159dc6175bd",
   "metadata": {
    "tags": []
   },
   "outputs": [
    {
     "data": {
      "text/html": [
       "<div>\n",
       "<style scoped>\n",
       "    .dataframe tbody tr th:only-of-type {\n",
       "        vertical-align: middle;\n",
       "    }\n",
       "\n",
       "    .dataframe tbody tr th {\n",
       "        vertical-align: top;\n",
       "    }\n",
       "\n",
       "    .dataframe thead th {\n",
       "        text-align: right;\n",
       "    }\n",
       "</style>\n",
       "<table border=\"1\" class=\"dataframe\">\n",
       "  <thead>\n",
       "    <tr style=\"text-align: right;\">\n",
       "      <th></th>\n",
       "      <th>algoritmo</th>\n",
       "      <th>dados</th>\n",
       "      <th>r_2</th>\n",
       "      <th>mse</th>\n",
       "      <th>rmse</th>\n",
       "      <th>mae</th>\n",
       "      <th>mape</th>\n",
       "    </tr>\n",
       "  </thead>\n",
       "  <tbody>\n",
       "    <tr>\n",
       "      <th>0</th>\n",
       "      <td>linear regression ridge</td>\n",
       "      <td>treino</td>\n",
       "      <td>0.046058</td>\n",
       "      <td>455.996401</td>\n",
       "      <td>21.354072</td>\n",
       "      <td>16.998308</td>\n",
       "      <td>8.653415</td>\n",
       "    </tr>\n",
       "  </tbody>\n",
       "</table>\n",
       "</div>"
      ],
      "text/plain": [
       "                 algoritmo   dados       r_2         mse       rmse  \\\n",
       "0  linear regression ridge  treino  0.046058  455.996401  21.354072   \n",
       "\n",
       "         mae      mape  \n",
       "0  16.998308  8.653415  "
      ]
     },
     "execution_count": 27,
     "metadata": {},
     "output_type": "execute_result"
    }
   ],
   "source": [
    "max_iter = 1\n",
    "alpha = 1\n",
    "\n",
    "modelo_linear_ridge = lm.Ridge(max_iter = max_iter, alpha = alpha)\n",
    "modelo_linear_ridge.fit(x_treino, y_treino)\n",
    "\n",
    "y_pred = modelo_linear_ridge.predict(x_treino)\n",
    "\n",
    "r_2 = mt.r2_score(y_treino, y_pred)\n",
    "mse = mt.mean_squared_error(y_treino, y_pred)\n",
    "rmse = np.sqrt(mse)\n",
    "mae = mt.mean_absolute_error(y_treino, y_pred)\n",
    "mape = mt.mean_absolute_percentage_error(y_treino, y_pred)\n",
    "        \n",
    "resultado_linear_ridge_treino = pd.DataFrame(np.array([r_2, mse, rmse, mae, mape])).T\n",
    "resultado_linear_ridge_treino = resultado_linear_ridge_treino.rename(columns = {0: 'r_2', \n",
    "                                                                                1: 'mse',\n",
    "                                                                                2: 'rmse',\n",
    "                                                                                3: 'mae',\n",
    "                                                                                4: 'mape'})\n",
    "resultado_linear_ridge_treino.insert(0, 'dados', 'treino')\n",
    "resultado_linear_ridge_treino.insert(0, 'algoritmo', 'linear regression ridge')\n",
    "resultado_linear_ridge_treino"
   ]
  },
  {
   "cell_type": "markdown",
   "id": "cb71bd39-8952-4d4e-a497-c94e712fe8ab",
   "metadata": {
    "tags": []
   },
   "source": [
    "#### Dados de validação"
   ]
  },
  {
   "cell_type": "code",
   "execution_count": 28,
   "id": "c1d570dd-c491-4db1-af10-16da0c17e872",
   "metadata": {
    "tags": []
   },
   "outputs": [
    {
     "name": "stdout",
     "output_type": "stream",
     "text": [
      "1 / 1 -> 21.4113\n",
      "1 / 2 -> 21.4113\n",
      "1001 / 1 -> 21.4113\n",
      "1001 / 2 -> 21.4113\n"
     ]
    }
   ],
   "source": [
    "#Definição de parâmetros do treinamento\n",
    "max_iter = np.arange(1, 2000, 1000)\n",
    "alpha = np.arange(1, 3, 1)\n",
    "\n",
    "for i in max_iter:\n",
    "    for e in alpha:        \n",
    "        modelo_linear_ridge = lm.Ridge(max_iter = i, alpha = e)\n",
    "        modelo_linear_ridge.fit(x_treino, y_treino)\n",
    "        \n",
    "        #Avaliando a performance do modelo\n",
    "        y_pred = modelo_linear_ridge.predict(x_validacao)\n",
    "        mse = mt.mean_squared_error(y_validacao, y_pred)\n",
    "        rmse = np.sqrt(mse)    \n",
    "\n",
    "        print('{max_iter} / {alpha} -> {rmse:.4f}'.format(max_iter = i, alpha = e, rmse = rmse))"
   ]
  },
  {
   "cell_type": "code",
   "execution_count": 29,
   "id": "95870615-db05-422a-be49-fdcd09048c52",
   "metadata": {
    "tags": []
   },
   "outputs": [
    {
     "data": {
      "text/html": [
       "<div>\n",
       "<style scoped>\n",
       "    .dataframe tbody tr th:only-of-type {\n",
       "        vertical-align: middle;\n",
       "    }\n",
       "\n",
       "    .dataframe tbody tr th {\n",
       "        vertical-align: top;\n",
       "    }\n",
       "\n",
       "    .dataframe thead th {\n",
       "        text-align: right;\n",
       "    }\n",
       "</style>\n",
       "<table border=\"1\" class=\"dataframe\">\n",
       "  <thead>\n",
       "    <tr style=\"text-align: right;\">\n",
       "      <th></th>\n",
       "      <th>algoritmo</th>\n",
       "      <th>dados</th>\n",
       "      <th>r_2</th>\n",
       "      <th>mse</th>\n",
       "      <th>rmse</th>\n",
       "      <th>mae</th>\n",
       "      <th>mape</th>\n",
       "    </tr>\n",
       "  </thead>\n",
       "  <tbody>\n",
       "    <tr>\n",
       "      <th>0</th>\n",
       "      <td>linear regression ridge</td>\n",
       "      <td>validacao</td>\n",
       "      <td>0.039928</td>\n",
       "      <td>458.445477</td>\n",
       "      <td>21.41134</td>\n",
       "      <td>17.039472</td>\n",
       "      <td>8.682412</td>\n",
       "    </tr>\n",
       "  </tbody>\n",
       "</table>\n",
       "</div>"
      ],
      "text/plain": [
       "                 algoritmo      dados       r_2         mse      rmse  \\\n",
       "0  linear regression ridge  validacao  0.039928  458.445477  21.41134   \n",
       "\n",
       "         mae      mape  \n",
       "0  17.039472  8.682412  "
      ]
     },
     "execution_count": 29,
     "metadata": {},
     "output_type": "execute_result"
    }
   ],
   "source": [
    "max_iter = 1\n",
    "alpha = 1\n",
    "\n",
    "modelo_linear_ridge = lm.Ridge(max_iter = max_iter, alpha = alpha)\n",
    "modelo_linear_ridge.fit(x_treino, y_treino)\n",
    "\n",
    "y_pred = modelo_linear_ridge.predict(x_validacao)\n",
    "\n",
    "r_2 = mt.r2_score(y_validacao, y_pred)\n",
    "mse = mt.mean_squared_error(y_validacao, y_pred)\n",
    "rmse = np.sqrt(mse)\n",
    "mae = mt.mean_absolute_error(y_validacao, y_pred)\n",
    "mape = mt.mean_absolute_percentage_error(y_validacao, y_pred)\n",
    "        \n",
    "resultado_linear_ridge_validacao = pd.DataFrame(np.array([r_2, mse, rmse, mae, mape])).T\n",
    "resultado_linear_ridge_validacao = resultado_linear_ridge_validacao.rename(columns = {0: 'r_2', \n",
    "                                                                                      1: 'mse',\n",
    "                                                                                      2: 'rmse',\n",
    "                                                                                      3: 'mae',\n",
    "                                                                                      4: 'mape'})\n",
    "resultado_linear_ridge_validacao.insert(0, 'dados', 'validacao')\n",
    "resultado_linear_ridge_validacao.insert(0, 'algoritmo', 'linear regression ridge')\n",
    "resultado_linear_ridge_validacao"
   ]
  },
  {
   "cell_type": "markdown",
   "id": "4d706aed-f367-42aa-b142-3bd9a5157de2",
   "metadata": {
    "tags": []
   },
   "source": [
    "#### Dados de teste"
   ]
  },
  {
   "cell_type": "code",
   "execution_count": 30,
   "id": "d4662f4a-69e7-4806-9d39-c74b5e87698d",
   "metadata": {
    "tags": []
   },
   "outputs": [
    {
     "data": {
      "text/html": [
       "<div>\n",
       "<style scoped>\n",
       "    .dataframe tbody tr th:only-of-type {\n",
       "        vertical-align: middle;\n",
       "    }\n",
       "\n",
       "    .dataframe tbody tr th {\n",
       "        vertical-align: top;\n",
       "    }\n",
       "\n",
       "    .dataframe thead th {\n",
       "        text-align: right;\n",
       "    }\n",
       "</style>\n",
       "<table border=\"1\" class=\"dataframe\">\n",
       "  <thead>\n",
       "    <tr style=\"text-align: right;\">\n",
       "      <th></th>\n",
       "      <th>algoritmo</th>\n",
       "      <th>dados</th>\n",
       "      <th>r_2</th>\n",
       "      <th>mse</th>\n",
       "      <th>rmse</th>\n",
       "      <th>mae</th>\n",
       "      <th>mape</th>\n",
       "    </tr>\n",
       "  </thead>\n",
       "  <tbody>\n",
       "    <tr>\n",
       "      <th>0</th>\n",
       "      <td>linear regression ridge</td>\n",
       "      <td>teste</td>\n",
       "      <td>0.051167</td>\n",
       "      <td>461.987772</td>\n",
       "      <td>21.493901</td>\n",
       "      <td>17.143954</td>\n",
       "      <td>8.532046</td>\n",
       "    </tr>\n",
       "  </tbody>\n",
       "</table>\n",
       "</div>"
      ],
      "text/plain": [
       "                 algoritmo  dados       r_2         mse       rmse        mae  \\\n",
       "0  linear regression ridge  teste  0.051167  461.987772  21.493901  17.143954   \n",
       "\n",
       "       mape  \n",
       "0  8.532046  "
      ]
     },
     "execution_count": 30,
     "metadata": {},
     "output_type": "execute_result"
    }
   ],
   "source": [
    "max_iter = 1\n",
    "alpha = 1\n",
    "\n",
    "modelo_linear_ridge = lm.Ridge(max_iter = max_iter, alpha = alpha)\n",
    "modelo_linear_ridge.fit(pd.concat([x_treino, x_validacao]),\n",
    "                        pd.concat([y_treino, y_validacao]))\n",
    "\n",
    "y_pred = modelo_linear_ridge.predict(x_teste)\n",
    "\n",
    "r_2 = mt.r2_score(y_teste, y_pred)\n",
    "mse = mt.mean_squared_error(y_teste, y_pred)\n",
    "rmse = np.sqrt(mse)\n",
    "mae = mt.mean_absolute_error(y_teste, y_pred)\n",
    "mape = mt.mean_absolute_percentage_error(y_teste, y_pred)\n",
    "        \n",
    "resultado_linear_ridge_teste = pd.DataFrame(np.array([r_2, mse, rmse, mae, mape])).T\n",
    "resultado_linear_ridge_teste = resultado_linear_ridge_teste.rename(columns = {0: 'r_2', \n",
    "                                                                              1: 'mse',\n",
    "                                                                              2: 'rmse',\n",
    "                                                                              3: 'mae',\n",
    "                                                                              4: 'mape'})\n",
    "resultado_linear_ridge_teste.insert(0, 'dados', 'teste')\n",
    "resultado_linear_ridge_teste.insert(0, 'algoritmo', 'linear regression ridge')\n",
    "resultado_linear_ridge_teste"
   ]
  },
  {
   "cell_type": "code",
   "execution_count": 31,
   "id": "6a835a52-af2b-46e8-ae42-754628099237",
   "metadata": {
    "tags": []
   },
   "outputs": [
    {
     "data": {
      "text/html": [
       "<div>\n",
       "<style scoped>\n",
       "    .dataframe tbody tr th:only-of-type {\n",
       "        vertical-align: middle;\n",
       "    }\n",
       "\n",
       "    .dataframe tbody tr th {\n",
       "        vertical-align: top;\n",
       "    }\n",
       "\n",
       "    .dataframe thead th {\n",
       "        text-align: right;\n",
       "    }\n",
       "</style>\n",
       "<table border=\"1\" class=\"dataframe\">\n",
       "  <thead>\n",
       "    <tr style=\"text-align: right;\">\n",
       "      <th></th>\n",
       "      <th>algoritmo</th>\n",
       "      <th>dados</th>\n",
       "      <th>r_2</th>\n",
       "      <th>mse</th>\n",
       "      <th>rmse</th>\n",
       "      <th>mae</th>\n",
       "      <th>mape</th>\n",
       "    </tr>\n",
       "  </thead>\n",
       "  <tbody>\n",
       "    <tr>\n",
       "      <th>0</th>\n",
       "      <td>linear regression ridge</td>\n",
       "      <td>treino</td>\n",
       "      <td>0.046058</td>\n",
       "      <td>455.996401</td>\n",
       "      <td>21.354072</td>\n",
       "      <td>16.998308</td>\n",
       "      <td>8.653415</td>\n",
       "    </tr>\n",
       "    <tr>\n",
       "      <th>0</th>\n",
       "      <td>linear regression ridge</td>\n",
       "      <td>validacao</td>\n",
       "      <td>0.039928</td>\n",
       "      <td>458.445477</td>\n",
       "      <td>21.411340</td>\n",
       "      <td>17.039472</td>\n",
       "      <td>8.682412</td>\n",
       "    </tr>\n",
       "    <tr>\n",
       "      <th>0</th>\n",
       "      <td>linear regression ridge</td>\n",
       "      <td>teste</td>\n",
       "      <td>0.051167</td>\n",
       "      <td>461.987772</td>\n",
       "      <td>21.493901</td>\n",
       "      <td>17.143954</td>\n",
       "      <td>8.532046</td>\n",
       "    </tr>\n",
       "  </tbody>\n",
       "</table>\n",
       "</div>"
      ],
      "text/plain": [
       "                 algoritmo      dados       r_2         mse       rmse  \\\n",
       "0  linear regression ridge     treino  0.046058  455.996401  21.354072   \n",
       "0  linear regression ridge  validacao  0.039928  458.445477  21.411340   \n",
       "0  linear regression ridge      teste  0.051167  461.987772  21.493901   \n",
       "\n",
       "         mae      mape  \n",
       "0  16.998308  8.653415  \n",
       "0  17.039472  8.682412  \n",
       "0  17.143954  8.532046  "
      ]
     },
     "execution_count": 31,
     "metadata": {},
     "output_type": "execute_result"
    }
   ],
   "source": [
    "resultado_linear_ridge = pd.concat([resultado_linear_ridge_treino, resultado_linear_ridge_validacao, resultado_linear_ridge_teste])\n",
    "resultado_linear_ridge"
   ]
  },
  {
   "cell_type": "markdown",
   "id": "66cfbb62-3669-4bcb-9b67-9acb837a8282",
   "metadata": {
    "jp-MarkdownHeadingCollapsed": true,
    "tags": []
   },
   "source": [
    "## Algoritmo Linear Regression (Elastic Net)"
   ]
  },
  {
   "cell_type": "markdown",
   "id": "fa759a09-efc2-4484-b7ef-3b09887a5c7d",
   "metadata": {
    "tags": []
   },
   "source": [
    "#### Dados de treino"
   ]
  },
  {
   "cell_type": "code",
   "execution_count": 32,
   "id": "737c61f2-b089-4b04-8c58-df71976a4144",
   "metadata": {
    "tags": []
   },
   "outputs": [
    {
     "name": "stdout",
     "output_type": "stream",
     "text": [
      "1 / 1 -> 21.7748\n",
      "1 / 2 -> 21.8157\n",
      "1 / 3 -> 21.8404\n",
      "1 / 4 -> 21.8593\n",
      "1001 / 1 -> 21.7777\n",
      "1001 / 2 -> 21.8157\n",
      "1001 / 3 -> 21.8404\n",
      "1001 / 4 -> 21.8593\n"
     ]
    },
    {
     "name": "stderr",
     "output_type": "stream",
     "text": [
      "C:\\Users\\Leonardo\\AppData\\Local\\Programs\\Python\\Python311\\Lib\\site-packages\\sklearn\\linear_model\\_coordinate_descent.py:628: ConvergenceWarning: Objective did not converge. You might want to increase the number of iterations, check the scale of the features or consider increasing regularisation. Duality gap: 4.277e+03, tolerance: 5.042e+02\n",
      "  model = cd_fast.enet_coordinate_descent(\n"
     ]
    }
   ],
   "source": [
    "#Definição de parâmetros do treinamento\n",
    "max_iter = np.arange(1, 2000, 1000)\n",
    "alpha = np.arange(1, 5, 1)\n",
    "\n",
    "for i in max_iter:\n",
    "    for e in alpha:\n",
    "        modelo_linear_elastic = lm.ElasticNet(max_iter = i, alpha = e)\n",
    "        modelo_linear_elastic.fit(x_treino, y_treino)\n",
    "\n",
    "        #Avaliando a performance do modelo\n",
    "        y_pred = modelo_linear_elastic.predict(x_treino)\n",
    "        mse = mt.mean_squared_error(y_treino, y_pred)\n",
    "        rmse = np.sqrt(mse)    \n",
    "\n",
    "        print('{max_iter} / {alpha} -> {rmse:.4f}'.format(max_iter = i, alpha = e, rmse = rmse))"
   ]
  },
  {
   "cell_type": "code",
   "execution_count": 33,
   "id": "d4f8ec10-0e22-44b1-a18b-0bf73b73fc04",
   "metadata": {},
   "outputs": [
    {
     "name": "stderr",
     "output_type": "stream",
     "text": [
      "C:\\Users\\Leonardo\\AppData\\Local\\Programs\\Python\\Python311\\Lib\\site-packages\\sklearn\\linear_model\\_coordinate_descent.py:628: ConvergenceWarning: Objective did not converge. You might want to increase the number of iterations, check the scale of the features or consider increasing regularisation. Duality gap: 4.277e+03, tolerance: 5.042e+02\n",
      "  model = cd_fast.enet_coordinate_descent(\n"
     ]
    },
    {
     "data": {
      "text/html": [
       "<div>\n",
       "<style scoped>\n",
       "    .dataframe tbody tr th:only-of-type {\n",
       "        vertical-align: middle;\n",
       "    }\n",
       "\n",
       "    .dataframe tbody tr th {\n",
       "        vertical-align: top;\n",
       "    }\n",
       "\n",
       "    .dataframe thead th {\n",
       "        text-align: right;\n",
       "    }\n",
       "</style>\n",
       "<table border=\"1\" class=\"dataframe\">\n",
       "  <thead>\n",
       "    <tr style=\"text-align: right;\">\n",
       "      <th></th>\n",
       "      <th>algoritmo</th>\n",
       "      <th>dados</th>\n",
       "      <th>r_2</th>\n",
       "      <th>mse</th>\n",
       "      <th>rmse</th>\n",
       "      <th>mae</th>\n",
       "      <th>mape</th>\n",
       "    </tr>\n",
       "  </thead>\n",
       "  <tbody>\n",
       "    <tr>\n",
       "      <th>0</th>\n",
       "      <td>linear regression elastic</td>\n",
       "      <td>treino</td>\n",
       "      <td>0.008096</td>\n",
       "      <td>474.142435</td>\n",
       "      <td>21.774812</td>\n",
       "      <td>17.296745</td>\n",
       "      <td>8.731581</td>\n",
       "    </tr>\n",
       "  </tbody>\n",
       "</table>\n",
       "</div>"
      ],
      "text/plain": [
       "                   algoritmo   dados       r_2         mse       rmse  \\\n",
       "0  linear regression elastic  treino  0.008096  474.142435  21.774812   \n",
       "\n",
       "         mae      mape  \n",
       "0  17.296745  8.731581  "
      ]
     },
     "execution_count": 33,
     "metadata": {},
     "output_type": "execute_result"
    }
   ],
   "source": [
    "max_iter = 1\n",
    "alpha = 1\n",
    "\n",
    "modelo_linear_elastic = lm.ElasticNet(max_iter = max_iter, alpha = alpha)\n",
    "modelo_linear_elastic.fit(x_treino, y_treino)\n",
    "\n",
    "y_pred = modelo_linear_elastic.predict(x_treino)\n",
    "\n",
    "r_2 = mt.r2_score(y_treino, y_pred)\n",
    "mse = mt.mean_squared_error(y_treino, y_pred)\n",
    "rmse = np.sqrt(mse)\n",
    "mae = mt.mean_absolute_error(y_treino, y_pred)\n",
    "mape = mt.mean_absolute_percentage_error(y_treino, y_pred)\n",
    "        \n",
    "resultado_linear_elastic_treino = pd.DataFrame(np.array([r_2, mse, rmse, mae, mape])).T\n",
    "resultado_linear_elastic_treino = resultado_linear_elastic_treino.rename(columns = {0: 'r_2', \n",
    "                                                                                    1: 'mse',\n",
    "                                                                                    2: 'rmse',\n",
    "                                                                                    3: 'mae',\n",
    "                                                                                    4: 'mape'})\n",
    "resultado_linear_elastic_treino.insert(0, 'dados', 'treino')\n",
    "resultado_linear_elastic_treino.insert(0, 'algoritmo', 'linear regression elastic')\n",
    "resultado_linear_elastic_treino"
   ]
  },
  {
   "cell_type": "markdown",
   "id": "645b113b-4575-4e50-a5e8-9473eee72d64",
   "metadata": {
    "tags": []
   },
   "source": [
    "#### Dados de validação"
   ]
  },
  {
   "cell_type": "code",
   "execution_count": 34,
   "id": "eff67d8f-5c19-4520-b6f6-cca1028e5c01",
   "metadata": {},
   "outputs": [
    {
     "name": "stdout",
     "output_type": "stream",
     "text": [
      "1 / 1 -> 21.7607\n",
      "1 / 2 -> 21.8018\n",
      "1 / 3 -> 21.8279\n",
      "1 / 4 -> 21.8477\n",
      "1001 / 1 -> 21.7632\n",
      "1001 / 2 -> 21.8018\n",
      "1001 / 3 -> 21.8279\n",
      "1001 / 4 -> 21.8477\n"
     ]
    },
    {
     "name": "stderr",
     "output_type": "stream",
     "text": [
      "C:\\Users\\Leonardo\\AppData\\Local\\Programs\\Python\\Python311\\Lib\\site-packages\\sklearn\\linear_model\\_coordinate_descent.py:628: ConvergenceWarning: Objective did not converge. You might want to increase the number of iterations, check the scale of the features or consider increasing regularisation. Duality gap: 4.277e+03, tolerance: 5.042e+02\n",
      "  model = cd_fast.enet_coordinate_descent(\n"
     ]
    }
   ],
   "source": [
    "#Definição de parâmetros do treinamento\n",
    "max_iter = np.arange(1, 2000, 1000)\n",
    "alpha = np.arange(1, 5, 1)\n",
    "\n",
    "for i in max_iter:\n",
    "    for e in alpha:\n",
    "        modelo_linear_elastic = lm.ElasticNet(max_iter = i, alpha = e)\n",
    "        modelo_linear_elastic.fit(x_treino, y_treino)\n",
    "\n",
    "        #Avaliando a performance do modelo\n",
    "        y_pred = modelo_linear_elastic.predict(x_validacao)\n",
    "        mse = mt.mean_squared_error(y_validacao, y_pred)\n",
    "        rmse = np.sqrt(mse)    \n",
    "\n",
    "        print('{max_iter} / {alpha} -> {rmse:.4f}'.format(max_iter = i, alpha = e, rmse = rmse))"
   ]
  },
  {
   "cell_type": "code",
   "execution_count": 35,
   "id": "1f75006e-e312-4d5a-a948-a60ac46b75fa",
   "metadata": {},
   "outputs": [
    {
     "name": "stderr",
     "output_type": "stream",
     "text": [
      "C:\\Users\\Leonardo\\AppData\\Local\\Programs\\Python\\Python311\\Lib\\site-packages\\sklearn\\linear_model\\_coordinate_descent.py:628: ConvergenceWarning: Objective did not converge. You might want to increase the number of iterations, check the scale of the features or consider increasing regularisation. Duality gap: 4.277e+03, tolerance: 5.042e+02\n",
      "  model = cd_fast.enet_coordinate_descent(\n"
     ]
    },
    {
     "data": {
      "text/html": [
       "<div>\n",
       "<style scoped>\n",
       "    .dataframe tbody tr th:only-of-type {\n",
       "        vertical-align: middle;\n",
       "    }\n",
       "\n",
       "    .dataframe tbody tr th {\n",
       "        vertical-align: top;\n",
       "    }\n",
       "\n",
       "    .dataframe thead th {\n",
       "        text-align: right;\n",
       "    }\n",
       "</style>\n",
       "<table border=\"1\" class=\"dataframe\">\n",
       "  <thead>\n",
       "    <tr style=\"text-align: right;\">\n",
       "      <th></th>\n",
       "      <th>algoritmo</th>\n",
       "      <th>dados</th>\n",
       "      <th>r_2</th>\n",
       "      <th>mse</th>\n",
       "      <th>rmse</th>\n",
       "      <th>mae</th>\n",
       "      <th>mape</th>\n",
       "    </tr>\n",
       "  </thead>\n",
       "  <tbody>\n",
       "    <tr>\n",
       "      <th>0</th>\n",
       "      <td>linear regression elastic</td>\n",
       "      <td>validacao</td>\n",
       "      <td>0.008342</td>\n",
       "      <td>473.528157</td>\n",
       "      <td>21.760702</td>\n",
       "      <td>17.261015</td>\n",
       "      <td>8.692446</td>\n",
       "    </tr>\n",
       "  </tbody>\n",
       "</table>\n",
       "</div>"
      ],
      "text/plain": [
       "                   algoritmo      dados       r_2         mse       rmse  \\\n",
       "0  linear regression elastic  validacao  0.008342  473.528157  21.760702   \n",
       "\n",
       "         mae      mape  \n",
       "0  17.261015  8.692446  "
      ]
     },
     "execution_count": 35,
     "metadata": {},
     "output_type": "execute_result"
    }
   ],
   "source": [
    "max_iter = 1\n",
    "alpha = 1\n",
    "\n",
    "modelo_linear_elastic = lm.ElasticNet(max_iter = max_iter, alpha = alpha)\n",
    "modelo_linear_elastic.fit(x_treino, y_treino)\n",
    "\n",
    "y_pred = modelo_linear_elastic.predict(x_validacao)\n",
    "\n",
    "r_2 = mt.r2_score(y_validacao, y_pred)\n",
    "mse = mt.mean_squared_error(y_validacao, y_pred)\n",
    "rmse = np.sqrt(mse)\n",
    "mae = mt.mean_absolute_error(y_validacao, y_pred)\n",
    "mape = mt.mean_absolute_percentage_error(y_validacao, y_pred)\n",
    "        \n",
    "resultado_linear_elastic_validacao = pd.DataFrame(np.array([r_2, mse, rmse, mae, mape])).T\n",
    "resultado_linear_elastic_validacao = resultado_linear_elastic_validacao.rename(columns = {0: 'r_2', \n",
    "                                                                                          1: 'mse',\n",
    "                                                                                          2: 'rmse',\n",
    "                                                                                          3: 'mae',\n",
    "                                                                                          4: 'mape'})\n",
    "resultado_linear_elastic_validacao.insert(0, 'dados', 'validacao')\n",
    "resultado_linear_elastic_validacao.insert(0, 'algoritmo', 'linear regression elastic')\n",
    "resultado_linear_elastic_validacao"
   ]
  },
  {
   "cell_type": "markdown",
   "id": "be6a87ad-2c5c-45bc-ac8f-d07086fec565",
   "metadata": {
    "tags": []
   },
   "source": [
    "#### Dados de teste"
   ]
  },
  {
   "cell_type": "code",
   "execution_count": 36,
   "id": "44e3a580-84e5-476d-b5b4-08563c2500a7",
   "metadata": {},
   "outputs": [
    {
     "name": "stderr",
     "output_type": "stream",
     "text": [
      "C:\\Users\\Leonardo\\AppData\\Local\\Programs\\Python\\Python311\\Lib\\site-packages\\sklearn\\linear_model\\_coordinate_descent.py:628: ConvergenceWarning: Objective did not converge. You might want to increase the number of iterations, check the scale of the features or consider increasing regularisation. Duality gap: 3.353e+03, tolerance: 7.200e+02\n",
      "  model = cd_fast.enet_coordinate_descent(\n"
     ]
    },
    {
     "data": {
      "text/html": [
       "<div>\n",
       "<style scoped>\n",
       "    .dataframe tbody tr th:only-of-type {\n",
       "        vertical-align: middle;\n",
       "    }\n",
       "\n",
       "    .dataframe tbody tr th {\n",
       "        vertical-align: top;\n",
       "    }\n",
       "\n",
       "    .dataframe thead th {\n",
       "        text-align: right;\n",
       "    }\n",
       "</style>\n",
       "<table border=\"1\" class=\"dataframe\">\n",
       "  <thead>\n",
       "    <tr style=\"text-align: right;\">\n",
       "      <th></th>\n",
       "      <th>algoritmo</th>\n",
       "      <th>dados</th>\n",
       "      <th>r_2</th>\n",
       "      <th>mse</th>\n",
       "      <th>rmse</th>\n",
       "      <th>mae</th>\n",
       "      <th>mape</th>\n",
       "    </tr>\n",
       "  </thead>\n",
       "  <tbody>\n",
       "    <tr>\n",
       "      <th>0</th>\n",
       "      <td>linear regression elastic</td>\n",
       "      <td>teste</td>\n",
       "      <td>0.008255</td>\n",
       "      <td>482.881497</td>\n",
       "      <td>21.974565</td>\n",
       "      <td>17.467771</td>\n",
       "      <td>8.743041</td>\n",
       "    </tr>\n",
       "  </tbody>\n",
       "</table>\n",
       "</div>"
      ],
      "text/plain": [
       "                   algoritmo  dados       r_2         mse       rmse  \\\n",
       "0  linear regression elastic  teste  0.008255  482.881497  21.974565   \n",
       "\n",
       "         mae      mape  \n",
       "0  17.467771  8.743041  "
      ]
     },
     "execution_count": 36,
     "metadata": {},
     "output_type": "execute_result"
    }
   ],
   "source": [
    "max_iter = 1\n",
    "alpha = 1\n",
    "\n",
    "modelo_linear_elastic = lm.ElasticNet(max_iter = max_iter, alpha = alpha)\n",
    "modelo_linear_elastic.fit(pd.concat([x_treino, x_validacao]),\n",
    "                          pd.concat([y_treino, y_validacao]))\n",
    "\n",
    "y_pred = modelo_linear_elastic.predict(x_teste)\n",
    "\n",
    "r_2 = mt.r2_score(y_teste, y_pred)\n",
    "mse = mt.mean_squared_error(y_teste, y_pred)\n",
    "rmse = np.sqrt(mse)\n",
    "mae = mt.mean_absolute_error(y_teste, y_pred)\n",
    "mape = mt.mean_absolute_percentage_error(y_teste, y_pred)\n",
    "        \n",
    "resultado_linear_elastic_teste = pd.DataFrame(np.array([r_2, mse, rmse, mae, mape])).T\n",
    "resultado_linear_elastic_teste = resultado_linear_elastic_teste.rename(columns = {0: 'r_2', \n",
    "                                                                                  1: 'mse',\n",
    "                                                                                  2: 'rmse',\n",
    "                                                                                  3: 'mae',\n",
    "                                                                                  4: 'mape'})\n",
    "resultado_linear_elastic_teste.insert(0, 'dados', 'teste')\n",
    "resultado_linear_elastic_teste.insert(0, 'algoritmo', 'linear regression elastic')\n",
    "resultado_linear_elastic_teste"
   ]
  },
  {
   "cell_type": "code",
   "execution_count": 37,
   "id": "b970db28-9069-4248-9ebc-797fd2091bf7",
   "metadata": {},
   "outputs": [
    {
     "data": {
      "text/html": [
       "<div>\n",
       "<style scoped>\n",
       "    .dataframe tbody tr th:only-of-type {\n",
       "        vertical-align: middle;\n",
       "    }\n",
       "\n",
       "    .dataframe tbody tr th {\n",
       "        vertical-align: top;\n",
       "    }\n",
       "\n",
       "    .dataframe thead th {\n",
       "        text-align: right;\n",
       "    }\n",
       "</style>\n",
       "<table border=\"1\" class=\"dataframe\">\n",
       "  <thead>\n",
       "    <tr style=\"text-align: right;\">\n",
       "      <th></th>\n",
       "      <th>algoritmo</th>\n",
       "      <th>dados</th>\n",
       "      <th>r_2</th>\n",
       "      <th>mse</th>\n",
       "      <th>rmse</th>\n",
       "      <th>mae</th>\n",
       "      <th>mape</th>\n",
       "    </tr>\n",
       "  </thead>\n",
       "  <tbody>\n",
       "    <tr>\n",
       "      <th>0</th>\n",
       "      <td>linear regression elastic</td>\n",
       "      <td>treino</td>\n",
       "      <td>0.008096</td>\n",
       "      <td>474.142435</td>\n",
       "      <td>21.774812</td>\n",
       "      <td>17.296745</td>\n",
       "      <td>8.731581</td>\n",
       "    </tr>\n",
       "    <tr>\n",
       "      <th>0</th>\n",
       "      <td>linear regression elastic</td>\n",
       "      <td>validacao</td>\n",
       "      <td>0.008342</td>\n",
       "      <td>473.528157</td>\n",
       "      <td>21.760702</td>\n",
       "      <td>17.261015</td>\n",
       "      <td>8.692446</td>\n",
       "    </tr>\n",
       "    <tr>\n",
       "      <th>0</th>\n",
       "      <td>linear regression elastic</td>\n",
       "      <td>teste</td>\n",
       "      <td>0.008255</td>\n",
       "      <td>482.881497</td>\n",
       "      <td>21.974565</td>\n",
       "      <td>17.467771</td>\n",
       "      <td>8.743041</td>\n",
       "    </tr>\n",
       "  </tbody>\n",
       "</table>\n",
       "</div>"
      ],
      "text/plain": [
       "                   algoritmo      dados       r_2         mse       rmse  \\\n",
       "0  linear regression elastic     treino  0.008096  474.142435  21.774812   \n",
       "0  linear regression elastic  validacao  0.008342  473.528157  21.760702   \n",
       "0  linear regression elastic      teste  0.008255  482.881497  21.974565   \n",
       "\n",
       "         mae      mape  \n",
       "0  17.296745  8.731581  \n",
       "0  17.261015  8.692446  \n",
       "0  17.467771  8.743041  "
      ]
     },
     "execution_count": 37,
     "metadata": {},
     "output_type": "execute_result"
    }
   ],
   "source": [
    "resultado_linear_elastic = pd.concat([resultado_linear_elastic_treino, resultado_linear_elastic_validacao, resultado_linear_elastic_teste])\n",
    "resultado_linear_elastic"
   ]
  },
  {
   "cell_type": "markdown",
   "id": "adb494e8-ac55-417c-ae57-723fcfe9830c",
   "metadata": {
    "jp-MarkdownHeadingCollapsed": true,
    "tags": []
   },
   "source": [
    "## Algoritmo Polinomial Regression"
   ]
  },
  {
   "cell_type": "markdown",
   "id": "2306b987-2dbf-46df-9e2f-ede88086a2c9",
   "metadata": {
    "tags": []
   },
   "source": [
    "#### Dados de treino"
   ]
  },
  {
   "cell_type": "code",
   "execution_count": 38,
   "id": "cde6b340-0d85-45cc-a294-c571e4bd4cb4",
   "metadata": {
    "tags": []
   },
   "outputs": [
    {
     "name": "stdout",
     "output_type": "stream",
     "text": [
      "1 -> 21.3541\n",
      "2 -> 20.8083\n",
      "3 -> 20.1047\n"
     ]
    }
   ],
   "source": [
    "lista_parametros = list()\n",
    "\n",
    "for a in np.arange(1, 4, 1):\n",
    "    polinomio = pp.PolynomialFeatures(degree = a)\n",
    "    x_polinomio_treino = polinomio.fit_transform(x_treino) #caracteristicas e rotulos sendo treinados\n",
    "\n",
    "    modelo_polinomial = lm.LinearRegression()\n",
    "    modelo_polinomial.fit(x_polinomio_treino, y_treino)\n",
    "    \n",
    "    y_pred = modelo_polinomial.predict(x_polinomio_treino)    \n",
    "    mse = mt.mean_squared_error(y_treino, y_pred)\n",
    "    rmse = np.sqrt(mse)\n",
    "\n",
    "    lista_parametros.append(rmse)\n",
    "    \n",
    "    print('{grau} -> {rmse:.4f}'.format(grau = a, rmse = rmse))"
   ]
  },
  {
   "cell_type": "code",
   "execution_count": 39,
   "id": "0598c491-9c9e-4232-b604-9639a0ab98d0",
   "metadata": {
    "tags": []
   },
   "outputs": [
    {
     "data": {
      "text/html": [
       "<div>\n",
       "<style scoped>\n",
       "    .dataframe tbody tr th:only-of-type {\n",
       "        vertical-align: middle;\n",
       "    }\n",
       "\n",
       "    .dataframe tbody tr th {\n",
       "        vertical-align: top;\n",
       "    }\n",
       "\n",
       "    .dataframe thead th {\n",
       "        text-align: right;\n",
       "    }\n",
       "</style>\n",
       "<table border=\"1\" class=\"dataframe\">\n",
       "  <thead>\n",
       "    <tr style=\"text-align: right;\">\n",
       "      <th></th>\n",
       "      <th>algoritmo</th>\n",
       "      <th>dados</th>\n",
       "      <th>r_2</th>\n",
       "      <th>mse</th>\n",
       "      <th>rmse</th>\n",
       "      <th>mae</th>\n",
       "      <th>mape</th>\n",
       "    </tr>\n",
       "  </thead>\n",
       "  <tbody>\n",
       "    <tr>\n",
       "      <th>0</th>\n",
       "      <td>polinomial regression</td>\n",
       "      <td>treino</td>\n",
       "      <td>0.154418</td>\n",
       "      <td>404.19895</td>\n",
       "      <td>20.1047</td>\n",
       "      <td>15.883592</td>\n",
       "      <td>7.800181</td>\n",
       "    </tr>\n",
       "  </tbody>\n",
       "</table>\n",
       "</div>"
      ],
      "text/plain": [
       "               algoritmo   dados       r_2        mse     rmse        mae  \\\n",
       "0  polinomial regression  treino  0.154418  404.19895  20.1047  15.883592   \n",
       "\n",
       "       mape  \n",
       "0  7.800181  "
      ]
     },
     "execution_count": 39,
     "metadata": {},
     "output_type": "execute_result"
    }
   ],
   "source": [
    "polinomio = pp.PolynomialFeatures(degree = np.argmin(lista_parametros) + 1)\n",
    "x_polinomio_treino = polinomio.fit_transform(x_treino) #caracteristicas e rotulos sendo treinados\n",
    "\n",
    "modelo_polinomial = lm.LinearRegression()\n",
    "modelo_polinomial.fit(x_polinomio_treino, y_treino)\n",
    "\n",
    "y_pred = modelo_polinomial.predict(x_polinomio_treino)\n",
    "\n",
    "r_2 = mt.r2_score(y_treino, y_pred)\n",
    "mse = mt.mean_squared_error(y_treino, y_pred)\n",
    "rmse = np.sqrt(mse)\n",
    "mae = mt.mean_absolute_error(y_treino, y_pred)\n",
    "mape = mt.mean_absolute_percentage_error(y_treino, y_pred)\n",
    "        \n",
    "resultado_polinomial_treino = pd.DataFrame(np.array([r_2, mse, rmse, mae, mape])).T\n",
    "resultado_polinomial_treino = resultado_polinomial_treino.rename(columns = {0: 'r_2', \n",
    "                                                                            1: 'mse',\n",
    "                                                                            2: 'rmse',\n",
    "                                                                            3: 'mae',\n",
    "                                                                            4: 'mape'})\n",
    "resultado_polinomial_treino.insert(0, 'dados', 'treino')\n",
    "resultado_polinomial_treino.insert(0, 'algoritmo', 'polinomial regression')\n",
    "resultado_polinomial_treino"
   ]
  },
  {
   "cell_type": "markdown",
   "id": "6efd0241-5f1e-4c39-9275-e73abe92252a",
   "metadata": {
    "tags": []
   },
   "source": [
    "#### Dados de validação"
   ]
  },
  {
   "cell_type": "code",
   "execution_count": 40,
   "id": "2cf4c94b-1dcd-4473-a3b3-927e681c41d3",
   "metadata": {
    "tags": []
   },
   "outputs": [
    {
     "name": "stdout",
     "output_type": "stream",
     "text": [
      "1 -> 21.4114\n",
      "2 -> 21.1132\n",
      "3 -> 22.3680\n"
     ]
    }
   ],
   "source": [
    "lista_parametros = list()\n",
    "\n",
    "for a in np.arange(1, 4, 1):\n",
    "    polinomio = pp.PolynomialFeatures(degree = a)\n",
    "    x_polinomio_treino = polinomio.fit_transform(x_treino) #caracteristicas e rotulos sendo treinados\n",
    "    x_polinomio_validacao = polinomio.fit_transform(x_validacao) #caracteristicas e rotulos sendo treinados\n",
    "\n",
    "    modelo_polinomial = lm.LinearRegression()\n",
    "    modelo_polinomial.fit(x_polinomio_treino, y_treino)\n",
    "    \n",
    "    y_pred = modelo_polinomial.predict(x_polinomio_validacao)    \n",
    "    mse = mt.mean_squared_error(y_validacao, y_pred)\n",
    "    rmse = np.sqrt(mse)\n",
    "\n",
    "    lista_parametros.append(rmse)\n",
    "    \n",
    "    print('{grau} -> {rmse:.4f}'.format(grau = a, rmse = rmse))"
   ]
  },
  {
   "cell_type": "code",
   "execution_count": 41,
   "id": "d1b8eba4-ab45-4ea5-824d-315f5dd5cb9e",
   "metadata": {
    "tags": []
   },
   "outputs": [
    {
     "data": {
      "text/html": [
       "<div>\n",
       "<style scoped>\n",
       "    .dataframe tbody tr th:only-of-type {\n",
       "        vertical-align: middle;\n",
       "    }\n",
       "\n",
       "    .dataframe tbody tr th {\n",
       "        vertical-align: top;\n",
       "    }\n",
       "\n",
       "    .dataframe thead th {\n",
       "        text-align: right;\n",
       "    }\n",
       "</style>\n",
       "<table border=\"1\" class=\"dataframe\">\n",
       "  <thead>\n",
       "    <tr style=\"text-align: right;\">\n",
       "      <th></th>\n",
       "      <th>algoritmo</th>\n",
       "      <th>dados</th>\n",
       "      <th>r_2</th>\n",
       "      <th>mse</th>\n",
       "      <th>rmse</th>\n",
       "      <th>mae</th>\n",
       "      <th>mape</th>\n",
       "    </tr>\n",
       "  </thead>\n",
       "  <tbody>\n",
       "    <tr>\n",
       "      <th>0</th>\n",
       "      <td>polinomial regression</td>\n",
       "      <td>validacao</td>\n",
       "      <td>0.066477</td>\n",
       "      <td>445.768223</td>\n",
       "      <td>21.113224</td>\n",
       "      <td>16.749939</td>\n",
       "      <td>8.547931</td>\n",
       "    </tr>\n",
       "  </tbody>\n",
       "</table>\n",
       "</div>"
      ],
      "text/plain": [
       "               algoritmo      dados       r_2         mse       rmse  \\\n",
       "0  polinomial regression  validacao  0.066477  445.768223  21.113224   \n",
       "\n",
       "         mae      mape  \n",
       "0  16.749939  8.547931  "
      ]
     },
     "execution_count": 41,
     "metadata": {},
     "output_type": "execute_result"
    }
   ],
   "source": [
    "polinomio = pp.PolynomialFeatures(degree = np.argmin(lista_parametros) + 1)\n",
    "x_polinomio_treino = polinomio.fit_transform(x_treino) #caracteristicas e rotulos sendo treinados\n",
    "x_polinomio_validacao = polinomio.fit_transform(x_validacao) #caracteristicas e rotulos sendo treinados\n",
    "\n",
    "modelo_polinomial = lm.LinearRegression()\n",
    "modelo_polinomial.fit(x_polinomio_treino, y_treino)\n",
    "\n",
    "y_pred = modelo_polinomial.predict(x_polinomio_validacao)\n",
    "\n",
    "r_2 = mt.r2_score(y_validacao, y_pred)\n",
    "mse = mt.mean_squared_error(y_validacao, y_pred)\n",
    "rmse = np.sqrt(mse)\n",
    "mae = mt.mean_absolute_error(y_validacao, y_pred)\n",
    "mape = mt.mean_absolute_percentage_error(y_validacao, y_pred)\n",
    "        \n",
    "resultado_polinomial_validacao = pd.DataFrame(np.array([r_2, mse, rmse, mae, mape])).T\n",
    "resultado_polinomial_validacao = resultado_polinomial_validacao.rename(columns = {0: 'r_2', \n",
    "                                                                                  1: 'mse',\n",
    "                                                                                  2: 'rmse',\n",
    "                                                                                  3: 'mae',\n",
    "                                                                                  4: 'mape'})\n",
    "resultado_polinomial_validacao.insert(0, 'dados', 'validacao')\n",
    "resultado_polinomial_validacao.insert(0, 'algoritmo', 'polinomial regression')\n",
    "resultado_polinomial_validacao"
   ]
  },
  {
   "cell_type": "markdown",
   "id": "0e9efdd3-cf23-413f-bb72-ef41b7bed628",
   "metadata": {
    "tags": []
   },
   "source": [
    "#### Dados de teste"
   ]
  },
  {
   "cell_type": "code",
   "execution_count": 42,
   "id": "8f270a69-dd9b-4e16-af73-348956af9cc5",
   "metadata": {
    "tags": []
   },
   "outputs": [
    {
     "data": {
      "text/html": [
       "<div>\n",
       "<style scoped>\n",
       "    .dataframe tbody tr th:only-of-type {\n",
       "        vertical-align: middle;\n",
       "    }\n",
       "\n",
       "    .dataframe tbody tr th {\n",
       "        vertical-align: top;\n",
       "    }\n",
       "\n",
       "    .dataframe thead th {\n",
       "        text-align: right;\n",
       "    }\n",
       "</style>\n",
       "<table border=\"1\" class=\"dataframe\">\n",
       "  <thead>\n",
       "    <tr style=\"text-align: right;\">\n",
       "      <th></th>\n",
       "      <th>algoritmo</th>\n",
       "      <th>dados</th>\n",
       "      <th>r_2</th>\n",
       "      <th>mse</th>\n",
       "      <th>rmse</th>\n",
       "      <th>mae</th>\n",
       "      <th>mape</th>\n",
       "    </tr>\n",
       "  </thead>\n",
       "  <tbody>\n",
       "    <tr>\n",
       "      <th>0</th>\n",
       "      <td>polinomial regression</td>\n",
       "      <td>teste</td>\n",
       "      <td>0.090901</td>\n",
       "      <td>442.641386</td>\n",
       "      <td>21.039044</td>\n",
       "      <td>16.736414</td>\n",
       "      <td>8.276972</td>\n",
       "    </tr>\n",
       "  </tbody>\n",
       "</table>\n",
       "</div>"
      ],
      "text/plain": [
       "               algoritmo  dados       r_2         mse       rmse        mae  \\\n",
       "0  polinomial regression  teste  0.090901  442.641386  21.039044  16.736414   \n",
       "\n",
       "       mape  \n",
       "0  8.276972  "
      ]
     },
     "execution_count": 42,
     "metadata": {},
     "output_type": "execute_result"
    }
   ],
   "source": [
    "polinomio = pp.PolynomialFeatures(degree = np.argmin(lista_parametros) + 1)\n",
    "x_polinomio_treino = polinomio.fit_transform(x_treino) #caracteristicas e rotulos sendo treinados\n",
    "x_polinomio_validacao = polinomio.fit_transform(x_validacao) #caracteristicas e rotulos sendo treinados\n",
    "x_polinomio_teste = polinomio.fit_transform(x_teste) #caracteristicas e rotulos sendo treinados\n",
    "\n",
    "modelo_polinomial = lm.LinearRegression()\n",
    "modelo_polinomial.fit(np.concatenate((x_polinomio_treino, x_polinomio_validacao)),\n",
    "                      np.concatenate((y_treino, y_validacao)))\n",
    "\n",
    "y_pred = modelo_polinomial.predict(x_polinomio_teste)\n",
    "\n",
    "r_2 = mt.r2_score(y_teste, y_pred)\n",
    "mse = mt.mean_squared_error(y_teste, y_pred)\n",
    "rmse = np.sqrt(mse)\n",
    "mae = mt.mean_absolute_error(y_teste, y_pred)\n",
    "mape = mt.mean_absolute_percentage_error(y_teste, y_pred)\n",
    "        \n",
    "resultado_polinomial_teste = pd.DataFrame(np.array([r_2, mse, rmse, mae, mape])).T\n",
    "resultado_polinomial_teste = resultado_polinomial_teste.rename(columns = {0: 'r_2', \n",
    "                                                                                  1: 'mse',\n",
    "                                                                                  2: 'rmse',\n",
    "                                                                                  3: 'mae',\n",
    "                                                                                  4: 'mape'})\n",
    "resultado_polinomial_teste.insert(0, 'dados', 'teste')\n",
    "resultado_polinomial_teste.insert(0, 'algoritmo', 'polinomial regression')\n",
    "resultado_polinomial_teste"
   ]
  },
  {
   "cell_type": "code",
   "execution_count": 43,
   "id": "66e05df0-6faa-477e-9f8f-211c8b0f8578",
   "metadata": {
    "tags": []
   },
   "outputs": [
    {
     "data": {
      "text/html": [
       "<div>\n",
       "<style scoped>\n",
       "    .dataframe tbody tr th:only-of-type {\n",
       "        vertical-align: middle;\n",
       "    }\n",
       "\n",
       "    .dataframe tbody tr th {\n",
       "        vertical-align: top;\n",
       "    }\n",
       "\n",
       "    .dataframe thead th {\n",
       "        text-align: right;\n",
       "    }\n",
       "</style>\n",
       "<table border=\"1\" class=\"dataframe\">\n",
       "  <thead>\n",
       "    <tr style=\"text-align: right;\">\n",
       "      <th></th>\n",
       "      <th>algoritmo</th>\n",
       "      <th>dados</th>\n",
       "      <th>r_2</th>\n",
       "      <th>mse</th>\n",
       "      <th>rmse</th>\n",
       "      <th>mae</th>\n",
       "      <th>mape</th>\n",
       "    </tr>\n",
       "  </thead>\n",
       "  <tbody>\n",
       "    <tr>\n",
       "      <th>0</th>\n",
       "      <td>polinomial regression</td>\n",
       "      <td>treino</td>\n",
       "      <td>0.154418</td>\n",
       "      <td>404.198950</td>\n",
       "      <td>20.104700</td>\n",
       "      <td>15.883592</td>\n",
       "      <td>7.800181</td>\n",
       "    </tr>\n",
       "    <tr>\n",
       "      <th>0</th>\n",
       "      <td>polinomial regression</td>\n",
       "      <td>validacao</td>\n",
       "      <td>0.066477</td>\n",
       "      <td>445.768223</td>\n",
       "      <td>21.113224</td>\n",
       "      <td>16.749939</td>\n",
       "      <td>8.547931</td>\n",
       "    </tr>\n",
       "    <tr>\n",
       "      <th>0</th>\n",
       "      <td>polinomial regression</td>\n",
       "      <td>teste</td>\n",
       "      <td>0.090901</td>\n",
       "      <td>442.641386</td>\n",
       "      <td>21.039044</td>\n",
       "      <td>16.736414</td>\n",
       "      <td>8.276972</td>\n",
       "    </tr>\n",
       "  </tbody>\n",
       "</table>\n",
       "</div>"
      ],
      "text/plain": [
       "               algoritmo      dados       r_2         mse       rmse  \\\n",
       "0  polinomial regression     treino  0.154418  404.198950  20.104700   \n",
       "0  polinomial regression  validacao  0.066477  445.768223  21.113224   \n",
       "0  polinomial regression      teste  0.090901  442.641386  21.039044   \n",
       "\n",
       "         mae      mape  \n",
       "0  15.883592  7.800181  \n",
       "0  16.749939  8.547931  \n",
       "0  16.736414  8.276972  "
      ]
     },
     "execution_count": 43,
     "metadata": {},
     "output_type": "execute_result"
    }
   ],
   "source": [
    "resultado_polinomial = pd.concat([resultado_polinomial_treino, resultado_polinomial_validacao, resultado_polinomial_teste])\n",
    "resultado_polinomial"
   ]
  },
  {
   "cell_type": "markdown",
   "id": "bb26e600-8e00-478c-b5b2-88b998929983",
   "metadata": {
    "jp-MarkdownHeadingCollapsed": true,
    "tags": []
   },
   "source": [
    "## Algoritmo Polinomial Regression (Lasso)"
   ]
  },
  {
   "cell_type": "markdown",
   "id": "47342990-1b65-48df-aa2e-77e33975d707",
   "metadata": {
    "tags": []
   },
   "source": [
    "#### Dados de treino"
   ]
  },
  {
   "cell_type": "code",
   "execution_count": 44,
   "id": "8a0f8e9e-53a7-4767-8fd8-8cf519a92e68",
   "metadata": {
    "tags": []
   },
   "outputs": [
    {
     "name": "stdout",
     "output_type": "stream",
     "text": [
      "1 -> 21.3541\n",
      "2 -> 20.8083\n",
      "3 -> 20.1047\n"
     ]
    }
   ],
   "source": [
    "for a in np.arange(1, 4, 1):\n",
    "    polinomio = pp.PolynomialFeatures(degree = a)\n",
    "    x_polinomio_treino = polinomio.fit_transform(x_treino) #caracteristicas e rotulos sendo treinados\n",
    "\n",
    "    modelo_polinomial = lm.LinearRegression()\n",
    "    modelo_polinomial.fit(x_polinomio_treino, y_treino)\n",
    "    \n",
    "    y_pred = modelo_polinomial.predict(x_polinomio_treino)    \n",
    "    mse = mt.mean_squared_error(y_treino, y_pred)\n",
    "    rmse = np.sqrt(mse)   \n",
    "\n",
    "    print('{grau} -> {rmse:.4f}'.format(grau = a, rmse = rmse))"
   ]
  },
  {
   "cell_type": "code",
   "execution_count": 45,
   "id": "feab0704-1435-4b0b-a0d3-7c780dd08f92",
   "metadata": {},
   "outputs": [
    {
     "name": "stderr",
     "output_type": "stream",
     "text": [
      "C:\\Users\\Leonardo\\AppData\\Local\\Programs\\Python\\Python311\\Lib\\site-packages\\sklearn\\linear_model\\_coordinate_descent.py:628: ConvergenceWarning: Objective did not converge. You might want to increase the number of iterations, check the scale of the features or consider increasing regularisation. Duality gap: 2.195e+06, tolerance: 5.042e+02\n",
      "  model = cd_fast.enet_coordinate_descent(\n"
     ]
    },
    {
     "name": "stdout",
     "output_type": "stream",
     "text": [
      "1 / 1 -> 21.7353\n"
     ]
    },
    {
     "name": "stderr",
     "output_type": "stream",
     "text": [
      "C:\\Users\\Leonardo\\AppData\\Local\\Programs\\Python\\Python311\\Lib\\site-packages\\sklearn\\linear_model\\_coordinate_descent.py:628: ConvergenceWarning: Objective did not converge. You might want to increase the number of iterations, check the scale of the features or consider increasing regularisation. Duality gap: 1.646e+05, tolerance: 5.042e+02\n",
      "  model = cd_fast.enet_coordinate_descent(\n"
     ]
    },
    {
     "name": "stdout",
     "output_type": "stream",
     "text": [
      "1 / 2 -> 21.8251\n",
      "1001 / 1 -> 21.7090\n",
      "1001 / 2 -> 21.8227\n"
     ]
    }
   ],
   "source": [
    "#Definição de parâmetros do treinamento\n",
    "max_iter = np.arange(1, 2000, 1000)\n",
    "alpha = np.arange(1, 3, 1)\n",
    "\n",
    "for i in max_iter:\n",
    "    for e in alpha:        \n",
    "        modelo_polinomial_lasso = lm.Lasso(max_iter = i, alpha = e)\n",
    "        modelo_polinomial_lasso.fit(x_polinomio_treino, y_treino)\n",
    "        \n",
    "        #Avaliando a performance do modelo\n",
    "        y_pred = modelo_polinomial_lasso.predict(x_polinomio_treino)\n",
    "        mse = mt.mean_squared_error(y_treino, y_pred)\n",
    "        rmse = np.sqrt(mse)    \n",
    "\n",
    "        print('{max_iter} / {alpha} -> {rmse:.4f}'.format(max_iter = i, alpha = e, rmse = rmse))"
   ]
  },
  {
   "cell_type": "code",
   "execution_count": 46,
   "id": "9bfb35af-b772-4723-893a-19a6b4872218",
   "metadata": {},
   "outputs": [
    {
     "data": {
      "text/html": [
       "<div>\n",
       "<style scoped>\n",
       "    .dataframe tbody tr th:only-of-type {\n",
       "        vertical-align: middle;\n",
       "    }\n",
       "\n",
       "    .dataframe tbody tr th {\n",
       "        vertical-align: top;\n",
       "    }\n",
       "\n",
       "    .dataframe thead th {\n",
       "        text-align: right;\n",
       "    }\n",
       "</style>\n",
       "<table border=\"1\" class=\"dataframe\">\n",
       "  <thead>\n",
       "    <tr style=\"text-align: right;\">\n",
       "      <th></th>\n",
       "      <th>algoritmo</th>\n",
       "      <th>dados</th>\n",
       "      <th>r_2</th>\n",
       "      <th>mse</th>\n",
       "      <th>rmse</th>\n",
       "      <th>mae</th>\n",
       "      <th>mape</th>\n",
       "    </tr>\n",
       "  </thead>\n",
       "  <tbody>\n",
       "    <tr>\n",
       "      <th>0</th>\n",
       "      <td>polinomial regression lasso</td>\n",
       "      <td>treino</td>\n",
       "      <td>0.014084</td>\n",
       "      <td>471.280382</td>\n",
       "      <td>21.708993</td>\n",
       "      <td>17.229625</td>\n",
       "      <td>8.648566</td>\n",
       "    </tr>\n",
       "  </tbody>\n",
       "</table>\n",
       "</div>"
      ],
      "text/plain": [
       "                     algoritmo   dados       r_2         mse       rmse  \\\n",
       "0  polinomial regression lasso  treino  0.014084  471.280382  21.708993   \n",
       "\n",
       "         mae      mape  \n",
       "0  17.229625  8.648566  "
      ]
     },
     "execution_count": 46,
     "metadata": {},
     "output_type": "execute_result"
    }
   ],
   "source": [
    "max_iter = 1001\n",
    "alpha = 1\n",
    "\n",
    "modelo_polinomial_lasso = lm.Lasso(max_iter = max_iter, alpha = alpha)\n",
    "modelo_polinomial_lasso.fit(x_polinomio_treino, y_treino)\n",
    "\n",
    "y_pred = modelo_polinomial_lasso.predict(x_polinomio_treino)\n",
    "\n",
    "r_2 = mt.r2_score(y_treino, y_pred)\n",
    "mse = mt.mean_squared_error(y_treino, y_pred)\n",
    "rmse = np.sqrt(mse)\n",
    "mae = mt.mean_absolute_error(y_treino, y_pred)\n",
    "mape = mt.mean_absolute_percentage_error(y_treino, y_pred)\n",
    "        \n",
    "resultado_polinomial_lasso_treino = pd.DataFrame(np.array([r_2, mse, rmse, mae, mape])).T\n",
    "resultado_polinomial_lasso_treino = resultado_polinomial_lasso_treino.rename(columns = {0: 'r_2', \n",
    "                                                                                        1: 'mse',\n",
    "                                                                                        2: 'rmse',\n",
    "                                                                                        3: 'mae',\n",
    "                                                                                        4: 'mape'})\n",
    "resultado_polinomial_lasso_treino.insert(0, 'dados', 'treino')\n",
    "resultado_polinomial_lasso_treino.insert(0, 'algoritmo', 'polinomial regression lasso')\n",
    "resultado_polinomial_lasso_treino"
   ]
  },
  {
   "cell_type": "markdown",
   "id": "9a8219cc-eb2f-42b6-b1b3-e940f6151469",
   "metadata": {
    "tags": []
   },
   "source": [
    "#### Dados de validação"
   ]
  },
  {
   "cell_type": "code",
   "execution_count": 47,
   "id": "7b84d992-18db-4a20-95cb-444750a6f0d7",
   "metadata": {
    "tags": []
   },
   "outputs": [
    {
     "name": "stdout",
     "output_type": "stream",
     "text": [
      "1 -> 21.7090\n",
      "2 -> 21.7090\n",
      "3 -> 21.7090\n"
     ]
    }
   ],
   "source": [
    "for a in np.arange(1, 4, 1):\n",
    "    polinomio = pp.PolynomialFeatures(degree = a)\n",
    "    x_polinomio_treino = polinomio.fit_transform(x_treino) #caracteristicas e rotulos sendo treinados\n",
    "    x_polinomio_validacao = polinomio.fit_transform(x_validacao) #caracteristicas e rotulos sendo treinados\n",
    "\n",
    "    modelo_polinomial = lm.LinearRegression()\n",
    "    modelo_polinomial.fit(x_polinomio_treino, y_treino)\n",
    "    \n",
    "    y_pred = modelo_polinomial.predict(x_polinomio_validacao)\n",
    "    rmse = np.sqrt(mse)   \n",
    "\n",
    "    print('{grau} -> {rmse:.4f}'.format(grau = a, rmse = rmse))"
   ]
  },
  {
   "cell_type": "code",
   "execution_count": 48,
   "id": "7e0659ab-f649-47b6-9b3b-1d18a9a5365b",
   "metadata": {
    "tags": []
   },
   "outputs": [
    {
     "name": "stderr",
     "output_type": "stream",
     "text": [
      "C:\\Users\\Leonardo\\AppData\\Local\\Programs\\Python\\Python311\\Lib\\site-packages\\sklearn\\linear_model\\_coordinate_descent.py:628: ConvergenceWarning: Objective did not converge. You might want to increase the number of iterations, check the scale of the features or consider increasing regularisation. Duality gap: 2.195e+06, tolerance: 5.042e+02\n",
      "  model = cd_fast.enet_coordinate_descent(\n"
     ]
    },
    {
     "name": "stdout",
     "output_type": "stream",
     "text": [
      "1 / 1 -> 21.7341\n"
     ]
    },
    {
     "name": "stderr",
     "output_type": "stream",
     "text": [
      "C:\\Users\\Leonardo\\AppData\\Local\\Programs\\Python\\Python311\\Lib\\site-packages\\sklearn\\linear_model\\_coordinate_descent.py:628: ConvergenceWarning: Objective did not converge. You might want to increase the number of iterations, check the scale of the features or consider increasing regularisation. Duality gap: 1.646e+05, tolerance: 5.042e+02\n",
      "  model = cd_fast.enet_coordinate_descent(\n"
     ]
    },
    {
     "name": "stdout",
     "output_type": "stream",
     "text": [
      "1 / 2 -> 21.8279\n",
      "1001 / 1 -> 21.6969\n",
      "1001 / 2 -> 21.8189\n"
     ]
    }
   ],
   "source": [
    "#Definição de parâmetros do treinamento\n",
    "max_iter = np.arange(1, 2000, 1000)\n",
    "alpha = np.arange(1, 3, 1)\n",
    "\n",
    "for i in max_iter:\n",
    "    for e in alpha:        \n",
    "        modelo_polinomial_lasso = lm.Lasso(max_iter = i, alpha = e)\n",
    "        modelo_polinomial_lasso.fit(x_polinomio_treino, y_treino)\n",
    "        \n",
    "        #Avaliando a performance do modelo\n",
    "        y_pred = modelo_polinomial_lasso.predict(x_polinomio_validacao)\n",
    "        mse = mt.mean_squared_error(y_validacao, y_pred)\n",
    "        rmse = np.sqrt(mse)    \n",
    "\n",
    "        print('{max_iter} / {alpha} -> {rmse:.4f}'.format(max_iter = i, alpha = e, rmse = rmse))"
   ]
  },
  {
   "cell_type": "code",
   "execution_count": 49,
   "id": "a54164fe-2e28-41e2-815e-e2fa92655684",
   "metadata": {},
   "outputs": [
    {
     "data": {
      "text/html": [
       "<div>\n",
       "<style scoped>\n",
       "    .dataframe tbody tr th:only-of-type {\n",
       "        vertical-align: middle;\n",
       "    }\n",
       "\n",
       "    .dataframe tbody tr th {\n",
       "        vertical-align: top;\n",
       "    }\n",
       "\n",
       "    .dataframe thead th {\n",
       "        text-align: right;\n",
       "    }\n",
       "</style>\n",
       "<table border=\"1\" class=\"dataframe\">\n",
       "  <thead>\n",
       "    <tr style=\"text-align: right;\">\n",
       "      <th></th>\n",
       "      <th>algoritmo</th>\n",
       "      <th>dados</th>\n",
       "      <th>r_2</th>\n",
       "      <th>mse</th>\n",
       "      <th>rmse</th>\n",
       "      <th>mae</th>\n",
       "      <th>mape</th>\n",
       "    </tr>\n",
       "  </thead>\n",
       "  <tbody>\n",
       "    <tr>\n",
       "      <th>0</th>\n",
       "      <td>polinomial regression lasso</td>\n",
       "      <td>validacao</td>\n",
       "      <td>0.014148</td>\n",
       "      <td>470.755769</td>\n",
       "      <td>21.696907</td>\n",
       "      <td>17.180595</td>\n",
       "      <td>8.655828</td>\n",
       "    </tr>\n",
       "  </tbody>\n",
       "</table>\n",
       "</div>"
      ],
      "text/plain": [
       "                     algoritmo      dados       r_2         mse       rmse  \\\n",
       "0  polinomial regression lasso  validacao  0.014148  470.755769  21.696907   \n",
       "\n",
       "         mae      mape  \n",
       "0  17.180595  8.655828  "
      ]
     },
     "execution_count": 49,
     "metadata": {},
     "output_type": "execute_result"
    }
   ],
   "source": [
    "max_iter = 1001\n",
    "alpha = 1\n",
    "\n",
    "modelo_polinomial_lasso = lm.Lasso(max_iter = max_iter, alpha = alpha)\n",
    "modelo_polinomial_lasso.fit(x_polinomio_treino, y_treino)\n",
    "\n",
    "y_pred = modelo_polinomial_lasso.predict(x_polinomio_validacao)\n",
    "\n",
    "r_2 = mt.r2_score(y_validacao, y_pred)\n",
    "mse = mt.mean_squared_error(y_validacao, y_pred)\n",
    "rmse = np.sqrt(mse)\n",
    "mae = mt.mean_absolute_error(y_validacao, y_pred)\n",
    "mape = mt.mean_absolute_percentage_error(y_validacao, y_pred)\n",
    "        \n",
    "resultado_polinomial_lasso_validacao = pd.DataFrame(np.array([r_2, mse, rmse, mae, mape])).T\n",
    "resultado_polinomial_lasso_validacao = resultado_polinomial_lasso_validacao.rename(columns = {0: 'r_2', \n",
    "                                                                                              1: 'mse',\n",
    "                                                                                              2: 'rmse',\n",
    "                                                                                              3: 'mae',\n",
    "                                                                                              4: 'mape'})\n",
    "resultado_polinomial_lasso_validacao.insert(0, 'dados', 'validacao')\n",
    "resultado_polinomial_lasso_validacao.insert(0, 'algoritmo', 'polinomial regression lasso')\n",
    "resultado_polinomial_lasso_validacao"
   ]
  },
  {
   "cell_type": "markdown",
   "id": "6642d90d-d9b9-4d8d-86c2-398dc6f9d697",
   "metadata": {
    "tags": []
   },
   "source": [
    "#### Dados de teste"
   ]
  },
  {
   "cell_type": "code",
   "execution_count": 50,
   "id": "a56f58b8-cd04-4245-9351-0b011647687b",
   "metadata": {},
   "outputs": [
    {
     "data": {
      "text/html": [
       "<div>\n",
       "<style scoped>\n",
       "    .dataframe tbody tr th:only-of-type {\n",
       "        vertical-align: middle;\n",
       "    }\n",
       "\n",
       "    .dataframe tbody tr th {\n",
       "        vertical-align: top;\n",
       "    }\n",
       "\n",
       "    .dataframe thead th {\n",
       "        text-align: right;\n",
       "    }\n",
       "</style>\n",
       "<table border=\"1\" class=\"dataframe\">\n",
       "  <thead>\n",
       "    <tr style=\"text-align: right;\">\n",
       "      <th></th>\n",
       "      <th>algoritmo</th>\n",
       "      <th>dados</th>\n",
       "      <th>r_2</th>\n",
       "      <th>mse</th>\n",
       "      <th>rmse</th>\n",
       "      <th>mae</th>\n",
       "      <th>mape</th>\n",
       "    </tr>\n",
       "  </thead>\n",
       "  <tbody>\n",
       "    <tr>\n",
       "      <th>0</th>\n",
       "      <td>polinomial regression lasso</td>\n",
       "      <td>teste</td>\n",
       "      <td>-0.001276</td>\n",
       "      <td>487.522423</td>\n",
       "      <td>22.07991</td>\n",
       "      <td>17.440768</td>\n",
       "      <td>8.755603</td>\n",
       "    </tr>\n",
       "  </tbody>\n",
       "</table>\n",
       "</div>"
      ],
      "text/plain": [
       "                     algoritmo  dados       r_2         mse      rmse  \\\n",
       "0  polinomial regression lasso  teste -0.001276  487.522423  22.07991   \n",
       "\n",
       "         mae      mape  \n",
       "0  17.440768  8.755603  "
      ]
     },
     "execution_count": 50,
     "metadata": {},
     "output_type": "execute_result"
    }
   ],
   "source": [
    "max_iter = 1001\n",
    "alpha = 1\n",
    "\n",
    "polinomio = pp.PolynomialFeatures(degree = 3)\n",
    "x_polinomio_teste = polinomio.fit_transform(x_teste) #caracteristicas e rotulos sendo treinados\n",
    "\n",
    "modelo_polinomial_lasso = lm.Lasso(max_iter = max_iter, alpha = alpha)\n",
    "modelo_polinomial_lasso.fit(np.concatenate((x_polinomio_treino, x_polinomio_validacao)),\n",
    "                            np.concatenate((y_treino, y_validacao)))\n",
    "\n",
    "y_pred = modelo_polinomial_lasso.predict(x_polinomio_teste)\n",
    "\n",
    "r_2 = mt.r2_score(y_teste, y_pred)\n",
    "mse = mt.mean_squared_error(y_teste, y_pred)\n",
    "rmse = np.sqrt(mse)\n",
    "mae = mt.mean_absolute_error(y_teste, y_pred)\n",
    "mape = mt.mean_absolute_percentage_error(y_teste, y_pred)\n",
    "        \n",
    "resultado_polinomial_lasso_teste = pd.DataFrame(np.array([r_2, mse, rmse, mae, mape])).T\n",
    "resultado_polinomial_lasso_teste = resultado_polinomial_lasso_teste.rename(columns = {0: 'r_2', \n",
    "                                                                                      1: 'mse',\n",
    "                                                                                      2: 'rmse',\n",
    "                                                                                      3: 'mae',\n",
    "                                                                                      4: 'mape'})\n",
    "resultado_polinomial_lasso_teste.insert(0, 'dados', 'teste')\n",
    "resultado_polinomial_lasso_teste.insert(0, 'algoritmo', 'polinomial regression lasso')\n",
    "resultado_polinomial_lasso_teste"
   ]
  },
  {
   "cell_type": "code",
   "execution_count": 51,
   "id": "577b5ce2-f392-4bd9-ba58-045dd9522768",
   "metadata": {},
   "outputs": [
    {
     "data": {
      "text/html": [
       "<div>\n",
       "<style scoped>\n",
       "    .dataframe tbody tr th:only-of-type {\n",
       "        vertical-align: middle;\n",
       "    }\n",
       "\n",
       "    .dataframe tbody tr th {\n",
       "        vertical-align: top;\n",
       "    }\n",
       "\n",
       "    .dataframe thead th {\n",
       "        text-align: right;\n",
       "    }\n",
       "</style>\n",
       "<table border=\"1\" class=\"dataframe\">\n",
       "  <thead>\n",
       "    <tr style=\"text-align: right;\">\n",
       "      <th></th>\n",
       "      <th>algoritmo</th>\n",
       "      <th>dados</th>\n",
       "      <th>r_2</th>\n",
       "      <th>mse</th>\n",
       "      <th>rmse</th>\n",
       "      <th>mae</th>\n",
       "      <th>mape</th>\n",
       "    </tr>\n",
       "  </thead>\n",
       "  <tbody>\n",
       "    <tr>\n",
       "      <th>0</th>\n",
       "      <td>polinomial regression lasso</td>\n",
       "      <td>treino</td>\n",
       "      <td>0.014084</td>\n",
       "      <td>471.280382</td>\n",
       "      <td>21.708993</td>\n",
       "      <td>17.229625</td>\n",
       "      <td>8.648566</td>\n",
       "    </tr>\n",
       "    <tr>\n",
       "      <th>0</th>\n",
       "      <td>polinomial regression lasso</td>\n",
       "      <td>validacao</td>\n",
       "      <td>0.014148</td>\n",
       "      <td>470.755769</td>\n",
       "      <td>21.696907</td>\n",
       "      <td>17.180595</td>\n",
       "      <td>8.655828</td>\n",
       "    </tr>\n",
       "    <tr>\n",
       "      <th>0</th>\n",
       "      <td>polinomial regression lasso</td>\n",
       "      <td>teste</td>\n",
       "      <td>-0.001276</td>\n",
       "      <td>487.522423</td>\n",
       "      <td>22.079910</td>\n",
       "      <td>17.440768</td>\n",
       "      <td>8.755603</td>\n",
       "    </tr>\n",
       "  </tbody>\n",
       "</table>\n",
       "</div>"
      ],
      "text/plain": [
       "                     algoritmo      dados       r_2         mse       rmse  \\\n",
       "0  polinomial regression lasso     treino  0.014084  471.280382  21.708993   \n",
       "0  polinomial regression lasso  validacao  0.014148  470.755769  21.696907   \n",
       "0  polinomial regression lasso      teste -0.001276  487.522423  22.079910   \n",
       "\n",
       "         mae      mape  \n",
       "0  17.229625  8.648566  \n",
       "0  17.180595  8.655828  \n",
       "0  17.440768  8.755603  "
      ]
     },
     "execution_count": 51,
     "metadata": {},
     "output_type": "execute_result"
    }
   ],
   "source": [
    "resultado_polinomial_lasso = pd.concat([resultado_polinomial_lasso_treino, resultado_polinomial_lasso_validacao, resultado_polinomial_lasso_teste])\n",
    "resultado_polinomial_lasso"
   ]
  },
  {
   "cell_type": "markdown",
   "id": "ab02b0ba-c1d3-46ff-adea-a49fe1da8870",
   "metadata": {
    "jp-MarkdownHeadingCollapsed": true,
    "tags": []
   },
   "source": [
    "## Algoritmo Polinomial Regression (Ridge)"
   ]
  },
  {
   "cell_type": "markdown",
   "id": "087e29c9-1440-4c81-bcb0-b20796f7a3b0",
   "metadata": {
    "tags": []
   },
   "source": [
    "#### Dados de treino"
   ]
  },
  {
   "cell_type": "code",
   "execution_count": 52,
   "id": "11f979fe-08bf-4608-834e-b12cb5a2354c",
   "metadata": {},
   "outputs": [
    {
     "name": "stdout",
     "output_type": "stream",
     "text": [
      "1 -> 22.0799\n",
      "2 -> 22.0799\n",
      "3 -> 22.0799\n"
     ]
    }
   ],
   "source": [
    "for a in np.arange(1, 4, 1):\n",
    "    polinomio = pp.PolynomialFeatures(degree = a)\n",
    "    x_polinomio_treino = polinomio.fit_transform(x_treino) #caracteristicas e rotulos sendo treinados\n",
    "\n",
    "    modelo_polinomial = lm.LinearRegression()\n",
    "    modelo_polinomial.fit(x_polinomio_treino, y_treino)\n",
    "    \n",
    "    y_pred = modelo_polinomial.predict(x_polinomio_treino)\n",
    "    rmse = np.sqrt(mse)   \n",
    "\n",
    "    print('{grau} -> {rmse:.4f}'.format(grau = a, rmse = rmse))"
   ]
  },
  {
   "cell_type": "code",
   "execution_count": 53,
   "id": "7f9389f7-c14d-49e1-9d91-4589022863d0",
   "metadata": {},
   "outputs": [
    {
     "name": "stdout",
     "output_type": "stream",
     "text": [
      "1 / 1 -> 20.3322\n",
      "1 / 2 -> 20.3850\n",
      "1001 / 1 -> 20.3322\n",
      "1001 / 2 -> 20.3850\n"
     ]
    }
   ],
   "source": [
    "#Definição de parâmetros do treinamento\n",
    "max_iter = np.arange(1, 2000, 1000)\n",
    "alpha = np.arange(1, 3, 1)\n",
    "\n",
    "for i in max_iter:\n",
    "    for e in alpha:        \n",
    "        modelo_polinomial_ridge = lm.Ridge(max_iter = i, alpha = e)\n",
    "        modelo_polinomial_ridge.fit(x_polinomio_treino, y_treino)\n",
    "        \n",
    "        #Avaliando a performance do modelo\n",
    "        y_pred = modelo_polinomial_ridge.predict(x_polinomio_treino)\n",
    "        mse = mt.mean_squared_error(y_treino, y_pred)\n",
    "        rmse = np.sqrt(mse)    \n",
    "\n",
    "        print('{max_iter} / {alpha} -> {rmse:.4f}'.format(max_iter = i, alpha = e, rmse = rmse))"
   ]
  },
  {
   "cell_type": "code",
   "execution_count": 54,
   "id": "d73b241b-01f0-4311-919a-5e12ff20e13f",
   "metadata": {
    "tags": []
   },
   "outputs": [
    {
     "data": {
      "text/html": [
       "<div>\n",
       "<style scoped>\n",
       "    .dataframe tbody tr th:only-of-type {\n",
       "        vertical-align: middle;\n",
       "    }\n",
       "\n",
       "    .dataframe tbody tr th {\n",
       "        vertical-align: top;\n",
       "    }\n",
       "\n",
       "    .dataframe thead th {\n",
       "        text-align: right;\n",
       "    }\n",
       "</style>\n",
       "<table border=\"1\" class=\"dataframe\">\n",
       "  <thead>\n",
       "    <tr style=\"text-align: right;\">\n",
       "      <th></th>\n",
       "      <th>algoritmo</th>\n",
       "      <th>dados</th>\n",
       "      <th>r_2</th>\n",
       "      <th>mse</th>\n",
       "      <th>rmse</th>\n",
       "      <th>mae</th>\n",
       "      <th>mape</th>\n",
       "    </tr>\n",
       "  </thead>\n",
       "  <tbody>\n",
       "    <tr>\n",
       "      <th>0</th>\n",
       "      <td>polinomial regression ridge</td>\n",
       "      <td>treino</td>\n",
       "      <td>0.135169</td>\n",
       "      <td>413.400281</td>\n",
       "      <td>20.332247</td>\n",
       "      <td>16.065341</td>\n",
       "      <td>8.036622</td>\n",
       "    </tr>\n",
       "  </tbody>\n",
       "</table>\n",
       "</div>"
      ],
      "text/plain": [
       "                     algoritmo   dados       r_2         mse       rmse  \\\n",
       "0  polinomial regression ridge  treino  0.135169  413.400281  20.332247   \n",
       "\n",
       "         mae      mape  \n",
       "0  16.065341  8.036622  "
      ]
     },
     "execution_count": 54,
     "metadata": {},
     "output_type": "execute_result"
    }
   ],
   "source": [
    "max_iter = 1\n",
    "alpha = 1\n",
    "\n",
    "modelo_polinomial_ridge = lm.Ridge(max_iter = max_iter, alpha = alpha)\n",
    "modelo_polinomial_ridge.fit(x_polinomio_treino, y_treino)\n",
    "\n",
    "y_pred = modelo_polinomial_ridge.predict(x_polinomio_treino)\n",
    "\n",
    "r_2 = mt.r2_score(y_treino, y_pred)\n",
    "mse = mt.mean_squared_error(y_treino, y_pred)\n",
    "rmse = np.sqrt(mse)\n",
    "mae = mt.mean_absolute_error(y_treino, y_pred)\n",
    "mape = mt.mean_absolute_percentage_error(y_treino, y_pred)\n",
    "        \n",
    "resultado_polinomial_ridge_treino = pd.DataFrame(np.array([r_2, mse, rmse, mae, mape])).T\n",
    "resultado_polinomial_ridge_treino = resultado_polinomial_ridge_treino.rename(columns = {0: 'r_2', \n",
    "                                                                                        1: 'mse',\n",
    "                                                                                        2: 'rmse',\n",
    "                                                                                        3: 'mae',\n",
    "                                                                                        4: 'mape'})\n",
    "resultado_polinomial_ridge_treino.insert(0, 'dados', 'treino')\n",
    "resultado_polinomial_ridge_treino.insert(0, 'algoritmo', 'polinomial regression ridge')\n",
    "resultado_polinomial_ridge_treino"
   ]
  },
  {
   "cell_type": "markdown",
   "id": "199612ba-8619-4e32-81ed-209a271d6a17",
   "metadata": {
    "tags": []
   },
   "source": [
    "#### Dados de validação"
   ]
  },
  {
   "cell_type": "code",
   "execution_count": 55,
   "id": "6ae13b91-e605-403b-9434-b6d24b926323",
   "metadata": {},
   "outputs": [
    {
     "name": "stdout",
     "output_type": "stream",
     "text": [
      "1 -> 20.3322\n",
      "2 -> 20.3322\n",
      "3 -> 20.3322\n"
     ]
    }
   ],
   "source": [
    "for a in np.arange(1, 4, 1):\n",
    "    polinomio = pp.PolynomialFeatures(degree = a)\n",
    "    x_polinomio_treino = polinomio.fit_transform(x_treino) #caracteristicas e rotulos sendo treinados\n",
    "    x_polinomio_validacao = polinomio.fit_transform(x_validacao) #caracteristicas e rotulos sendo treinados\n",
    "\n",
    "    modelo_polinomial = lm.LinearRegression()\n",
    "    modelo_polinomial.fit(x_polinomio_treino, y_treino)\n",
    "    \n",
    "    y_pred = modelo_polinomial.predict(x_polinomio_validacao)\n",
    "    rmse = np.sqrt(mse)   \n",
    "\n",
    "    print('{grau} -> {rmse:.4f}'.format(grau = a, rmse = rmse))"
   ]
  },
  {
   "cell_type": "code",
   "execution_count": 56,
   "id": "2bea9721-08d8-4ddd-9ec8-866fb8cc8a1e",
   "metadata": {
    "tags": []
   },
   "outputs": [
    {
     "name": "stdout",
     "output_type": "stream",
     "text": [
      "1 / 1 -> 22.6667\n",
      "1 / 2 -> 22.6107\n",
      "1001 / 1 -> 22.6667\n",
      "1001 / 2 -> 22.6107\n"
     ]
    }
   ],
   "source": [
    "#Definição de parâmetros do treinamento\n",
    "max_iter = np.arange(1, 2000, 1000)\n",
    "alpha = np.arange(1, 3, 1)\n",
    "\n",
    "for i in max_iter:\n",
    "    for e in alpha:        \n",
    "        modelo_polinomial_ridge = lm.Ridge(max_iter = i, alpha = e)\n",
    "        modelo_polinomial_ridge.fit(x_polinomio_treino, y_treino)\n",
    "        \n",
    "        #Avaliando a performance do modelo\n",
    "        y_pred = modelo_polinomial_ridge.predict(x_polinomio_validacao)\n",
    "        mse = mt.mean_squared_error(y_validacao, y_pred)\n",
    "        rmse = np.sqrt(mse)    \n",
    "\n",
    "        print('{max_iter} / {alpha} -> {rmse:.4f}'.format(max_iter = i, alpha = e, rmse = rmse))"
   ]
  },
  {
   "cell_type": "code",
   "execution_count": 57,
   "id": "b31b4701-d30b-48a3-817b-99f410ee77d7",
   "metadata": {},
   "outputs": [
    {
     "data": {
      "text/html": [
       "<div>\n",
       "<style scoped>\n",
       "    .dataframe tbody tr th:only-of-type {\n",
       "        vertical-align: middle;\n",
       "    }\n",
       "\n",
       "    .dataframe tbody tr th {\n",
       "        vertical-align: top;\n",
       "    }\n",
       "\n",
       "    .dataframe thead th {\n",
       "        text-align: right;\n",
       "    }\n",
       "</style>\n",
       "<table border=\"1\" class=\"dataframe\">\n",
       "  <thead>\n",
       "    <tr style=\"text-align: right;\">\n",
       "      <th></th>\n",
       "      <th>algoritmo</th>\n",
       "      <th>dados</th>\n",
       "      <th>r_2</th>\n",
       "      <th>mse</th>\n",
       "      <th>rmse</th>\n",
       "      <th>mae</th>\n",
       "      <th>mape</th>\n",
       "    </tr>\n",
       "  </thead>\n",
       "  <tbody>\n",
       "    <tr>\n",
       "      <th>0</th>\n",
       "      <td>polinomial regression ridge</td>\n",
       "      <td>validacao</td>\n",
       "      <td>-0.07064</td>\n",
       "      <td>511.242963</td>\n",
       "      <td>22.610682</td>\n",
       "      <td>16.835024</td>\n",
       "      <td>8.535142</td>\n",
       "    </tr>\n",
       "  </tbody>\n",
       "</table>\n",
       "</div>"
      ],
      "text/plain": [
       "                     algoritmo      dados      r_2         mse       rmse  \\\n",
       "0  polinomial regression ridge  validacao -0.07064  511.242963  22.610682   \n",
       "\n",
       "         mae      mape  \n",
       "0  16.835024  8.535142  "
      ]
     },
     "execution_count": 57,
     "metadata": {},
     "output_type": "execute_result"
    }
   ],
   "source": [
    "max_iter = 1\n",
    "alpha = 2\n",
    "\n",
    "modelo_polinomial_ridge = lm.Ridge(max_iter = max_iter, alpha = alpha)\n",
    "modelo_polinomial_ridge.fit(x_polinomio_treino, y_treino)\n",
    "\n",
    "y_pred = modelo_polinomial_ridge.predict(x_polinomio_validacao)\n",
    "\n",
    "r_2 = mt.r2_score(y_validacao, y_pred)\n",
    "mse = mt.mean_squared_error(y_validacao, y_pred)\n",
    "rmse = np.sqrt(mse)\n",
    "mae = mt.mean_absolute_error(y_validacao, y_pred)\n",
    "mape = mt.mean_absolute_percentage_error(y_validacao, y_pred)\n",
    "        \n",
    "resultado_polinomial_ridge_validacao = pd.DataFrame(np.array([r_2, mse, rmse, mae, mape])).T\n",
    "resultado_polinomial_ridge_validacao = resultado_polinomial_ridge_validacao.rename(columns = {0: 'r_2', \n",
    "                                                                                              1: 'mse',\n",
    "                                                                                              2: 'rmse',\n",
    "                                                                                              3: 'mae',\n",
    "                                                                                              4: 'mape'})\n",
    "resultado_polinomial_ridge_validacao.insert(0, 'dados', 'validacao')\n",
    "resultado_polinomial_ridge_validacao.insert(0, 'algoritmo', 'polinomial regression ridge')\n",
    "resultado_polinomial_ridge_validacao"
   ]
  },
  {
   "cell_type": "markdown",
   "id": "1ec7f094-14fc-49f5-be7b-8e0774dc48ce",
   "metadata": {
    "tags": []
   },
   "source": [
    "#### Dados de teste"
   ]
  },
  {
   "cell_type": "code",
   "execution_count": 58,
   "id": "f0417999-a595-4f12-8715-3d276f45d495",
   "metadata": {},
   "outputs": [
    {
     "data": {
      "text/html": [
       "<div>\n",
       "<style scoped>\n",
       "    .dataframe tbody tr th:only-of-type {\n",
       "        vertical-align: middle;\n",
       "    }\n",
       "\n",
       "    .dataframe tbody tr th {\n",
       "        vertical-align: top;\n",
       "    }\n",
       "\n",
       "    .dataframe thead th {\n",
       "        text-align: right;\n",
       "    }\n",
       "</style>\n",
       "<table border=\"1\" class=\"dataframe\">\n",
       "  <thead>\n",
       "    <tr style=\"text-align: right;\">\n",
       "      <th></th>\n",
       "      <th>algoritmo</th>\n",
       "      <th>dados</th>\n",
       "      <th>r_2</th>\n",
       "      <th>mse</th>\n",
       "      <th>rmse</th>\n",
       "      <th>mae</th>\n",
       "      <th>mape</th>\n",
       "    </tr>\n",
       "  </thead>\n",
       "  <tbody>\n",
       "    <tr>\n",
       "      <th>0</th>\n",
       "      <td>polinomial regression ridge</td>\n",
       "      <td>teste</td>\n",
       "      <td>0.026821</td>\n",
       "      <td>473.841665</td>\n",
       "      <td>21.767904</td>\n",
       "      <td>16.73435</td>\n",
       "      <td>8.175951</td>\n",
       "    </tr>\n",
       "  </tbody>\n",
       "</table>\n",
       "</div>"
      ],
      "text/plain": [
       "                     algoritmo  dados       r_2         mse       rmse  \\\n",
       "0  polinomial regression ridge  teste  0.026821  473.841665  21.767904   \n",
       "\n",
       "        mae      mape  \n",
       "0  16.73435  8.175951  "
      ]
     },
     "execution_count": 58,
     "metadata": {},
     "output_type": "execute_result"
    }
   ],
   "source": [
    "max_iter = 1\n",
    "alpha = 2\n",
    "\n",
    "polinomio = pp.PolynomialFeatures(degree = 3)\n",
    "x_polinomio_teste = polinomio.fit_transform(x_teste) #caracteristicas e rotulos sendo treinados\n",
    "\n",
    "modelo_polinomial_ridge = lm.Ridge(max_iter = max_iter, alpha = alpha)\n",
    "modelo_polinomial_ridge.fit(np.concatenate((x_polinomio_treino, x_polinomio_validacao)),\n",
    "                            np.concatenate((y_treino, y_validacao)))\n",
    "\n",
    "y_pred = modelo_polinomial_ridge.predict(x_polinomio_teste)\n",
    "\n",
    "r_2 = mt.r2_score(y_teste, y_pred)\n",
    "mse = mt.mean_squared_error(y_teste, y_pred)\n",
    "rmse = np.sqrt(mse)\n",
    "mae = mt.mean_absolute_error(y_teste, y_pred)\n",
    "mape = mt.mean_absolute_percentage_error(y_teste, y_pred)\n",
    "        \n",
    "resultado_polinomial_ridge_teste = pd.DataFrame(np.array([r_2, mse, rmse, mae, mape])).T\n",
    "resultado_polinomial_ridge_teste = resultado_polinomial_ridge_teste.rename(columns = {0: 'r_2', \n",
    "                                                                                      1: 'mse',\n",
    "                                                                                      2: 'rmse',\n",
    "                                                                                      3: 'mae',\n",
    "                                                                                      4: 'mape'})\n",
    "resultado_polinomial_ridge_teste.insert(0, 'dados', 'teste')\n",
    "resultado_polinomial_ridge_teste.insert(0, 'algoritmo', 'polinomial regression ridge')\n",
    "resultado_polinomial_ridge_teste"
   ]
  },
  {
   "cell_type": "code",
   "execution_count": 59,
   "id": "cb2ed073-4a02-4907-b3ff-a3b5e0173223",
   "metadata": {},
   "outputs": [
    {
     "data": {
      "text/html": [
       "<div>\n",
       "<style scoped>\n",
       "    .dataframe tbody tr th:only-of-type {\n",
       "        vertical-align: middle;\n",
       "    }\n",
       "\n",
       "    .dataframe tbody tr th {\n",
       "        vertical-align: top;\n",
       "    }\n",
       "\n",
       "    .dataframe thead th {\n",
       "        text-align: right;\n",
       "    }\n",
       "</style>\n",
       "<table border=\"1\" class=\"dataframe\">\n",
       "  <thead>\n",
       "    <tr style=\"text-align: right;\">\n",
       "      <th></th>\n",
       "      <th>algoritmo</th>\n",
       "      <th>dados</th>\n",
       "      <th>r_2</th>\n",
       "      <th>mse</th>\n",
       "      <th>rmse</th>\n",
       "      <th>mae</th>\n",
       "      <th>mape</th>\n",
       "    </tr>\n",
       "  </thead>\n",
       "  <tbody>\n",
       "    <tr>\n",
       "      <th>0</th>\n",
       "      <td>polinomial regression ridge</td>\n",
       "      <td>treino</td>\n",
       "      <td>0.135169</td>\n",
       "      <td>413.400281</td>\n",
       "      <td>20.332247</td>\n",
       "      <td>16.065341</td>\n",
       "      <td>8.036622</td>\n",
       "    </tr>\n",
       "    <tr>\n",
       "      <th>0</th>\n",
       "      <td>polinomial regression ridge</td>\n",
       "      <td>validacao</td>\n",
       "      <td>-0.070640</td>\n",
       "      <td>511.242963</td>\n",
       "      <td>22.610682</td>\n",
       "      <td>16.835024</td>\n",
       "      <td>8.535142</td>\n",
       "    </tr>\n",
       "    <tr>\n",
       "      <th>0</th>\n",
       "      <td>polinomial regression ridge</td>\n",
       "      <td>teste</td>\n",
       "      <td>0.026821</td>\n",
       "      <td>473.841665</td>\n",
       "      <td>21.767904</td>\n",
       "      <td>16.734350</td>\n",
       "      <td>8.175951</td>\n",
       "    </tr>\n",
       "  </tbody>\n",
       "</table>\n",
       "</div>"
      ],
      "text/plain": [
       "                     algoritmo      dados       r_2         mse       rmse  \\\n",
       "0  polinomial regression ridge     treino  0.135169  413.400281  20.332247   \n",
       "0  polinomial regression ridge  validacao -0.070640  511.242963  22.610682   \n",
       "0  polinomial regression ridge      teste  0.026821  473.841665  21.767904   \n",
       "\n",
       "         mae      mape  \n",
       "0  16.065341  8.036622  \n",
       "0  16.835024  8.535142  \n",
       "0  16.734350  8.175951  "
      ]
     },
     "execution_count": 59,
     "metadata": {},
     "output_type": "execute_result"
    }
   ],
   "source": [
    "resultado_polinomial_ridge = pd.concat([resultado_polinomial_ridge_treino, resultado_polinomial_ridge_validacao, resultado_polinomial_ridge_teste])\n",
    "resultado_polinomial_ridge"
   ]
  },
  {
   "cell_type": "markdown",
   "id": "74d2e63f-3363-4775-a0b1-6708f5d0298b",
   "metadata": {
    "jp-MarkdownHeadingCollapsed": true,
    "tags": []
   },
   "source": [
    "## Algoritmo Polinomial Regression (Elastic Net)"
   ]
  },
  {
   "cell_type": "markdown",
   "id": "2a297353-f3d0-421c-ac76-f77e6e86430f",
   "metadata": {
    "tags": []
   },
   "source": [
    "#### Dados de treino"
   ]
  },
  {
   "cell_type": "code",
   "execution_count": 60,
   "id": "e0d9cf97-a5c4-4304-a387-e1b08d5b21df",
   "metadata": {
    "tags": []
   },
   "outputs": [
    {
     "name": "stdout",
     "output_type": "stream",
     "text": [
      "1 -> 21.7679\n",
      "2 -> 21.7679\n",
      "3 -> 21.7679\n"
     ]
    }
   ],
   "source": [
    "for a in np.arange(1, 4, 1):\n",
    "    polinomio = pp.PolynomialFeatures(degree = a)\n",
    "    x_polinomio_treino = polinomio.fit_transform(x_treino) #caracteristicas e rotulos sendo treinados\n",
    "\n",
    "    modelo_polinomial = lm.LinearRegression()\n",
    "    modelo_polinomial.fit(x_polinomio_treino, y_treino)\n",
    "    \n",
    "    y_pred = modelo_polinomial.predict(x_polinomio_treino)\n",
    "    rmse = np.sqrt(mse)   \n",
    "\n",
    "    print('{grau} -> {rmse:.4f}'.format(grau = a, rmse = rmse))"
   ]
  },
  {
   "cell_type": "code",
   "execution_count": 61,
   "id": "3cc8fdcc-19f4-492c-b579-8865ecd40151",
   "metadata": {},
   "outputs": [
    {
     "name": "stderr",
     "output_type": "stream",
     "text": [
      "C:\\Users\\Leonardo\\AppData\\Local\\Programs\\Python\\Python311\\Lib\\site-packages\\sklearn\\linear_model\\_coordinate_descent.py:628: ConvergenceWarning: Objective did not converge. You might want to increase the number of iterations, check the scale of the features or consider increasing regularisation. Duality gap: 2.306e+06, tolerance: 5.042e+02\n",
      "  model = cd_fast.enet_coordinate_descent(\n"
     ]
    },
    {
     "name": "stdout",
     "output_type": "stream",
     "text": [
      "1 / 1 -> 21.6665\n"
     ]
    },
    {
     "name": "stderr",
     "output_type": "stream",
     "text": [
      "C:\\Users\\Leonardo\\AppData\\Local\\Programs\\Python\\Python311\\Lib\\site-packages\\sklearn\\linear_model\\_coordinate_descent.py:628: ConvergenceWarning: Objective did not converge. You might want to increase the number of iterations, check the scale of the features or consider increasing regularisation. Duality gap: 2.167e+06, tolerance: 5.042e+02\n",
      "  model = cd_fast.enet_coordinate_descent(\n"
     ]
    },
    {
     "name": "stdout",
     "output_type": "stream",
     "text": [
      "1 / 2 -> 21.7565\n",
      "1001 / 1 -> 21.6639\n",
      "1001 / 2 -> 21.7502\n"
     ]
    }
   ],
   "source": [
    "#Definição de parâmetros do treinamento\n",
    "max_iter = np.arange(1, 2000, 1000)\n",
    "alpha = np.arange(1, 3, 1)\n",
    "\n",
    "for i in max_iter:\n",
    "    for e in alpha:        \n",
    "        modelo_polinomial_elastic = lm.ElasticNet(max_iter = i, alpha = e)\n",
    "        modelo_polinomial_elastic.fit(x_polinomio_treino, y_treino)\n",
    "        \n",
    "        #Avaliando a performance do modelo\n",
    "        y_pred = modelo_polinomial_elastic.predict(x_polinomio_treino)\n",
    "        mse = mt.mean_squared_error(y_treino, y_pred)\n",
    "        rmse = np.sqrt(mse)    \n",
    "\n",
    "        print('{max_iter} / {alpha} -> {rmse:.4f}'.format(max_iter = i, alpha = e, rmse = rmse))"
   ]
  },
  {
   "cell_type": "code",
   "execution_count": 62,
   "id": "92bba97a-5678-4500-b716-9caf45084f93",
   "metadata": {},
   "outputs": [
    {
     "name": "stderr",
     "output_type": "stream",
     "text": [
      "C:\\Users\\Leonardo\\AppData\\Local\\Programs\\Python\\Python311\\Lib\\site-packages\\sklearn\\linear_model\\_coordinate_descent.py:628: ConvergenceWarning: Objective did not converge. You might want to increase the number of iterations, check the scale of the features or consider increasing regularisation. Duality gap: 2.306e+06, tolerance: 5.042e+02\n",
      "  model = cd_fast.enet_coordinate_descent(\n"
     ]
    },
    {
     "data": {
      "text/html": [
       "<div>\n",
       "<style scoped>\n",
       "    .dataframe tbody tr th:only-of-type {\n",
       "        vertical-align: middle;\n",
       "    }\n",
       "\n",
       "    .dataframe tbody tr th {\n",
       "        vertical-align: top;\n",
       "    }\n",
       "\n",
       "    .dataframe thead th {\n",
       "        text-align: right;\n",
       "    }\n",
       "</style>\n",
       "<table border=\"1\" class=\"dataframe\">\n",
       "  <thead>\n",
       "    <tr style=\"text-align: right;\">\n",
       "      <th></th>\n",
       "      <th>algoritmo</th>\n",
       "      <th>dados</th>\n",
       "      <th>r_2</th>\n",
       "      <th>mse</th>\n",
       "      <th>rmse</th>\n",
       "      <th>mae</th>\n",
       "      <th>mape</th>\n",
       "    </tr>\n",
       "  </thead>\n",
       "  <tbody>\n",
       "    <tr>\n",
       "      <th>0</th>\n",
       "      <td>polinomial regression elastic</td>\n",
       "      <td>treino</td>\n",
       "      <td>0.017936</td>\n",
       "      <td>469.439018</td>\n",
       "      <td>21.666541</td>\n",
       "      <td>17.189311</td>\n",
       "      <td>8.594211</td>\n",
       "    </tr>\n",
       "  </tbody>\n",
       "</table>\n",
       "</div>"
      ],
      "text/plain": [
       "                       algoritmo   dados       r_2         mse       rmse  \\\n",
       "0  polinomial regression elastic  treino  0.017936  469.439018  21.666541   \n",
       "\n",
       "         mae      mape  \n",
       "0  17.189311  8.594211  "
      ]
     },
     "execution_count": 62,
     "metadata": {},
     "output_type": "execute_result"
    }
   ],
   "source": [
    "max_iter = 1\n",
    "alpha = 1\n",
    "\n",
    "modelo_polinomial_elastic = lm.ElasticNet(max_iter = max_iter, alpha = alpha)\n",
    "modelo_polinomial_elastic.fit(x_polinomio_treino, y_treino)\n",
    "\n",
    "y_pred = modelo_polinomial_elastic.predict(x_polinomio_treino)\n",
    "\n",
    "r_2 = mt.r2_score(y_treino, y_pred)\n",
    "mse = mt.mean_squared_error(y_treino, y_pred)\n",
    "rmse = np.sqrt(mse)\n",
    "mae = mt.mean_absolute_error(y_treino, y_pred)\n",
    "mape = mt.mean_absolute_percentage_error(y_treino, y_pred)\n",
    "        \n",
    "resultado_polinomial_elastic_treino = pd.DataFrame(np.array([r_2, mse, rmse, mae, mape])).T\n",
    "resultado_polinomial_elastic_treino = resultado_polinomial_elastic_treino.rename(columns = {0: 'r_2', \n",
    "                                                                                            1: 'mse',\n",
    "                                                                                            2: 'rmse',\n",
    "                                                                                            3: 'mae',\n",
    "                                                                                            4: 'mape'})\n",
    "resultado_polinomial_elastic_treino.insert(0, 'dados', 'treino')\n",
    "resultado_polinomial_elastic_treino.insert(0, 'algoritmo', 'polinomial regression elastic')\n",
    "resultado_polinomial_elastic_treino"
   ]
  },
  {
   "cell_type": "markdown",
   "id": "5d1a2dea-d3ff-4a0d-a063-f7b7a7a638e3",
   "metadata": {
    "tags": []
   },
   "source": [
    "#### Dados de validação"
   ]
  },
  {
   "cell_type": "code",
   "execution_count": 63,
   "id": "dd3bb450-a890-438b-ace7-78946d12b55e",
   "metadata": {
    "tags": []
   },
   "outputs": [
    {
     "name": "stdout",
     "output_type": "stream",
     "text": [
      "1 -> 21.6665\n",
      "2 -> 21.6665\n",
      "3 -> 21.6665\n"
     ]
    }
   ],
   "source": [
    "for a in np.arange(1, 4, 1):\n",
    "    polinomio = pp.PolynomialFeatures(degree = a)\n",
    "    x_polinomio_treino = polinomio.fit_transform(x_treino) #caracteristicas e rotulos sendo treinados\n",
    "    x_polinomio_validacao = polinomio.fit_transform(x_validacao) #caracteristicas e rotulos sendo treinados\n",
    "\n",
    "    modelo_polinomial = lm.LinearRegression()\n",
    "    modelo_polinomial.fit(x_polinomio_treino, y_treino)\n",
    "    \n",
    "    y_pred = modelo_polinomial.predict(x_polinomio_validacao)\n",
    "    rmse = np.sqrt(mse)   \n",
    "\n",
    "    print('{grau} -> {rmse:.4f}'.format(grau = a, rmse = rmse))"
   ]
  },
  {
   "cell_type": "code",
   "execution_count": 64,
   "id": "af81f4ff-c95c-4c88-95fe-9a0f9a49aaf1",
   "metadata": {},
   "outputs": [
    {
     "name": "stderr",
     "output_type": "stream",
     "text": [
      "C:\\Users\\Leonardo\\AppData\\Local\\Programs\\Python\\Python311\\Lib\\site-packages\\sklearn\\linear_model\\_coordinate_descent.py:628: ConvergenceWarning: Objective did not converge. You might want to increase the number of iterations, check the scale of the features or consider increasing regularisation. Duality gap: 2.306e+06, tolerance: 5.042e+02\n",
      "  model = cd_fast.enet_coordinate_descent(\n"
     ]
    },
    {
     "name": "stdout",
     "output_type": "stream",
     "text": [
      "1 / 1 -> 21.6847\n"
     ]
    },
    {
     "name": "stderr",
     "output_type": "stream",
     "text": [
      "C:\\Users\\Leonardo\\AppData\\Local\\Programs\\Python\\Python311\\Lib\\site-packages\\sklearn\\linear_model\\_coordinate_descent.py:628: ConvergenceWarning: Objective did not converge. You might want to increase the number of iterations, check the scale of the features or consider increasing regularisation. Duality gap: 2.167e+06, tolerance: 5.042e+02\n",
      "  model = cd_fast.enet_coordinate_descent(\n"
     ]
    },
    {
     "name": "stdout",
     "output_type": "stream",
     "text": [
      "1 / 2 -> 21.7635\n",
      "1001 / 1 -> 21.6925\n",
      "1001 / 2 -> 21.7518\n"
     ]
    }
   ],
   "source": [
    "#Definição de parâmetros do treinamento\n",
    "max_iter = np.arange(1, 2000, 1000)\n",
    "alpha = np.arange(1, 3, 1)\n",
    "\n",
    "for i in max_iter:\n",
    "    for e in alpha:        \n",
    "        modelo_polinomial_elastic = lm.ElasticNet(max_iter = i, alpha = e)\n",
    "        modelo_polinomial_elastic.fit(x_polinomio_treino, y_treino)\n",
    "        \n",
    "        #Avaliando a performance do modelo\n",
    "        y_pred = modelo_polinomial_elastic.predict(x_polinomio_validacao)\n",
    "        mse = mt.mean_squared_error(y_validacao, y_pred)\n",
    "        rmse = np.sqrt(mse)    \n",
    "\n",
    "        print('{max_iter} / {alpha} -> {rmse:.4f}'.format(max_iter = i, alpha = e, rmse = rmse))"
   ]
  },
  {
   "cell_type": "code",
   "execution_count": 65,
   "id": "81a9404f-baa8-4e33-85ac-45118cf22735",
   "metadata": {},
   "outputs": [
    {
     "name": "stderr",
     "output_type": "stream",
     "text": [
      "C:\\Users\\Leonardo\\AppData\\Local\\Programs\\Python\\Python311\\Lib\\site-packages\\sklearn\\linear_model\\_coordinate_descent.py:628: ConvergenceWarning: Objective did not converge. You might want to increase the number of iterations, check the scale of the features or consider increasing regularisation. Duality gap: 2.306e+06, tolerance: 5.042e+02\n",
      "  model = cd_fast.enet_coordinate_descent(\n"
     ]
    },
    {
     "data": {
      "text/html": [
       "<div>\n",
       "<style scoped>\n",
       "    .dataframe tbody tr th:only-of-type {\n",
       "        vertical-align: middle;\n",
       "    }\n",
       "\n",
       "    .dataframe tbody tr th {\n",
       "        vertical-align: top;\n",
       "    }\n",
       "\n",
       "    .dataframe thead th {\n",
       "        text-align: right;\n",
       "    }\n",
       "</style>\n",
       "<table border=\"1\" class=\"dataframe\">\n",
       "  <thead>\n",
       "    <tr style=\"text-align: right;\">\n",
       "      <th></th>\n",
       "      <th>algoritmo</th>\n",
       "      <th>dados</th>\n",
       "      <th>r_2</th>\n",
       "      <th>mse</th>\n",
       "      <th>rmse</th>\n",
       "      <th>mae</th>\n",
       "      <th>mape</th>\n",
       "    </tr>\n",
       "  </thead>\n",
       "  <tbody>\n",
       "    <tr>\n",
       "      <th>0</th>\n",
       "      <td>polinomial regression elastic</td>\n",
       "      <td>validacao</td>\n",
       "      <td>0.015255</td>\n",
       "      <td>470.22735</td>\n",
       "      <td>21.684726</td>\n",
       "      <td>17.160746</td>\n",
       "      <td>8.658599</td>\n",
       "    </tr>\n",
       "  </tbody>\n",
       "</table>\n",
       "</div>"
      ],
      "text/plain": [
       "                       algoritmo      dados       r_2        mse       rmse  \\\n",
       "0  polinomial regression elastic  validacao  0.015255  470.22735  21.684726   \n",
       "\n",
       "         mae      mape  \n",
       "0  17.160746  8.658599  "
      ]
     },
     "execution_count": 65,
     "metadata": {},
     "output_type": "execute_result"
    }
   ],
   "source": [
    "max_iter = 1\n",
    "alpha = 1\n",
    "\n",
    "modelo_polinomial_elastic = lm.ElasticNet(max_iter = max_iter, alpha = alpha)\n",
    "modelo_polinomial_elastic.fit(x_polinomio_treino, y_treino)\n",
    "\n",
    "y_pred = modelo_polinomial_elastic.predict(x_polinomio_validacao)\n",
    "\n",
    "r_2 = mt.r2_score(y_validacao, y_pred)\n",
    "mse = mt.mean_squared_error(y_validacao, y_pred)\n",
    "rmse = np.sqrt(mse)\n",
    "mae = mt.mean_absolute_error(y_validacao, y_pred)\n",
    "mape = mt.mean_absolute_percentage_error(y_validacao, y_pred)\n",
    "        \n",
    "resultado_polinomial_elastic_validacao = pd.DataFrame(np.array([r_2, mse, rmse, mae, mape])).T\n",
    "resultado_polinomial_elastic_validacao = resultado_polinomial_elastic_validacao.rename(columns = {0: 'r_2', \n",
    "                                                                                                  1: 'mse',\n",
    "                                                                                                  2: 'rmse',\n",
    "                                                                                                  3: 'mae',\n",
    "                                                                                                  4: 'mape'})\n",
    "resultado_polinomial_elastic_validacao.insert(0, 'dados', 'validacao')\n",
    "resultado_polinomial_elastic_validacao.insert(0, 'algoritmo', 'polinomial regression elastic')\n",
    "resultado_polinomial_elastic_validacao"
   ]
  },
  {
   "cell_type": "markdown",
   "id": "92b7e484-8340-4634-9d4c-ae916fcaeb4f",
   "metadata": {
    "tags": []
   },
   "source": [
    "#### Dados de teste"
   ]
  },
  {
   "cell_type": "code",
   "execution_count": 66,
   "id": "c1fea2b2-a422-4839-857d-20c23e5c9eee",
   "metadata": {},
   "outputs": [
    {
     "name": "stderr",
     "output_type": "stream",
     "text": [
      "C:\\Users\\Leonardo\\AppData\\Local\\Programs\\Python\\Python311\\Lib\\site-packages\\sklearn\\linear_model\\_coordinate_descent.py:628: ConvergenceWarning: Objective did not converge. You might want to increase the number of iterations, check the scale of the features or consider increasing regularisation. Duality gap: 3.446e+06, tolerance: 7.200e+02\n",
      "  model = cd_fast.enet_coordinate_descent(\n"
     ]
    },
    {
     "data": {
      "text/html": [
       "<div>\n",
       "<style scoped>\n",
       "    .dataframe tbody tr th:only-of-type {\n",
       "        vertical-align: middle;\n",
       "    }\n",
       "\n",
       "    .dataframe tbody tr th {\n",
       "        vertical-align: top;\n",
       "    }\n",
       "\n",
       "    .dataframe thead th {\n",
       "        text-align: right;\n",
       "    }\n",
       "</style>\n",
       "<table border=\"1\" class=\"dataframe\">\n",
       "  <thead>\n",
       "    <tr style=\"text-align: right;\">\n",
       "      <th></th>\n",
       "      <th>algoritmo</th>\n",
       "      <th>dados</th>\n",
       "      <th>r_2</th>\n",
       "      <th>mse</th>\n",
       "      <th>rmse</th>\n",
       "      <th>mae</th>\n",
       "      <th>mape</th>\n",
       "    </tr>\n",
       "  </thead>\n",
       "  <tbody>\n",
       "    <tr>\n",
       "      <th>0</th>\n",
       "      <td>polinomial regression elastic</td>\n",
       "      <td>teste</td>\n",
       "      <td>-0.00071</td>\n",
       "      <td>487.246668</td>\n",
       "      <td>22.073665</td>\n",
       "      <td>17.412697</td>\n",
       "      <td>8.752562</td>\n",
       "    </tr>\n",
       "  </tbody>\n",
       "</table>\n",
       "</div>"
      ],
      "text/plain": [
       "                       algoritmo  dados      r_2         mse       rmse  \\\n",
       "0  polinomial regression elastic  teste -0.00071  487.246668  22.073665   \n",
       "\n",
       "         mae      mape  \n",
       "0  17.412697  8.752562  "
      ]
     },
     "execution_count": 66,
     "metadata": {},
     "output_type": "execute_result"
    }
   ],
   "source": [
    "max_iter = 1\n",
    "alpha = 1\n",
    "\n",
    "polinomio = pp.PolynomialFeatures(degree = 3)\n",
    "x_polinomio_teste = polinomio.fit_transform(x_teste) #caracteristicas e rotulos sendo treinados\n",
    "\n",
    "modelo_polinomial_elastic = lm.ElasticNet(max_iter = max_iter, alpha = alpha)\n",
    "modelo_polinomial_elastic.fit(np.concatenate((x_polinomio_treino, x_polinomio_validacao)),\n",
    "                              np.concatenate((y_treino, y_validacao)))\n",
    "\n",
    "y_pred = modelo_polinomial_elastic.predict(x_polinomio_teste)\n",
    "\n",
    "r_2 = mt.r2_score(y_teste, y_pred)\n",
    "mse = mt.mean_squared_error(y_teste, y_pred)\n",
    "rmse = np.sqrt(mse)\n",
    "mae = mt.mean_absolute_error(y_teste, y_pred)\n",
    "mape = mt.mean_absolute_percentage_error(y_teste, y_pred)\n",
    "        \n",
    "resultado_polinomial_elastic_teste = pd.DataFrame(np.array([r_2, mse, rmse, mae, mape])).T\n",
    "resultado_polinomial_elastic_teste = resultado_polinomial_elastic_teste.rename(columns = {0: 'r_2', \n",
    "                                                                                          1: 'mse',\n",
    "                                                                                          2: 'rmse',\n",
    "                                                                                          3: 'mae',\n",
    "                                                                                          4: 'mape'})\n",
    "resultado_polinomial_elastic_teste.insert(0, 'dados', 'teste')\n",
    "resultado_polinomial_elastic_teste.insert(0, 'algoritmo', 'polinomial regression elastic')\n",
    "resultado_polinomial_elastic_teste"
   ]
  },
  {
   "cell_type": "code",
   "execution_count": 67,
   "id": "5f907ad4-1847-4936-aec1-e45cddb48adc",
   "metadata": {},
   "outputs": [
    {
     "data": {
      "text/html": [
       "<div>\n",
       "<style scoped>\n",
       "    .dataframe tbody tr th:only-of-type {\n",
       "        vertical-align: middle;\n",
       "    }\n",
       "\n",
       "    .dataframe tbody tr th {\n",
       "        vertical-align: top;\n",
       "    }\n",
       "\n",
       "    .dataframe thead th {\n",
       "        text-align: right;\n",
       "    }\n",
       "</style>\n",
       "<table border=\"1\" class=\"dataframe\">\n",
       "  <thead>\n",
       "    <tr style=\"text-align: right;\">\n",
       "      <th></th>\n",
       "      <th>algoritmo</th>\n",
       "      <th>dados</th>\n",
       "      <th>r_2</th>\n",
       "      <th>mse</th>\n",
       "      <th>rmse</th>\n",
       "      <th>mae</th>\n",
       "      <th>mape</th>\n",
       "    </tr>\n",
       "  </thead>\n",
       "  <tbody>\n",
       "    <tr>\n",
       "      <th>0</th>\n",
       "      <td>polinomial regression elastic</td>\n",
       "      <td>treino</td>\n",
       "      <td>0.017936</td>\n",
       "      <td>469.439018</td>\n",
       "      <td>21.666541</td>\n",
       "      <td>17.189311</td>\n",
       "      <td>8.594211</td>\n",
       "    </tr>\n",
       "    <tr>\n",
       "      <th>0</th>\n",
       "      <td>polinomial regression elastic</td>\n",
       "      <td>validacao</td>\n",
       "      <td>0.015255</td>\n",
       "      <td>470.227350</td>\n",
       "      <td>21.684726</td>\n",
       "      <td>17.160746</td>\n",
       "      <td>8.658599</td>\n",
       "    </tr>\n",
       "    <tr>\n",
       "      <th>0</th>\n",
       "      <td>polinomial regression elastic</td>\n",
       "      <td>teste</td>\n",
       "      <td>-0.000710</td>\n",
       "      <td>487.246668</td>\n",
       "      <td>22.073665</td>\n",
       "      <td>17.412697</td>\n",
       "      <td>8.752562</td>\n",
       "    </tr>\n",
       "  </tbody>\n",
       "</table>\n",
       "</div>"
      ],
      "text/plain": [
       "                       algoritmo      dados       r_2         mse       rmse  \\\n",
       "0  polinomial regression elastic     treino  0.017936  469.439018  21.666541   \n",
       "0  polinomial regression elastic  validacao  0.015255  470.227350  21.684726   \n",
       "0  polinomial regression elastic      teste -0.000710  487.246668  22.073665   \n",
       "\n",
       "         mae      mape  \n",
       "0  17.189311  8.594211  \n",
       "0  17.160746  8.658599  \n",
       "0  17.412697  8.752562  "
      ]
     },
     "execution_count": 67,
     "metadata": {},
     "output_type": "execute_result"
    }
   ],
   "source": [
    "resultado_polinomial_elastic = pd.concat([resultado_polinomial_elastic_treino, resultado_polinomial_elastic_validacao, resultado_polinomial_elastic_teste])\n",
    "resultado_polinomial_elastic"
   ]
  },
  {
   "cell_type": "markdown",
   "id": "044c428a-1d44-4a21-bedc-d73da614a6ee",
   "metadata": {
    "tags": []
   },
   "source": [
    "## Resultado"
   ]
  },
  {
   "cell_type": "code",
   "execution_count": 68,
   "id": "e72a3914-6247-4bbf-8042-5e9e38366072",
   "metadata": {
    "tags": []
   },
   "outputs": [],
   "source": [
    "resultado = pd.concat([resultado_arvore, resultado_random,\n",
    "                       resultado_linear, resultado_linear_lasso,\n",
    "                       resultado_linear_ridge, resultado_linear_elastic,\n",
    "                       resultado_polinomial, resultado_polinomial_lasso,\n",
    "                       resultado_polinomial_ridge, resultado_polinomial_elastic])"
   ]
  },
  {
   "cell_type": "markdown",
   "id": "2ed1aa1d-2c8a-4a8e-8f90-965636e29883",
   "metadata": {
    "tags": []
   },
   "source": [
    "#### Treino"
   ]
  },
  {
   "cell_type": "code",
   "execution_count": 72,
   "id": "030cbd14-1436-4b1b-96ef-8c1ca6d6743c",
   "metadata": {
    "tags": []
   },
   "outputs": [
    {
     "data": {
      "text/html": [
       "<style type=\"text/css\">\n",
       "#T_4ce73_row0_col2, #T_4ce73_row3_col3, #T_4ce73_row3_col4, #T_4ce73_row3_col5, #T_4ce73_row3_col6 {\n",
       "  background-color: red;\n",
       "}\n",
       "</style>\n",
       "<table id=\"T_4ce73\">\n",
       "  <thead>\n",
       "    <tr>\n",
       "      <th class=\"blank level0\" >&nbsp;</th>\n",
       "      <th id=\"T_4ce73_level0_col0\" class=\"col_heading level0 col0\" >algoritmo</th>\n",
       "      <th id=\"T_4ce73_level0_col1\" class=\"col_heading level0 col1\" >dados</th>\n",
       "      <th id=\"T_4ce73_level0_col2\" class=\"col_heading level0 col2\" >r_2</th>\n",
       "      <th id=\"T_4ce73_level0_col3\" class=\"col_heading level0 col3\" >mse</th>\n",
       "      <th id=\"T_4ce73_level0_col4\" class=\"col_heading level0 col4\" >rmse</th>\n",
       "      <th id=\"T_4ce73_level0_col5\" class=\"col_heading level0 col5\" >mae</th>\n",
       "      <th id=\"T_4ce73_level0_col6\" class=\"col_heading level0 col6\" >mape</th>\n",
       "    </tr>\n",
       "  </thead>\n",
       "  <tbody>\n",
       "    <tr>\n",
       "      <th id=\"T_4ce73_level0_row0\" class=\"row_heading level0 row0\" >0</th>\n",
       "      <td id=\"T_4ce73_row0_col0\" class=\"data row0 col0\" >decision tree</td>\n",
       "      <td id=\"T_4ce73_row0_col1\" class=\"data row0 col1\" >treino</td>\n",
       "      <td id=\"T_4ce73_row0_col2\" class=\"data row0 col2\" >0.904085</td>\n",
       "      <td id=\"T_4ce73_row0_col3\" class=\"data row0 col3\" >45.848590</td>\n",
       "      <td id=\"T_4ce73_row0_col4\" class=\"data row0 col4\" >6.771159</td>\n",
       "      <td id=\"T_4ce73_row0_col5\" class=\"data row0 col5\" >2.775438</td>\n",
       "      <td id=\"T_4ce73_row0_col6\" class=\"data row0 col6\" >0.530053</td>\n",
       "    </tr>\n",
       "    <tr>\n",
       "      <th id=\"T_4ce73_level0_row1\" class=\"row_heading level0 row1\" >1</th>\n",
       "      <td id=\"T_4ce73_row1_col0\" class=\"data row1 col0\" >random forest</td>\n",
       "      <td id=\"T_4ce73_row1_col1\" class=\"data row1 col1\" >treino</td>\n",
       "      <td id=\"T_4ce73_row1_col2\" class=\"data row1 col2\" >0.102111</td>\n",
       "      <td id=\"T_4ce73_row1_col3\" class=\"data row1 col3\" >429.202263</td>\n",
       "      <td id=\"T_4ce73_row1_col4\" class=\"data row1 col4\" >20.717197</td>\n",
       "      <td id=\"T_4ce73_row1_col5\" class=\"data row1 col5\" >16.446413</td>\n",
       "      <td id=\"T_4ce73_row1_col6\" class=\"data row1 col6\" >8.259016</td>\n",
       "    </tr>\n",
       "    <tr>\n",
       "      <th id=\"T_4ce73_level0_row2\" class=\"row_heading level0 row2\" >2</th>\n",
       "      <td id=\"T_4ce73_row2_col0\" class=\"data row2 col0\" >linear regression</td>\n",
       "      <td id=\"T_4ce73_row2_col1\" class=\"data row2 col1\" >treino</td>\n",
       "      <td id=\"T_4ce73_row2_col2\" class=\"data row2 col2\" >0.046058</td>\n",
       "      <td id=\"T_4ce73_row2_col3\" class=\"data row2 col3\" >455.996112</td>\n",
       "      <td id=\"T_4ce73_row2_col4\" class=\"data row2 col4\" >21.354065</td>\n",
       "      <td id=\"T_4ce73_row2_col5\" class=\"data row2 col5\" >16.998249</td>\n",
       "      <td id=\"T_4ce73_row2_col6\" class=\"data row2 col6\" >8.653186</td>\n",
       "    </tr>\n",
       "    <tr>\n",
       "      <th id=\"T_4ce73_level0_row3\" class=\"row_heading level0 row3\" >3</th>\n",
       "      <td id=\"T_4ce73_row3_col0\" class=\"data row3 col0\" >linear regression lasso</td>\n",
       "      <td id=\"T_4ce73_row3_col1\" class=\"data row3 col1\" >treino</td>\n",
       "      <td id=\"T_4ce73_row3_col2\" class=\"data row3 col2\" >0.007401</td>\n",
       "      <td id=\"T_4ce73_row3_col3\" class=\"data row3 col3\" >474.474834</td>\n",
       "      <td id=\"T_4ce73_row3_col4\" class=\"data row3 col4\" >21.782443</td>\n",
       "      <td id=\"T_4ce73_row3_col5\" class=\"data row3 col5\" >17.305484</td>\n",
       "      <td id=\"T_4ce73_row3_col6\" class=\"data row3 col6\" >8.736697</td>\n",
       "    </tr>\n",
       "    <tr>\n",
       "      <th id=\"T_4ce73_level0_row4\" class=\"row_heading level0 row4\" >4</th>\n",
       "      <td id=\"T_4ce73_row4_col0\" class=\"data row4 col0\" >linear regression ridge</td>\n",
       "      <td id=\"T_4ce73_row4_col1\" class=\"data row4 col1\" >treino</td>\n",
       "      <td id=\"T_4ce73_row4_col2\" class=\"data row4 col2\" >0.046058</td>\n",
       "      <td id=\"T_4ce73_row4_col3\" class=\"data row4 col3\" >455.996401</td>\n",
       "      <td id=\"T_4ce73_row4_col4\" class=\"data row4 col4\" >21.354072</td>\n",
       "      <td id=\"T_4ce73_row4_col5\" class=\"data row4 col5\" >16.998308</td>\n",
       "      <td id=\"T_4ce73_row4_col6\" class=\"data row4 col6\" >8.653415</td>\n",
       "    </tr>\n",
       "    <tr>\n",
       "      <th id=\"T_4ce73_level0_row5\" class=\"row_heading level0 row5\" >5</th>\n",
       "      <td id=\"T_4ce73_row5_col0\" class=\"data row5 col0\" >linear regression elastic</td>\n",
       "      <td id=\"T_4ce73_row5_col1\" class=\"data row5 col1\" >treino</td>\n",
       "      <td id=\"T_4ce73_row5_col2\" class=\"data row5 col2\" >0.008096</td>\n",
       "      <td id=\"T_4ce73_row5_col3\" class=\"data row5 col3\" >474.142435</td>\n",
       "      <td id=\"T_4ce73_row5_col4\" class=\"data row5 col4\" >21.774812</td>\n",
       "      <td id=\"T_4ce73_row5_col5\" class=\"data row5 col5\" >17.296745</td>\n",
       "      <td id=\"T_4ce73_row5_col6\" class=\"data row5 col6\" >8.731581</td>\n",
       "    </tr>\n",
       "    <tr>\n",
       "      <th id=\"T_4ce73_level0_row6\" class=\"row_heading level0 row6\" >6</th>\n",
       "      <td id=\"T_4ce73_row6_col0\" class=\"data row6 col0\" >polinomial regression</td>\n",
       "      <td id=\"T_4ce73_row6_col1\" class=\"data row6 col1\" >treino</td>\n",
       "      <td id=\"T_4ce73_row6_col2\" class=\"data row6 col2\" >0.154418</td>\n",
       "      <td id=\"T_4ce73_row6_col3\" class=\"data row6 col3\" >404.198950</td>\n",
       "      <td id=\"T_4ce73_row6_col4\" class=\"data row6 col4\" >20.104700</td>\n",
       "      <td id=\"T_4ce73_row6_col5\" class=\"data row6 col5\" >15.883592</td>\n",
       "      <td id=\"T_4ce73_row6_col6\" class=\"data row6 col6\" >7.800181</td>\n",
       "    </tr>\n",
       "    <tr>\n",
       "      <th id=\"T_4ce73_level0_row7\" class=\"row_heading level0 row7\" >7</th>\n",
       "      <td id=\"T_4ce73_row7_col0\" class=\"data row7 col0\" >polinomial regression lasso</td>\n",
       "      <td id=\"T_4ce73_row7_col1\" class=\"data row7 col1\" >treino</td>\n",
       "      <td id=\"T_4ce73_row7_col2\" class=\"data row7 col2\" >0.014084</td>\n",
       "      <td id=\"T_4ce73_row7_col3\" class=\"data row7 col3\" >471.280382</td>\n",
       "      <td id=\"T_4ce73_row7_col4\" class=\"data row7 col4\" >21.708993</td>\n",
       "      <td id=\"T_4ce73_row7_col5\" class=\"data row7 col5\" >17.229625</td>\n",
       "      <td id=\"T_4ce73_row7_col6\" class=\"data row7 col6\" >8.648566</td>\n",
       "    </tr>\n",
       "    <tr>\n",
       "      <th id=\"T_4ce73_level0_row8\" class=\"row_heading level0 row8\" >8</th>\n",
       "      <td id=\"T_4ce73_row8_col0\" class=\"data row8 col0\" >polinomial regression ridge</td>\n",
       "      <td id=\"T_4ce73_row8_col1\" class=\"data row8 col1\" >treino</td>\n",
       "      <td id=\"T_4ce73_row8_col2\" class=\"data row8 col2\" >0.135169</td>\n",
       "      <td id=\"T_4ce73_row8_col3\" class=\"data row8 col3\" >413.400281</td>\n",
       "      <td id=\"T_4ce73_row8_col4\" class=\"data row8 col4\" >20.332247</td>\n",
       "      <td id=\"T_4ce73_row8_col5\" class=\"data row8 col5\" >16.065341</td>\n",
       "      <td id=\"T_4ce73_row8_col6\" class=\"data row8 col6\" >8.036622</td>\n",
       "    </tr>\n",
       "    <tr>\n",
       "      <th id=\"T_4ce73_level0_row9\" class=\"row_heading level0 row9\" >9</th>\n",
       "      <td id=\"T_4ce73_row9_col0\" class=\"data row9 col0\" >polinomial regression elastic</td>\n",
       "      <td id=\"T_4ce73_row9_col1\" class=\"data row9 col1\" >treino</td>\n",
       "      <td id=\"T_4ce73_row9_col2\" class=\"data row9 col2\" >0.017936</td>\n",
       "      <td id=\"T_4ce73_row9_col3\" class=\"data row9 col3\" >469.439018</td>\n",
       "      <td id=\"T_4ce73_row9_col4\" class=\"data row9 col4\" >21.666541</td>\n",
       "      <td id=\"T_4ce73_row9_col5\" class=\"data row9 col5\" >17.189311</td>\n",
       "      <td id=\"T_4ce73_row9_col6\" class=\"data row9 col6\" >8.594211</td>\n",
       "    </tr>\n",
       "  </tbody>\n",
       "</table>\n"
      ],
      "text/plain": [
       "<pandas.io.formats.style.Styler at 0x24800701690>"
      ]
     },
     "execution_count": 72,
     "metadata": {},
     "output_type": "execute_result"
    }
   ],
   "source": [
    "resultado_treino = resultado.loc[resultado['dados'] == 'treino'].reset_index(drop = True)\n",
    "resultado_treino.style.highlight_max(subset = ['r_2', 'mse', 'rmse', 'mae', 'mape'], color = 'red')"
   ]
  },
  {
   "cell_type": "markdown",
   "id": "a54b5ec8-12f8-4b9e-bc15-1775a07985ca",
   "metadata": {
    "tags": []
   },
   "source": [
    "#### Validação"
   ]
  },
  {
   "cell_type": "code",
   "execution_count": 70,
   "id": "8c8fd024-bdd6-42fa-9e55-ddd1ab9ba1b7",
   "metadata": {
    "tags": []
   },
   "outputs": [
    {
     "data": {
      "text/html": [
       "<style type=\"text/css\">\n",
       "#T_8619c_row1_col2, #T_8619c_row3_col5, #T_8619c_row3_col6, #T_8619c_row8_col3, #T_8619c_row8_col4 {\n",
       "  background-color: red;\n",
       "}\n",
       "</style>\n",
       "<table id=\"T_8619c\">\n",
       "  <thead>\n",
       "    <tr>\n",
       "      <th class=\"blank level0\" >&nbsp;</th>\n",
       "      <th id=\"T_8619c_level0_col0\" class=\"col_heading level0 col0\" >algoritmo</th>\n",
       "      <th id=\"T_8619c_level0_col1\" class=\"col_heading level0 col1\" >dados</th>\n",
       "      <th id=\"T_8619c_level0_col2\" class=\"col_heading level0 col2\" >r_2</th>\n",
       "      <th id=\"T_8619c_level0_col3\" class=\"col_heading level0 col3\" >mse</th>\n",
       "      <th id=\"T_8619c_level0_col4\" class=\"col_heading level0 col4\" >rmse</th>\n",
       "      <th id=\"T_8619c_level0_col5\" class=\"col_heading level0 col5\" >mae</th>\n",
       "      <th id=\"T_8619c_level0_col6\" class=\"col_heading level0 col6\" >mape</th>\n",
       "    </tr>\n",
       "  </thead>\n",
       "  <tbody>\n",
       "    <tr>\n",
       "      <th id=\"T_8619c_level0_row0\" class=\"row_heading level0 row0\" >0</th>\n",
       "      <td id=\"T_8619c_row0_col0\" class=\"data row0 col0\" >decision tree</td>\n",
       "      <td id=\"T_8619c_row0_col1\" class=\"data row0 col1\" >validacao</td>\n",
       "      <td id=\"T_8619c_row0_col2\" class=\"data row0 col2\" >0.063559</td>\n",
       "      <td id=\"T_8619c_row0_col3\" class=\"data row0 col3\" >447.161319</td>\n",
       "      <td id=\"T_8619c_row0_col4\" class=\"data row0 col4\" >21.146189</td>\n",
       "      <td id=\"T_8619c_row0_col5\" class=\"data row0 col5\" >16.843452</td>\n",
       "      <td id=\"T_8619c_row0_col6\" class=\"data row0 col6\" >8.395778</td>\n",
       "    </tr>\n",
       "    <tr>\n",
       "      <th id=\"T_8619c_level0_row1\" class=\"row_heading level0 row1\" >1</th>\n",
       "      <td id=\"T_8619c_row1_col0\" class=\"data row1 col0\" >random forest</td>\n",
       "      <td id=\"T_8619c_row1_col1\" class=\"data row1 col1\" >validacao</td>\n",
       "      <td id=\"T_8619c_row1_col2\" class=\"data row1 col2\" >0.078941</td>\n",
       "      <td id=\"T_8619c_row1_col3\" class=\"data row1 col3\" >439.816143</td>\n",
       "      <td id=\"T_8619c_row1_col4\" class=\"data row1 col4\" >20.971794</td>\n",
       "      <td id=\"T_8619c_row1_col5\" class=\"data row1 col5\" >16.708369</td>\n",
       "      <td id=\"T_8619c_row1_col6\" class=\"data row1 col6\" >8.421289</td>\n",
       "    </tr>\n",
       "    <tr>\n",
       "      <th id=\"T_8619c_level0_row2\" class=\"row_heading level0 row2\" >2</th>\n",
       "      <td id=\"T_8619c_row2_col0\" class=\"data row2 col0\" >linear regression</td>\n",
       "      <td id=\"T_8619c_row2_col1\" class=\"data row2 col1\" >validacao</td>\n",
       "      <td id=\"T_8619c_row2_col2\" class=\"data row2 col2\" >0.039925</td>\n",
       "      <td id=\"T_8619c_row2_col3\" class=\"data row2 col3\" >458.447042</td>\n",
       "      <td id=\"T_8619c_row2_col4\" class=\"data row2 col4\" >21.411376</td>\n",
       "      <td id=\"T_8619c_row2_col5\" class=\"data row2 col5\" >17.039754</td>\n",
       "      <td id=\"T_8619c_row2_col6\" class=\"data row2 col6\" >8.682542</td>\n",
       "    </tr>\n",
       "    <tr>\n",
       "      <th id=\"T_8619c_level0_row3\" class=\"row_heading level0 row3\" >3</th>\n",
       "      <td id=\"T_8619c_row3_col0\" class=\"data row3 col0\" >linear regression lasso</td>\n",
       "      <td id=\"T_8619c_row3_col1\" class=\"data row3 col1\" >validacao</td>\n",
       "      <td id=\"T_8619c_row3_col2\" class=\"data row3 col2\" >0.007884</td>\n",
       "      <td id=\"T_8619c_row3_col3\" class=\"data row3 col3\" >473.747081</td>\n",
       "      <td id=\"T_8619c_row3_col4\" class=\"data row3 col4\" >21.765732</td>\n",
       "      <td id=\"T_8619c_row3_col5\" class=\"data row3 col5\" >17.264922</td>\n",
       "      <td id=\"T_8619c_row3_col6\" class=\"data row3 col6\" >8.695808</td>\n",
       "    </tr>\n",
       "    <tr>\n",
       "      <th id=\"T_8619c_level0_row4\" class=\"row_heading level0 row4\" >4</th>\n",
       "      <td id=\"T_8619c_row4_col0\" class=\"data row4 col0\" >linear regression ridge</td>\n",
       "      <td id=\"T_8619c_row4_col1\" class=\"data row4 col1\" >validacao</td>\n",
       "      <td id=\"T_8619c_row4_col2\" class=\"data row4 col2\" >0.039928</td>\n",
       "      <td id=\"T_8619c_row4_col3\" class=\"data row4 col3\" >458.445477</td>\n",
       "      <td id=\"T_8619c_row4_col4\" class=\"data row4 col4\" >21.411340</td>\n",
       "      <td id=\"T_8619c_row4_col5\" class=\"data row4 col5\" >17.039472</td>\n",
       "      <td id=\"T_8619c_row4_col6\" class=\"data row4 col6\" >8.682412</td>\n",
       "    </tr>\n",
       "    <tr>\n",
       "      <th id=\"T_8619c_level0_row5\" class=\"row_heading level0 row5\" >5</th>\n",
       "      <td id=\"T_8619c_row5_col0\" class=\"data row5 col0\" >linear regression elastic</td>\n",
       "      <td id=\"T_8619c_row5_col1\" class=\"data row5 col1\" >validacao</td>\n",
       "      <td id=\"T_8619c_row5_col2\" class=\"data row5 col2\" >0.008342</td>\n",
       "      <td id=\"T_8619c_row5_col3\" class=\"data row5 col3\" >473.528157</td>\n",
       "      <td id=\"T_8619c_row5_col4\" class=\"data row5 col4\" >21.760702</td>\n",
       "      <td id=\"T_8619c_row5_col5\" class=\"data row5 col5\" >17.261015</td>\n",
       "      <td id=\"T_8619c_row5_col6\" class=\"data row5 col6\" >8.692446</td>\n",
       "    </tr>\n",
       "    <tr>\n",
       "      <th id=\"T_8619c_level0_row6\" class=\"row_heading level0 row6\" >6</th>\n",
       "      <td id=\"T_8619c_row6_col0\" class=\"data row6 col0\" >polinomial regression</td>\n",
       "      <td id=\"T_8619c_row6_col1\" class=\"data row6 col1\" >validacao</td>\n",
       "      <td id=\"T_8619c_row6_col2\" class=\"data row6 col2\" >0.066477</td>\n",
       "      <td id=\"T_8619c_row6_col3\" class=\"data row6 col3\" >445.768223</td>\n",
       "      <td id=\"T_8619c_row6_col4\" class=\"data row6 col4\" >21.113224</td>\n",
       "      <td id=\"T_8619c_row6_col5\" class=\"data row6 col5\" >16.749939</td>\n",
       "      <td id=\"T_8619c_row6_col6\" class=\"data row6 col6\" >8.547931</td>\n",
       "    </tr>\n",
       "    <tr>\n",
       "      <th id=\"T_8619c_level0_row7\" class=\"row_heading level0 row7\" >7</th>\n",
       "      <td id=\"T_8619c_row7_col0\" class=\"data row7 col0\" >polinomial regression lasso</td>\n",
       "      <td id=\"T_8619c_row7_col1\" class=\"data row7 col1\" >validacao</td>\n",
       "      <td id=\"T_8619c_row7_col2\" class=\"data row7 col2\" >0.014148</td>\n",
       "      <td id=\"T_8619c_row7_col3\" class=\"data row7 col3\" >470.755769</td>\n",
       "      <td id=\"T_8619c_row7_col4\" class=\"data row7 col4\" >21.696907</td>\n",
       "      <td id=\"T_8619c_row7_col5\" class=\"data row7 col5\" >17.180595</td>\n",
       "      <td id=\"T_8619c_row7_col6\" class=\"data row7 col6\" >8.655828</td>\n",
       "    </tr>\n",
       "    <tr>\n",
       "      <th id=\"T_8619c_level0_row8\" class=\"row_heading level0 row8\" >8</th>\n",
       "      <td id=\"T_8619c_row8_col0\" class=\"data row8 col0\" >polinomial regression ridge</td>\n",
       "      <td id=\"T_8619c_row8_col1\" class=\"data row8 col1\" >validacao</td>\n",
       "      <td id=\"T_8619c_row8_col2\" class=\"data row8 col2\" >-0.070640</td>\n",
       "      <td id=\"T_8619c_row8_col3\" class=\"data row8 col3\" >511.242963</td>\n",
       "      <td id=\"T_8619c_row8_col4\" class=\"data row8 col4\" >22.610682</td>\n",
       "      <td id=\"T_8619c_row8_col5\" class=\"data row8 col5\" >16.835024</td>\n",
       "      <td id=\"T_8619c_row8_col6\" class=\"data row8 col6\" >8.535142</td>\n",
       "    </tr>\n",
       "    <tr>\n",
       "      <th id=\"T_8619c_level0_row9\" class=\"row_heading level0 row9\" >9</th>\n",
       "      <td id=\"T_8619c_row9_col0\" class=\"data row9 col0\" >polinomial regression elastic</td>\n",
       "      <td id=\"T_8619c_row9_col1\" class=\"data row9 col1\" >validacao</td>\n",
       "      <td id=\"T_8619c_row9_col2\" class=\"data row9 col2\" >0.015255</td>\n",
       "      <td id=\"T_8619c_row9_col3\" class=\"data row9 col3\" >470.227350</td>\n",
       "      <td id=\"T_8619c_row9_col4\" class=\"data row9 col4\" >21.684726</td>\n",
       "      <td id=\"T_8619c_row9_col5\" class=\"data row9 col5\" >17.160746</td>\n",
       "      <td id=\"T_8619c_row9_col6\" class=\"data row9 col6\" >8.658599</td>\n",
       "    </tr>\n",
       "  </tbody>\n",
       "</table>\n"
      ],
      "text/plain": [
       "<pandas.io.formats.style.Styler at 0x24800779490>"
      ]
     },
     "execution_count": 70,
     "metadata": {},
     "output_type": "execute_result"
    }
   ],
   "source": [
    "resultado_validacao = resultado.loc[resultado['dados'] == 'validacao'].reset_index(drop = True)\n",
    "resultado_validacao.style.highlight_max(subset = ['r_2', 'mse', 'rmse', 'mae', 'mape'], color = 'red')"
   ]
  },
  {
   "cell_type": "markdown",
   "id": "0e9464ef-7751-4fe9-9726-8b3e87f7c08a",
   "metadata": {
    "tags": []
   },
   "source": [
    "#### Teste"
   ]
  },
  {
   "cell_type": "code",
   "execution_count": 71,
   "id": "c4dd1fb2-d416-46c8-8fc6-089adbdb28dc",
   "metadata": {
    "tags": []
   },
   "outputs": [
    {
     "data": {
      "text/html": [
       "<style type=\"text/css\">\n",
       "#T_1b90f_row3_col5, #T_1b90f_row6_col2, #T_1b90f_row7_col3, #T_1b90f_row7_col4, #T_1b90f_row7_col6 {\n",
       "  background-color: red;\n",
       "}\n",
       "</style>\n",
       "<table id=\"T_1b90f\">\n",
       "  <thead>\n",
       "    <tr>\n",
       "      <th class=\"blank level0\" >&nbsp;</th>\n",
       "      <th id=\"T_1b90f_level0_col0\" class=\"col_heading level0 col0\" >algoritmo</th>\n",
       "      <th id=\"T_1b90f_level0_col1\" class=\"col_heading level0 col1\" >dados</th>\n",
       "      <th id=\"T_1b90f_level0_col2\" class=\"col_heading level0 col2\" >r_2</th>\n",
       "      <th id=\"T_1b90f_level0_col3\" class=\"col_heading level0 col3\" >mse</th>\n",
       "      <th id=\"T_1b90f_level0_col4\" class=\"col_heading level0 col4\" >rmse</th>\n",
       "      <th id=\"T_1b90f_level0_col5\" class=\"col_heading level0 col5\" >mae</th>\n",
       "      <th id=\"T_1b90f_level0_col6\" class=\"col_heading level0 col6\" >mape</th>\n",
       "    </tr>\n",
       "  </thead>\n",
       "  <tbody>\n",
       "    <tr>\n",
       "      <th id=\"T_1b90f_level0_row0\" class=\"row_heading level0 row0\" >0</th>\n",
       "      <td id=\"T_1b90f_row0_col0\" class=\"data row0 col0\" >decision tree</td>\n",
       "      <td id=\"T_1b90f_row0_col1\" class=\"data row0 col1\" >teste</td>\n",
       "      <td id=\"T_1b90f_row0_col2\" class=\"data row0 col2\" >0.090475</td>\n",
       "      <td id=\"T_1b90f_row0_col3\" class=\"data row0 col3\" >442.848381</td>\n",
       "      <td id=\"T_1b90f_row0_col4\" class=\"data row0 col4\" >21.043963</td>\n",
       "      <td id=\"T_1b90f_row0_col5\" class=\"data row0 col5\" >16.829781</td>\n",
       "      <td id=\"T_1b90f_row0_col6\" class=\"data row0 col6\" >7.883226</td>\n",
       "    </tr>\n",
       "    <tr>\n",
       "      <th id=\"T_1b90f_level0_row1\" class=\"row_heading level0 row1\" >1</th>\n",
       "      <td id=\"T_1b90f_row1_col0\" class=\"data row1 col0\" >random forest</td>\n",
       "      <td id=\"T_1b90f_row1_col1\" class=\"data row1 col1\" >teste</td>\n",
       "      <td id=\"T_1b90f_row1_col2\" class=\"data row1 col2\" >0.084106</td>\n",
       "      <td id=\"T_1b90f_row1_col3\" class=\"data row1 col3\" >445.949495</td>\n",
       "      <td id=\"T_1b90f_row1_col4\" class=\"data row1 col4\" >21.117516</td>\n",
       "      <td id=\"T_1b90f_row1_col5\" class=\"data row1 col5\" >16.857930</td>\n",
       "      <td id=\"T_1b90f_row1_col6\" class=\"data row1 col6\" >8.177958</td>\n",
       "    </tr>\n",
       "    <tr>\n",
       "      <th id=\"T_1b90f_level0_row2\" class=\"row_heading level0 row2\" >2</th>\n",
       "      <td id=\"T_1b90f_row2_col0\" class=\"data row2 col0\" >linear regression</td>\n",
       "      <td id=\"T_1b90f_row2_col1\" class=\"data row2 col1\" >teste</td>\n",
       "      <td id=\"T_1b90f_row2_col2\" class=\"data row2 col2\" >0.051166</td>\n",
       "      <td id=\"T_1b90f_row2_col3\" class=\"data row2 col3\" >461.988435</td>\n",
       "      <td id=\"T_1b90f_row2_col4\" class=\"data row2 col4\" >21.493916</td>\n",
       "      <td id=\"T_1b90f_row2_col5\" class=\"data row2 col5\" >17.144197</td>\n",
       "      <td id=\"T_1b90f_row2_col6\" class=\"data row2 col6\" >8.531355</td>\n",
       "    </tr>\n",
       "    <tr>\n",
       "      <th id=\"T_1b90f_level0_row3\" class=\"row_heading level0 row3\" >3</th>\n",
       "      <td id=\"T_1b90f_row3_col0\" class=\"data row3 col0\" >linear regression lasso</td>\n",
       "      <td id=\"T_1b90f_row3_col1\" class=\"data row3 col1\" >teste</td>\n",
       "      <td id=\"T_1b90f_row3_col2\" class=\"data row3 col2\" >0.007814</td>\n",
       "      <td id=\"T_1b90f_row3_col3\" class=\"data row3 col3\" >483.096411</td>\n",
       "      <td id=\"T_1b90f_row3_col4\" class=\"data row3 col4\" >21.979454</td>\n",
       "      <td id=\"T_1b90f_row3_col5\" class=\"data row3 col5\" >17.472410</td>\n",
       "      <td id=\"T_1b90f_row3_col6\" class=\"data row3 col6\" >8.752995</td>\n",
       "    </tr>\n",
       "    <tr>\n",
       "      <th id=\"T_1b90f_level0_row4\" class=\"row_heading level0 row4\" >4</th>\n",
       "      <td id=\"T_1b90f_row4_col0\" class=\"data row4 col0\" >linear regression ridge</td>\n",
       "      <td id=\"T_1b90f_row4_col1\" class=\"data row4 col1\" >teste</td>\n",
       "      <td id=\"T_1b90f_row4_col2\" class=\"data row4 col2\" >0.051167</td>\n",
       "      <td id=\"T_1b90f_row4_col3\" class=\"data row4 col3\" >461.987772</td>\n",
       "      <td id=\"T_1b90f_row4_col4\" class=\"data row4 col4\" >21.493901</td>\n",
       "      <td id=\"T_1b90f_row4_col5\" class=\"data row4 col5\" >17.143954</td>\n",
       "      <td id=\"T_1b90f_row4_col6\" class=\"data row4 col6\" >8.532046</td>\n",
       "    </tr>\n",
       "    <tr>\n",
       "      <th id=\"T_1b90f_level0_row5\" class=\"row_heading level0 row5\" >5</th>\n",
       "      <td id=\"T_1b90f_row5_col0\" class=\"data row5 col0\" >linear regression elastic</td>\n",
       "      <td id=\"T_1b90f_row5_col1\" class=\"data row5 col1\" >teste</td>\n",
       "      <td id=\"T_1b90f_row5_col2\" class=\"data row5 col2\" >0.008255</td>\n",
       "      <td id=\"T_1b90f_row5_col3\" class=\"data row5 col3\" >482.881497</td>\n",
       "      <td id=\"T_1b90f_row5_col4\" class=\"data row5 col4\" >21.974565</td>\n",
       "      <td id=\"T_1b90f_row5_col5\" class=\"data row5 col5\" >17.467771</td>\n",
       "      <td id=\"T_1b90f_row5_col6\" class=\"data row5 col6\" >8.743041</td>\n",
       "    </tr>\n",
       "    <tr>\n",
       "      <th id=\"T_1b90f_level0_row6\" class=\"row_heading level0 row6\" >6</th>\n",
       "      <td id=\"T_1b90f_row6_col0\" class=\"data row6 col0\" >polinomial regression</td>\n",
       "      <td id=\"T_1b90f_row6_col1\" class=\"data row6 col1\" >teste</td>\n",
       "      <td id=\"T_1b90f_row6_col2\" class=\"data row6 col2\" >0.090901</td>\n",
       "      <td id=\"T_1b90f_row6_col3\" class=\"data row6 col3\" >442.641386</td>\n",
       "      <td id=\"T_1b90f_row6_col4\" class=\"data row6 col4\" >21.039044</td>\n",
       "      <td id=\"T_1b90f_row6_col5\" class=\"data row6 col5\" >16.736414</td>\n",
       "      <td id=\"T_1b90f_row6_col6\" class=\"data row6 col6\" >8.276972</td>\n",
       "    </tr>\n",
       "    <tr>\n",
       "      <th id=\"T_1b90f_level0_row7\" class=\"row_heading level0 row7\" >7</th>\n",
       "      <td id=\"T_1b90f_row7_col0\" class=\"data row7 col0\" >polinomial regression lasso</td>\n",
       "      <td id=\"T_1b90f_row7_col1\" class=\"data row7 col1\" >teste</td>\n",
       "      <td id=\"T_1b90f_row7_col2\" class=\"data row7 col2\" >-0.001276</td>\n",
       "      <td id=\"T_1b90f_row7_col3\" class=\"data row7 col3\" >487.522423</td>\n",
       "      <td id=\"T_1b90f_row7_col4\" class=\"data row7 col4\" >22.079910</td>\n",
       "      <td id=\"T_1b90f_row7_col5\" class=\"data row7 col5\" >17.440768</td>\n",
       "      <td id=\"T_1b90f_row7_col6\" class=\"data row7 col6\" >8.755603</td>\n",
       "    </tr>\n",
       "    <tr>\n",
       "      <th id=\"T_1b90f_level0_row8\" class=\"row_heading level0 row8\" >8</th>\n",
       "      <td id=\"T_1b90f_row8_col0\" class=\"data row8 col0\" >polinomial regression ridge</td>\n",
       "      <td id=\"T_1b90f_row8_col1\" class=\"data row8 col1\" >teste</td>\n",
       "      <td id=\"T_1b90f_row8_col2\" class=\"data row8 col2\" >0.026821</td>\n",
       "      <td id=\"T_1b90f_row8_col3\" class=\"data row8 col3\" >473.841665</td>\n",
       "      <td id=\"T_1b90f_row8_col4\" class=\"data row8 col4\" >21.767904</td>\n",
       "      <td id=\"T_1b90f_row8_col5\" class=\"data row8 col5\" >16.734350</td>\n",
       "      <td id=\"T_1b90f_row8_col6\" class=\"data row8 col6\" >8.175951</td>\n",
       "    </tr>\n",
       "    <tr>\n",
       "      <th id=\"T_1b90f_level0_row9\" class=\"row_heading level0 row9\" >9</th>\n",
       "      <td id=\"T_1b90f_row9_col0\" class=\"data row9 col0\" >polinomial regression elastic</td>\n",
       "      <td id=\"T_1b90f_row9_col1\" class=\"data row9 col1\" >teste</td>\n",
       "      <td id=\"T_1b90f_row9_col2\" class=\"data row9 col2\" >-0.000710</td>\n",
       "      <td id=\"T_1b90f_row9_col3\" class=\"data row9 col3\" >487.246668</td>\n",
       "      <td id=\"T_1b90f_row9_col4\" class=\"data row9 col4\" >22.073665</td>\n",
       "      <td id=\"T_1b90f_row9_col5\" class=\"data row9 col5\" >17.412697</td>\n",
       "      <td id=\"T_1b90f_row9_col6\" class=\"data row9 col6\" >8.752562</td>\n",
       "    </tr>\n",
       "  </tbody>\n",
       "</table>\n"
      ],
      "text/plain": [
       "<pandas.io.formats.style.Styler at 0x248007ee650>"
      ]
     },
     "execution_count": 71,
     "metadata": {},
     "output_type": "execute_result"
    }
   ],
   "source": [
    "resultado_teste = resultado.loc[resultado['dados'] == 'teste'].reset_index(drop = True)\n",
    "resultado_teste.style.highlight_max(subset = ['r_2', 'mse', 'rmse', 'mae', 'mape'], color = 'red')"
   ]
  }
 ],
 "metadata": {
  "kernelspec": {
   "display_name": "Python 3 (ipykernel)",
   "language": "python",
   "name": "python3"
  },
  "language_info": {
   "codemirror_mode": {
    "name": "ipython",
    "version": 3
   },
   "file_extension": ".py",
   "mimetype": "text/x-python",
   "name": "python",
   "nbconvert_exporter": "python",
   "pygments_lexer": "ipython3",
   "version": "3.11.5"
  }
 },
 "nbformat": 4,
 "nbformat_minor": 5
}
